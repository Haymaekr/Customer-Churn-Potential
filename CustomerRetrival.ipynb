{
  "nbformat": 4,
  "nbformat_minor": 0,
  "metadata": {
    "colab": {
      "name": "CustomerRetrival.ipynb",
      "provenance": [],
      "collapsed_sections": []
    },
    "kernelspec": {
      "display_name": "Python 3",
      "name": "python3"
    },
    "language_info": {
      "name": "python"
    }
  },
  "cells": [
    {
      "cell_type": "markdown",
      "metadata": {
        "id": "cpfZlcr2od1I"
      },
      "source": [
        "# **Introduction to Problem Statement**\n",
        "The retail industry survives on its customers. The profit in the retail industry depends on the overall sales it does in a given period of time. In this time frame the retailer may gain or lose its customers to competitors. Losing a customer is called Churning. Churning is a bane to most retailers. Customer churn occurs when a customer stops using a retailer’s product, stops visiting a particular retail store, switches to lower-tier experience or switches to competitor’s products. Retailers need a sure-shot strategy to manage customer churn. Measuring the churn rate is quite crucial for retail businesses as it reflects customer response towards the product, service, price and customer satisfaction. Customer churn minimizes the profit quotient of the business and may result in negative marketing of the brand/store and increases the cost of new acquisition.\n",
        "\n",
        "It is possible to understand the customer based on the customer's transaction data containing the characteristics of customers, the interactions with them  and so on. Customer churn predictions help the retail company devise suitable marketing programs to target specific groups of retail customers as part of continued engagement and take proactive steps to prevent churning.\n",
        "\n",
        "This project offers much needed insights to minimize churning and predicts the possibility of churning based on historical data.\n"
      ]
    },
    {
      "cell_type": "markdown",
      "metadata": {
        "id": "cQPDm5r2oxro"
      },
      "source": [
        "# **Data Understanding**\n",
        "We have three distinct data sets. \n",
        "\n",
        "The Customer data - That contains data related to the customer, obtained during  registration and the preferences that could be updated at any stage.\n",
        "\n",
        "Transaction Data - Data related to the transactions carried on by customers\n",
        "\n",
        "Email Data -  Data related to the emails sent by the retailer to the customer to maintain good customer relations. "
      ]
    },
    {
      "cell_type": "code",
      "metadata": {
        "id": "auMqqwxoqo-d"
      },
      "source": [
        "# Importing Libraries\n",
        "import numpy as np\n",
        "import pandas as pd\n",
        "import matplotlib.pyplot as plt\n",
        "\n",
        "import seaborn as sns"
      ],
      "execution_count": 152,
      "outputs": []
    },
    {
      "cell_type": "code",
      "metadata": {
        "id": "l8Er4r3RERhU"
      },
      "source": [
        "cust_data = pd.read_excel(\"/content/drive/MyDrive/DataSets/CustData.xlsx\")"
      ],
      "execution_count": 153,
      "outputs": []
    },
    {
      "cell_type": "code",
      "metadata": {
        "colab": {
          "base_uri": "https://localhost:8080/",
          "height": 204
        },
        "id": "AlphOA63EaMr",
        "outputId": "16c02d9d-e162-4fa6-ef7a-e6799aafd2ac"
      },
      "source": [
        "cust_data.head()"
      ],
      "execution_count": 154,
      "outputs": [
        {
          "output_type": "execute_result",
          "data": {
            "text/html": [
              "<div>\n",
              "<style scoped>\n",
              "    .dataframe tbody tr th:only-of-type {\n",
              "        vertical-align: middle;\n",
              "    }\n",
              "\n",
              "    .dataframe tbody tr th {\n",
              "        vertical-align: top;\n",
              "    }\n",
              "\n",
              "    .dataframe thead th {\n",
              "        text-align: right;\n",
              "    }\n",
              "</style>\n",
              "<table border=\"1\" class=\"dataframe\">\n",
              "  <thead>\n",
              "    <tr style=\"text-align: right;\">\n",
              "      <th></th>\n",
              "      <th>CustomerID</th>\n",
              "      <th>City</th>\n",
              "      <th>DateOfRegistration</th>\n",
              "      <th>OnlineCommunication</th>\n",
              "      <th>AutomaticRefill</th>\n",
              "      <th>DoorstepDelivery</th>\n",
              "      <th>PreferredDeliveryDay</th>\n",
              "    </tr>\n",
              "  </thead>\n",
              "  <tbody>\n",
              "    <tr>\n",
              "      <th>0</th>\n",
              "      <td>C16368</td>\n",
              "      <td>CITY2</td>\n",
              "      <td>2012-09-28</td>\n",
              "      <td>0</td>\n",
              "      <td>0</td>\n",
              "      <td>0</td>\n",
              "      <td>Monday</td>\n",
              "    </tr>\n",
              "    <tr>\n",
              "      <th>1</th>\n",
              "      <td>C20345</td>\n",
              "      <td>CITY2</td>\n",
              "      <td>2010-12-19</td>\n",
              "      <td>1</td>\n",
              "      <td>1</td>\n",
              "      <td>1</td>\n",
              "      <td>Friday</td>\n",
              "    </tr>\n",
              "    <tr>\n",
              "      <th>2</th>\n",
              "      <td>C17683</td>\n",
              "      <td>CITY2</td>\n",
              "      <td>2010-10-03</td>\n",
              "      <td>0</td>\n",
              "      <td>0</td>\n",
              "      <td>0</td>\n",
              "      <td>Wednesday</td>\n",
              "    </tr>\n",
              "    <tr>\n",
              "      <th>3</th>\n",
              "      <td>C18647</td>\n",
              "      <td>CITY4</td>\n",
              "      <td>2010-11-27</td>\n",
              "      <td>0</td>\n",
              "      <td>0</td>\n",
              "      <td>0</td>\n",
              "      <td>Monday</td>\n",
              "    </tr>\n",
              "    <tr>\n",
              "      <th>4</th>\n",
              "      <td>C36692</td>\n",
              "      <td>CITY2</td>\n",
              "      <td>2009-12-04</td>\n",
              "      <td>1</td>\n",
              "      <td>1</td>\n",
              "      <td>0</td>\n",
              "      <td>Friday</td>\n",
              "    </tr>\n",
              "  </tbody>\n",
              "</table>\n",
              "</div>"
            ],
            "text/plain": [
              "  CustomerID   City  ... DoorstepDelivery  PreferredDeliveryDay\n",
              "0     C16368  CITY2  ...                0                Monday\n",
              "1     C20345  CITY2  ...                1                Friday\n",
              "2     C17683  CITY2  ...                0             Wednesday\n",
              "3     C18647  CITY4  ...                0                Monday\n",
              "4     C36692  CITY2  ...                0                Friday\n",
              "\n",
              "[5 rows x 7 columns]"
            ]
          },
          "metadata": {},
          "execution_count": 154
        }
      ]
    },
    {
      "cell_type": "code",
      "metadata": {
        "colab": {
          "base_uri": "https://localhost:8080/"
        },
        "id": "uQpUDlnmtjq0",
        "outputId": "cb02563e-03e4-4db6-c18d-13648606643f"
      },
      "source": [
        "# These are the columns in the Customer Data\n",
        "cust_data.columns"
      ],
      "execution_count": 155,
      "outputs": [
        {
          "output_type": "execute_result",
          "data": {
            "text/plain": [
              "Index(['CustomerID', 'City', 'DateOfRegistration', 'OnlineCommunication',\n",
              "       'AutomaticRefill', 'DoorstepDelivery', 'PreferredDeliveryDay'],\n",
              "      dtype='object')"
            ]
          },
          "metadata": {},
          "execution_count": 155
        }
      ]
    },
    {
      "cell_type": "markdown",
      "metadata": {
        "id": "avtH3IIztdbd"
      },
      "source": [
        "There are 23820 distinct customers "
      ]
    },
    {
      "cell_type": "code",
      "metadata": {
        "colab": {
          "base_uri": "https://localhost:8080/"
        },
        "id": "7ETLo6L_Efrb",
        "outputId": "fd24c7d1-4c95-4021-f94e-30f57f3d7b6b"
      },
      "source": [
        "cust_data[\"CustomerID\"].value_counts().sum()"
      ],
      "execution_count": 156,
      "outputs": [
        {
          "output_type": "execute_result",
          "data": {
            "text/plain": [
              "23820"
            ]
          },
          "metadata": {},
          "execution_count": 156
        }
      ]
    },
    {
      "cell_type": "code",
      "metadata": {
        "colab": {
          "base_uri": "https://localhost:8080/",
          "height": 506
        },
        "id": "Q99oFRv3Eiqz",
        "outputId": "b1b18d37-d16b-434d-8f9e-e80fd9c5092d"
      },
      "source": [
        "#Below are the descriptive statistics\n",
        "cust_data.describe(include=\"all\")"
      ],
      "execution_count": 157,
      "outputs": [
        {
          "output_type": "stream",
          "name": "stderr",
          "text": [
            "/usr/local/lib/python3.7/dist-packages/ipykernel_launcher.py:2: FutureWarning: Treating datetime data as categorical rather than numeric in `.describe` is deprecated and will be removed in a future version of pandas. Specify `datetime_is_numeric=True` to silence this warning and adopt the future behavior now.\n",
            "  \n"
          ]
        },
        {
          "output_type": "execute_result",
          "data": {
            "text/html": [
              "<div>\n",
              "<style scoped>\n",
              "    .dataframe tbody tr th:only-of-type {\n",
              "        vertical-align: middle;\n",
              "    }\n",
              "\n",
              "    .dataframe tbody tr th {\n",
              "        vertical-align: top;\n",
              "    }\n",
              "\n",
              "    .dataframe thead th {\n",
              "        text-align: right;\n",
              "    }\n",
              "</style>\n",
              "<table border=\"1\" class=\"dataframe\">\n",
              "  <thead>\n",
              "    <tr style=\"text-align: right;\">\n",
              "      <th></th>\n",
              "      <th>CustomerID</th>\n",
              "      <th>City</th>\n",
              "      <th>DateOfRegistration</th>\n",
              "      <th>OnlineCommunication</th>\n",
              "      <th>AutomaticRefill</th>\n",
              "      <th>DoorstepDelivery</th>\n",
              "      <th>PreferredDeliveryDay</th>\n",
              "    </tr>\n",
              "  </thead>\n",
              "  <tbody>\n",
              "    <tr>\n",
              "      <th>count</th>\n",
              "      <td>23820</td>\n",
              "      <td>23820</td>\n",
              "      <td>23820</td>\n",
              "      <td>23820.000000</td>\n",
              "      <td>23820.000000</td>\n",
              "      <td>23820.000000</td>\n",
              "      <td>23820</td>\n",
              "    </tr>\n",
              "    <tr>\n",
              "      <th>unique</th>\n",
              "      <td>23820</td>\n",
              "      <td>4</td>\n",
              "      <td>2673</td>\n",
              "      <td>NaN</td>\n",
              "      <td>NaN</td>\n",
              "      <td>NaN</td>\n",
              "      <td>7</td>\n",
              "    </tr>\n",
              "    <tr>\n",
              "      <th>top</th>\n",
              "      <td>C34706</td>\n",
              "      <td>CITY4</td>\n",
              "      <td>2012-08-28 00:00:00</td>\n",
              "      <td>NaN</td>\n",
              "      <td>NaN</td>\n",
              "      <td>NaN</td>\n",
              "      <td>Tuesday</td>\n",
              "    </tr>\n",
              "    <tr>\n",
              "      <th>freq</th>\n",
              "      <td>1</td>\n",
              "      <td>9143</td>\n",
              "      <td>356</td>\n",
              "      <td>NaN</td>\n",
              "      <td>NaN</td>\n",
              "      <td>NaN</td>\n",
              "      <td>5343</td>\n",
              "    </tr>\n",
              "    <tr>\n",
              "      <th>first</th>\n",
              "      <td>NaN</td>\n",
              "      <td>NaN</td>\n",
              "      <td>2008-06-17 00:00:00</td>\n",
              "      <td>NaN</td>\n",
              "      <td>NaN</td>\n",
              "      <td>NaN</td>\n",
              "      <td>NaN</td>\n",
              "    </tr>\n",
              "    <tr>\n",
              "      <th>last</th>\n",
              "      <td>NaN</td>\n",
              "      <td>NaN</td>\n",
              "      <td>2018-01-17 00:00:00</td>\n",
              "      <td>NaN</td>\n",
              "      <td>NaN</td>\n",
              "      <td>NaN</td>\n",
              "      <td>NaN</td>\n",
              "    </tr>\n",
              "    <tr>\n",
              "      <th>mean</th>\n",
              "      <td>NaN</td>\n",
              "      <td>NaN</td>\n",
              "      <td>NaN</td>\n",
              "      <td>0.660411</td>\n",
              "      <td>0.094710</td>\n",
              "      <td>0.037615</td>\n",
              "      <td>NaN</td>\n",
              "    </tr>\n",
              "    <tr>\n",
              "      <th>std</th>\n",
              "      <td>NaN</td>\n",
              "      <td>NaN</td>\n",
              "      <td>NaN</td>\n",
              "      <td>0.473580</td>\n",
              "      <td>0.292821</td>\n",
              "      <td>0.190268</td>\n",
              "      <td>NaN</td>\n",
              "    </tr>\n",
              "    <tr>\n",
              "      <th>min</th>\n",
              "      <td>NaN</td>\n",
              "      <td>NaN</td>\n",
              "      <td>NaN</td>\n",
              "      <td>0.000000</td>\n",
              "      <td>0.000000</td>\n",
              "      <td>0.000000</td>\n",
              "      <td>NaN</td>\n",
              "    </tr>\n",
              "    <tr>\n",
              "      <th>25%</th>\n",
              "      <td>NaN</td>\n",
              "      <td>NaN</td>\n",
              "      <td>NaN</td>\n",
              "      <td>0.000000</td>\n",
              "      <td>0.000000</td>\n",
              "      <td>0.000000</td>\n",
              "      <td>NaN</td>\n",
              "    </tr>\n",
              "    <tr>\n",
              "      <th>50%</th>\n",
              "      <td>NaN</td>\n",
              "      <td>NaN</td>\n",
              "      <td>NaN</td>\n",
              "      <td>1.000000</td>\n",
              "      <td>0.000000</td>\n",
              "      <td>0.000000</td>\n",
              "      <td>NaN</td>\n",
              "    </tr>\n",
              "    <tr>\n",
              "      <th>75%</th>\n",
              "      <td>NaN</td>\n",
              "      <td>NaN</td>\n",
              "      <td>NaN</td>\n",
              "      <td>1.000000</td>\n",
              "      <td>0.000000</td>\n",
              "      <td>0.000000</td>\n",
              "      <td>NaN</td>\n",
              "    </tr>\n",
              "    <tr>\n",
              "      <th>max</th>\n",
              "      <td>NaN</td>\n",
              "      <td>NaN</td>\n",
              "      <td>NaN</td>\n",
              "      <td>1.000000</td>\n",
              "      <td>1.000000</td>\n",
              "      <td>1.000000</td>\n",
              "      <td>NaN</td>\n",
              "    </tr>\n",
              "  </tbody>\n",
              "</table>\n",
              "</div>"
            ],
            "text/plain": [
              "       CustomerID   City  ... DoorstepDelivery  PreferredDeliveryDay\n",
              "count       23820  23820  ...     23820.000000                 23820\n",
              "unique      23820      4  ...              NaN                     7\n",
              "top        C34706  CITY4  ...              NaN               Tuesday\n",
              "freq            1   9143  ...              NaN                  5343\n",
              "first         NaN    NaN  ...              NaN                   NaN\n",
              "last          NaN    NaN  ...              NaN                   NaN\n",
              "mean          NaN    NaN  ...         0.037615                   NaN\n",
              "std           NaN    NaN  ...         0.190268                   NaN\n",
              "min           NaN    NaN  ...         0.000000                   NaN\n",
              "25%           NaN    NaN  ...         0.000000                   NaN\n",
              "50%           NaN    NaN  ...         0.000000                   NaN\n",
              "75%           NaN    NaN  ...         0.000000                   NaN\n",
              "max           NaN    NaN  ...         1.000000                   NaN\n",
              "\n",
              "[13 rows x 7 columns]"
            ]
          },
          "metadata": {},
          "execution_count": 157
        }
      ]
    },
    {
      "cell_type": "code",
      "metadata": {
        "id": "-PPVIp-1E0IL"
      },
      "source": [
        "email = pd.read_excel(\"/content/drive/MyDrive/DataSets/EmailData.xlsx\")"
      ],
      "execution_count": 158,
      "outputs": []
    },
    {
      "cell_type": "code",
      "metadata": {
        "colab": {
          "base_uri": "https://localhost:8080/",
          "height": 204
        },
        "id": "rqPDNbwruMhf",
        "outputId": "b762bbb4-83df-463c-c7cc-a9929eff8394"
      },
      "source": [
        "email.head()"
      ],
      "execution_count": 159,
      "outputs": [
        {
          "output_type": "execute_result",
          "data": {
            "text/html": [
              "<div>\n",
              "<style scoped>\n",
              "    .dataframe tbody tr th:only-of-type {\n",
              "        vertical-align: middle;\n",
              "    }\n",
              "\n",
              "    .dataframe tbody tr th {\n",
              "        vertical-align: top;\n",
              "    }\n",
              "\n",
              "    .dataframe thead th {\n",
              "        text-align: right;\n",
              "    }\n",
              "</style>\n",
              "<table border=\"1\" class=\"dataframe\">\n",
              "  <thead>\n",
              "    <tr style=\"text-align: right;\">\n",
              "      <th></th>\n",
              "      <th>CustomerID</th>\n",
              "      <th>DateOfemail</th>\n",
              "      <th>EmailType</th>\n",
              "      <th>timestamp</th>\n",
              "      <th>MailOpened</th>\n",
              "      <th>MailClicked</th>\n",
              "    </tr>\n",
              "  </thead>\n",
              "  <tbody>\n",
              "    <tr>\n",
              "      <th>0</th>\n",
              "      <td>C16368</td>\n",
              "      <td>2012-09-28</td>\n",
              "      <td>WelcomeEmail</td>\n",
              "      <td>15:56:50</td>\n",
              "      <td>yes</td>\n",
              "      <td>NotApplicable</td>\n",
              "    </tr>\n",
              "    <tr>\n",
              "      <th>1</th>\n",
              "      <td>C20345</td>\n",
              "      <td>2010-12-19</td>\n",
              "      <td>WelcomeEmail</td>\n",
              "      <td>15:10:30</td>\n",
              "      <td>yes</td>\n",
              "      <td>NotApplicable</td>\n",
              "    </tr>\n",
              "    <tr>\n",
              "      <th>2</th>\n",
              "      <td>C17683</td>\n",
              "      <td>2010-10-03</td>\n",
              "      <td>WelcomeEmail</td>\n",
              "      <td>17:12:24</td>\n",
              "      <td>yes</td>\n",
              "      <td>NotApplicable</td>\n",
              "    </tr>\n",
              "    <tr>\n",
              "      <th>3</th>\n",
              "      <td>C18647</td>\n",
              "      <td>2010-11-27</td>\n",
              "      <td>WelcomeEmail</td>\n",
              "      <td>16:59:02</td>\n",
              "      <td>yes</td>\n",
              "      <td>NotApplicable</td>\n",
              "    </tr>\n",
              "    <tr>\n",
              "      <th>4</th>\n",
              "      <td>C36692</td>\n",
              "      <td>2009-12-04</td>\n",
              "      <td>WelcomeEmail</td>\n",
              "      <td>17:27:22</td>\n",
              "      <td>yes</td>\n",
              "      <td>NotApplicable</td>\n",
              "    </tr>\n",
              "  </tbody>\n",
              "</table>\n",
              "</div>"
            ],
            "text/plain": [
              "  CustomerID DateOfemail     EmailType timestamp MailOpened    MailClicked\n",
              "0     C16368  2012-09-28  WelcomeEmail  15:56:50        yes  NotApplicable\n",
              "1     C20345  2010-12-19  WelcomeEmail  15:10:30        yes  NotApplicable\n",
              "2     C17683  2010-10-03  WelcomeEmail  17:12:24        yes  NotApplicable\n",
              "3     C18647  2010-11-27  WelcomeEmail  16:59:02        yes  NotApplicable\n",
              "4     C36692  2009-12-04  WelcomeEmail  17:27:22        yes  NotApplicable"
            ]
          },
          "metadata": {},
          "execution_count": 159
        }
      ]
    },
    {
      "cell_type": "code",
      "metadata": {
        "colab": {
          "base_uri": "https://localhost:8080/"
        },
        "id": "Sx2FvGa3xz1V",
        "outputId": "1d85eb96-d151-405f-9a99-0e549e21fc23"
      },
      "source": [
        "email.dtypes"
      ],
      "execution_count": 160,
      "outputs": [
        {
          "output_type": "execute_result",
          "data": {
            "text/plain": [
              "CustomerID     object\n",
              "DateOfemail    object\n",
              "EmailType      object\n",
              "timestamp      object\n",
              "MailOpened     object\n",
              "MailClicked    object\n",
              "dtype: object"
            ]
          },
          "metadata": {},
          "execution_count": 160
        }
      ]
    },
    {
      "cell_type": "code",
      "metadata": {
        "colab": {
          "base_uri": "https://localhost:8080/"
        },
        "id": "Cmazj6eXuOiJ",
        "outputId": "f3c0ee41-5b57-4c7e-b952-ccea9d6d3639"
      },
      "source": [
        "email.columns"
      ],
      "execution_count": 161,
      "outputs": [
        {
          "output_type": "execute_result",
          "data": {
            "text/plain": [
              "Index(['CustomerID', 'DateOfemail', 'EmailType', 'timestamp', 'MailOpened',\n",
              "       'MailClicked'],\n",
              "      dtype='object')"
            ]
          },
          "metadata": {},
          "execution_count": 161
        }
      ]
    },
    {
      "cell_type": "code",
      "metadata": {
        "colab": {
          "base_uri": "https://localhost:8080/",
          "height": 173
        },
        "id": "MztjsXpvFLQ0",
        "outputId": "c40a599d-3a6e-4d45-ca29-6b91d6518095"
      },
      "source": [
        "email.describe(include=\"all\")"
      ],
      "execution_count": 162,
      "outputs": [
        {
          "output_type": "execute_result",
          "data": {
            "text/html": [
              "<div>\n",
              "<style scoped>\n",
              "    .dataframe tbody tr th:only-of-type {\n",
              "        vertical-align: middle;\n",
              "    }\n",
              "\n",
              "    .dataframe tbody tr th {\n",
              "        vertical-align: top;\n",
              "    }\n",
              "\n",
              "    .dataframe thead th {\n",
              "        text-align: right;\n",
              "    }\n",
              "</style>\n",
              "<table border=\"1\" class=\"dataframe\">\n",
              "  <thead>\n",
              "    <tr style=\"text-align: right;\">\n",
              "      <th></th>\n",
              "      <th>CustomerID</th>\n",
              "      <th>DateOfemail</th>\n",
              "      <th>EmailType</th>\n",
              "      <th>timestamp</th>\n",
              "      <th>MailOpened</th>\n",
              "      <th>MailClicked</th>\n",
              "    </tr>\n",
              "  </thead>\n",
              "  <tbody>\n",
              "    <tr>\n",
              "      <th>count</th>\n",
              "      <td>517672</td>\n",
              "      <td>517672</td>\n",
              "      <td>517672</td>\n",
              "      <td>517672</td>\n",
              "      <td>517672</td>\n",
              "      <td>517672</td>\n",
              "    </tr>\n",
              "    <tr>\n",
              "      <th>unique</th>\n",
              "      <td>23820</td>\n",
              "      <td>3382</td>\n",
              "      <td>2</td>\n",
              "      <td>14369</td>\n",
              "      <td>2</td>\n",
              "      <td>3</td>\n",
              "    </tr>\n",
              "    <tr>\n",
              "      <th>top</th>\n",
              "      <td>C41705</td>\n",
              "      <td>2013-10-11</td>\n",
              "      <td>CustomizedEmail</td>\n",
              "      <td>15:14:02</td>\n",
              "      <td>no</td>\n",
              "      <td>no</td>\n",
              "    </tr>\n",
              "    <tr>\n",
              "      <th>freq</th>\n",
              "      <td>292</td>\n",
              "      <td>2139</td>\n",
              "      <td>493852</td>\n",
              "      <td>64</td>\n",
              "      <td>369812</td>\n",
              "      <td>466011</td>\n",
              "    </tr>\n",
              "  </tbody>\n",
              "</table>\n",
              "</div>"
            ],
            "text/plain": [
              "       CustomerID DateOfemail        EmailType timestamp MailOpened MailClicked\n",
              "count      517672      517672           517672    517672     517672      517672\n",
              "unique      23820        3382                2     14369          2           3\n",
              "top        C41705  2013-10-11  CustomizedEmail  15:14:02         no          no\n",
              "freq          292        2139           493852        64     369812      466011"
            ]
          },
          "metadata": {},
          "execution_count": 162
        }
      ]
    },
    {
      "cell_type": "markdown",
      "metadata": {
        "id": "uYCthSWiuY4N"
      },
      "source": [
        "There are 23820 distince Cutomers in the Email data set as well"
      ]
    },
    {
      "cell_type": "code",
      "metadata": {
        "id": "uvP3D5IBFOLU"
      },
      "source": [
        "transact = pd.read_excel(\"/content/drive/MyDrive/DataSets/TransData.xlsx\")"
      ],
      "execution_count": 163,
      "outputs": []
    },
    {
      "cell_type": "code",
      "metadata": {
        "colab": {
          "base_uri": "https://localhost:8080/"
        },
        "id": "eY8s65WIxtn_",
        "outputId": "249d0d4a-0920-42dd-9fa8-7d248886ef90"
      },
      "source": [
        "transact.dtypes"
      ],
      "execution_count": 164,
      "outputs": [
        {
          "output_type": "execute_result",
          "data": {
            "text/plain": [
              "CustomerID       object\n",
              "DateOfOrder      object\n",
              "timestamp        object\n",
              "OrderQuantity     int64\n",
              "dtype: object"
            ]
          },
          "metadata": {},
          "execution_count": 164
        }
      ]
    },
    {
      "cell_type": "code",
      "metadata": {
        "colab": {
          "base_uri": "https://localhost:8080/",
          "height": 390
        },
        "id": "cHF9EtoVFhPk",
        "outputId": "a943f41d-6dc9-4702-9ff8-72a795ee0c40"
      },
      "source": [
        "transact.describe(include=\"all\")"
      ],
      "execution_count": 165,
      "outputs": [
        {
          "output_type": "execute_result",
          "data": {
            "text/html": [
              "<div>\n",
              "<style scoped>\n",
              "    .dataframe tbody tr th:only-of-type {\n",
              "        vertical-align: middle;\n",
              "    }\n",
              "\n",
              "    .dataframe tbody tr th {\n",
              "        vertical-align: top;\n",
              "    }\n",
              "\n",
              "    .dataframe thead th {\n",
              "        text-align: right;\n",
              "    }\n",
              "</style>\n",
              "<table border=\"1\" class=\"dataframe\">\n",
              "  <thead>\n",
              "    <tr style=\"text-align: right;\">\n",
              "      <th></th>\n",
              "      <th>CustomerID</th>\n",
              "      <th>DateOfOrder</th>\n",
              "      <th>timestamp</th>\n",
              "      <th>OrderQuantity</th>\n",
              "    </tr>\n",
              "  </thead>\n",
              "  <tbody>\n",
              "    <tr>\n",
              "      <th>count</th>\n",
              "      <td>104755</td>\n",
              "      <td>104755</td>\n",
              "      <td>104755</td>\n",
              "      <td>104755.000000</td>\n",
              "    </tr>\n",
              "    <tr>\n",
              "      <th>unique</th>\n",
              "      <td>23820</td>\n",
              "      <td>3151</td>\n",
              "      <td>21399</td>\n",
              "      <td>NaN</td>\n",
              "    </tr>\n",
              "    <tr>\n",
              "      <th>top</th>\n",
              "      <td>C25557</td>\n",
              "      <td>2014-01-13</td>\n",
              "      <td>12:45:20</td>\n",
              "      <td>NaN</td>\n",
              "    </tr>\n",
              "    <tr>\n",
              "      <th>freq</th>\n",
              "      <td>257</td>\n",
              "      <td>310</td>\n",
              "      <td>16</td>\n",
              "      <td>NaN</td>\n",
              "    </tr>\n",
              "    <tr>\n",
              "      <th>mean</th>\n",
              "      <td>NaN</td>\n",
              "      <td>NaN</td>\n",
              "      <td>NaN</td>\n",
              "      <td>81.319059</td>\n",
              "    </tr>\n",
              "    <tr>\n",
              "      <th>std</th>\n",
              "      <td>NaN</td>\n",
              "      <td>NaN</td>\n",
              "      <td>NaN</td>\n",
              "      <td>46.853569</td>\n",
              "    </tr>\n",
              "    <tr>\n",
              "      <th>min</th>\n",
              "      <td>NaN</td>\n",
              "      <td>NaN</td>\n",
              "      <td>NaN</td>\n",
              "      <td>0.000000</td>\n",
              "    </tr>\n",
              "    <tr>\n",
              "      <th>25%</th>\n",
              "      <td>NaN</td>\n",
              "      <td>NaN</td>\n",
              "      <td>NaN</td>\n",
              "      <td>50.000000</td>\n",
              "    </tr>\n",
              "    <tr>\n",
              "      <th>50%</th>\n",
              "      <td>NaN</td>\n",
              "      <td>NaN</td>\n",
              "      <td>NaN</td>\n",
              "      <td>71.000000</td>\n",
              "    </tr>\n",
              "    <tr>\n",
              "      <th>75%</th>\n",
              "      <td>NaN</td>\n",
              "      <td>NaN</td>\n",
              "      <td>NaN</td>\n",
              "      <td>100.000000</td>\n",
              "    </tr>\n",
              "    <tr>\n",
              "      <th>max</th>\n",
              "      <td>NaN</td>\n",
              "      <td>NaN</td>\n",
              "      <td>NaN</td>\n",
              "      <td>1501.000000</td>\n",
              "    </tr>\n",
              "  </tbody>\n",
              "</table>\n",
              "</div>"
            ],
            "text/plain": [
              "       CustomerID DateOfOrder timestamp  OrderQuantity\n",
              "count      104755      104755    104755  104755.000000\n",
              "unique      23820        3151     21399            NaN\n",
              "top        C25557  2014-01-13  12:45:20            NaN\n",
              "freq          257         310        16            NaN\n",
              "mean          NaN         NaN       NaN      81.319059\n",
              "std           NaN         NaN       NaN      46.853569\n",
              "min           NaN         NaN       NaN       0.000000\n",
              "25%           NaN         NaN       NaN      50.000000\n",
              "50%           NaN         NaN       NaN      71.000000\n",
              "75%           NaN         NaN       NaN     100.000000\n",
              "max           NaN         NaN       NaN    1501.000000"
            ]
          },
          "metadata": {},
          "execution_count": 165
        }
      ]
    },
    {
      "cell_type": "code",
      "metadata": {
        "id": "4QvJs5c3FkvM"
      },
      "source": [
        "train = pd.read_excel(\"/content/drive/MyDrive/DataSets/Train.xlsx\")"
      ],
      "execution_count": 166,
      "outputs": []
    },
    {
      "cell_type": "code",
      "metadata": {
        "colab": {
          "base_uri": "https://localhost:8080/",
          "height": 173
        },
        "id": "i6WgkE4NFwVs",
        "outputId": "4756f42d-a6e9-47f5-98bf-49e104b5aa45"
      },
      "source": [
        "train.describe(include=\"all\")"
      ],
      "execution_count": 167,
      "outputs": [
        {
          "output_type": "execute_result",
          "data": {
            "text/html": [
              "<div>\n",
              "<style scoped>\n",
              "    .dataframe tbody tr th:only-of-type {\n",
              "        vertical-align: middle;\n",
              "    }\n",
              "\n",
              "    .dataframe tbody tr th {\n",
              "        vertical-align: top;\n",
              "    }\n",
              "\n",
              "    .dataframe thead th {\n",
              "        text-align: right;\n",
              "    }\n",
              "</style>\n",
              "<table border=\"1\" class=\"dataframe\">\n",
              "  <thead>\n",
              "    <tr style=\"text-align: right;\">\n",
              "      <th></th>\n",
              "      <th>CustomerID</th>\n",
              "      <th>RetentionPotential</th>\n",
              "    </tr>\n",
              "  </thead>\n",
              "  <tbody>\n",
              "    <tr>\n",
              "      <th>count</th>\n",
              "      <td>23820</td>\n",
              "      <td>23820</td>\n",
              "    </tr>\n",
              "    <tr>\n",
              "      <th>unique</th>\n",
              "      <td>23820</td>\n",
              "      <td>3</td>\n",
              "    </tr>\n",
              "    <tr>\n",
              "      <th>top</th>\n",
              "      <td>C34706</td>\n",
              "      <td>Low</td>\n",
              "    </tr>\n",
              "    <tr>\n",
              "      <th>freq</th>\n",
              "      <td>1</td>\n",
              "      <td>19185</td>\n",
              "    </tr>\n",
              "  </tbody>\n",
              "</table>\n",
              "</div>"
            ],
            "text/plain": [
              "       CustomerID RetentionPotential\n",
              "count       23820              23820\n",
              "unique      23820                  3\n",
              "top        C34706                Low\n",
              "freq            1              19185"
            ]
          },
          "metadata": {},
          "execution_count": 167
        }
      ]
    },
    {
      "cell_type": "markdown",
      "metadata": {
        "id": "xirHQTYfu33l"
      },
      "source": [
        "This is the dataset containing the Target variable.\n",
        "\n",
        "Retention Potential is the potential for the cutomer to stay without churning. Therefore, retention potential is the opposite of our desired output. \n",
        "\n"
      ]
    },
    {
      "cell_type": "code",
      "metadata": {
        "colab": {
          "base_uri": "https://localhost:8080/"
        },
        "id": "phYZ2a74Fz_F",
        "outputId": "d8c9f3a9-bc22-48f9-94af-68b95ddff479"
      },
      "source": [
        "train.isnull().sum()"
      ],
      "execution_count": 168,
      "outputs": [
        {
          "output_type": "execute_result",
          "data": {
            "text/plain": [
              "CustomerID            0\n",
              "RetentionPotential    0\n",
              "dtype: int64"
            ]
          },
          "metadata": {},
          "execution_count": 168
        }
      ]
    },
    {
      "cell_type": "code",
      "metadata": {
        "colab": {
          "base_uri": "https://localhost:8080/"
        },
        "id": "arbCg3ReJ2BI",
        "outputId": "e0eaea25-a468-4764-a478-f77835f9b7e8"
      },
      "source": [
        "train.dtypes"
      ],
      "execution_count": 169,
      "outputs": [
        {
          "output_type": "execute_result",
          "data": {
            "text/plain": [
              "CustomerID            object\n",
              "RetentionPotential    object\n",
              "dtype: object"
            ]
          },
          "metadata": {},
          "execution_count": 169
        }
      ]
    },
    {
      "cell_type": "code",
      "metadata": {
        "colab": {
          "base_uri": "https://localhost:8080/"
        },
        "id": "I-St7kLmyV_q",
        "outputId": "10d47f50-62c4-4fb2-969e-5b73e7c1b090"
      },
      "source": [
        "cust_data.shape , transact.shape , email.shape"
      ],
      "execution_count": 170,
      "outputs": [
        {
          "output_type": "execute_result",
          "data": {
            "text/plain": [
              "((23820, 7), (104755, 4), (517672, 6))"
            ]
          },
          "metadata": {},
          "execution_count": 170
        }
      ]
    },
    {
      "cell_type": "code",
      "metadata": {
        "colab": {
          "base_uri": "https://localhost:8080/"
        },
        "id": "Ca_qQ8Kt6jSq",
        "outputId": "eef877a9-bc67-483d-bd68-a9b39e61e05d"
      },
      "source": [
        "for i in ['City', 'PreferredDeliveryDay', 'OnlineCommunication', 'AutomaticRefill','DoorstepDelivery']:\n",
        "  print(cust_data[i].value_counts())\n",
        "  print(f'The column is {i}')\n",
        "  print(\"*\"*55)"
      ],
      "execution_count": 171,
      "outputs": [
        {
          "output_type": "stream",
          "name": "stdout",
          "text": [
            "CITY4    9143\n",
            "CITY2    6879\n",
            "CITY3    6490\n",
            "CITY1    1308\n",
            "Name: City, dtype: int64\n",
            "The column is City\n",
            "*******************************************************\n",
            "Tuesday      5343\n",
            "Monday       5300\n",
            "Friday       4167\n",
            "Thursday     4043\n",
            "Wednesday    3778\n",
            "Saturday     1003\n",
            "Sunday        186\n",
            "Name: PreferredDeliveryDay, dtype: int64\n",
            "The column is PreferredDeliveryDay\n",
            "*******************************************************\n",
            "1    15731\n",
            "0     8089\n",
            "Name: OnlineCommunication, dtype: int64\n",
            "The column is OnlineCommunication\n",
            "*******************************************************\n",
            "0    21564\n",
            "1     2256\n",
            "Name: AutomaticRefill, dtype: int64\n",
            "The column is AutomaticRefill\n",
            "*******************************************************\n",
            "0    22924\n",
            "1      896\n",
            "Name: DoorstepDelivery, dtype: int64\n",
            "The column is DoorstepDelivery\n",
            "*******************************************************\n"
          ]
        }
      ]
    },
    {
      "cell_type": "code",
      "metadata": {
        "colab": {
          "base_uri": "https://localhost:8080/",
          "height": 1000
        },
        "id": "_VP6buIY6wLG",
        "outputId": "b4152b56-d2f0-4d3d-bf88-03cc88db44ef"
      },
      "source": [
        "for i in  ['City', 'PreferredDeliveryDay', 'OnlineCommunication', 'AutomaticRefill','DoorstepDelivery']:\n",
        "  sns.countplot(cust_data[i])\n",
        "  print(i)\n",
        "  plt.show()\n",
        "  print(\"*\"*55)"
      ],
      "execution_count": 172,
      "outputs": [
        {
          "output_type": "stream",
          "name": "stdout",
          "text": [
            "City\n"
          ]
        },
        {
          "output_type": "stream",
          "name": "stderr",
          "text": [
            "/usr/local/lib/python3.7/dist-packages/seaborn/_decorators.py:43: FutureWarning: Pass the following variable as a keyword arg: x. From version 0.12, the only valid positional argument will be `data`, and passing other arguments without an explicit keyword will result in an error or misinterpretation.\n",
            "  FutureWarning\n"
          ]
        },
        {
          "output_type": "display_data",
          "data": {
            "image/png": "[encoded data removed]",
            "text/plain": [
              "<Figure size 1152x864 with 1 Axes>"
            ]
          },
          "metadata": {
            "needs_background": "light"
          }
        },
        {
          "output_type": "stream",
          "name": "stdout",
          "text": [
            "*******************************************************\n",
            "PreferredDeliveryDay\n"
          ]
        },
        {
          "output_type": "stream",
          "name": "stderr",
          "text": [
            "/usr/local/lib/python3.7/dist-packages/seaborn/_decorators.py:43: FutureWarning: Pass the following variable as a keyword arg: x. From version 0.12, the only valid positional argument will be `data`, and passing other arguments without an explicit keyword will result in an error or misinterpretation.\n",
            "  FutureWarning\n"
          ]
        },
        {
          "output_type": "display_data",
          "data": {
            "image/png": "[encoded data removed]",
            "text/plain": [
              "<Figure size 1152x864 with 1 Axes>"
            ]
          },
          "metadata": {
            "needs_background": "light"
          }
        },
        {
          "output_type": "stream",
          "name": "stdout",
          "text": [
            "*******************************************************\n",
            "OnlineCommunication\n"
          ]
        },
        {
          "output_type": "stream",
          "name": "stderr",
          "text": [
            "/usr/local/lib/python3.7/dist-packages/seaborn/_decorators.py:43: FutureWarning: Pass the following variable as a keyword arg: x. From version 0.12, the only valid positional argument will be `data`, and passing other arguments without an explicit keyword will result in an error or misinterpretation.\n",
            "  FutureWarning\n"
          ]
        },
        {
          "output_type": "display_data",
          "data": {
            "image/png": "[encoded data removed]",
            "text/plain": [
              "<Figure size 1152x864 with 1 Axes>"
            ]
          },
          "metadata": {
            "needs_background": "light"
          }
        },
        {
          "output_type": "stream",
          "name": "stdout",
          "text": [
            "*******************************************************\n",
            "AutomaticRefill\n"
          ]
        },
        {
          "output_type": "stream",
          "name": "stderr",
          "text": [
            "/usr/local/lib/python3.7/dist-packages/seaborn/_decorators.py:43: FutureWarning: Pass the following variable as a keyword arg: x. From version 0.12, the only valid positional argument will be `data`, and passing other arguments without an explicit keyword will result in an error or misinterpretation.\n",
            "  FutureWarning\n"
          ]
        },
        {
          "output_type": "display_data",
          "data": {
            "image/png": "[encoded data removed]",
            "text/plain": [
              "<Figure size 1152x864 with 1 Axes>"
            ]
          },
          "metadata": {
            "needs_background": "light"
          }
        },
        {
          "output_type": "stream",
          "name": "stdout",
          "text": [
            "*******************************************************\n",
            "DoorstepDelivery\n"
          ]
        },
        {
          "output_type": "stream",
          "name": "stderr",
          "text": [
            "/usr/local/lib/python3.7/dist-packages/seaborn/_decorators.py:43: FutureWarning: Pass the following variable as a keyword arg: x. From version 0.12, the only valid positional argument will be `data`, and passing other arguments without an explicit keyword will result in an error or misinterpretation.\n",
            "  FutureWarning\n"
          ]
        },
        {
          "output_type": "display_data",
          "data": {
            "image/png": "[encoded data removed]",
            "text/plain": [
              "<Figure size 1152x864 with 1 Axes>"
            ]
          },
          "metadata": {
            "needs_background": "light"
          }
        },
        {
          "output_type": "stream",
          "name": "stdout",
          "text": [
            "*******************************************************\n"
          ]
        }
      ]
    },
    {
      "cell_type": "code",
      "metadata": {
        "colab": {
          "base_uri": "https://localhost:8080/",
          "height": 731
        },
        "id": "gMx62mRzKIMV",
        "outputId": "3c4ec17c-31b3-45cb-ce33-489e8f2403d5"
      },
      "source": [
        "sns.countplot(x='RetentionPotential',data=train)"
      ],
      "execution_count": 173,
      "outputs": [
        {
          "output_type": "execute_result",
          "data": {
            "text/plain": [
              "<matplotlib.axes._subplots.AxesSubplot at 0x7f164c91b550>"
            ]
          },
          "metadata": {},
          "execution_count": 173
        },
        {
          "output_type": "display_data",
          "data": {
            "image/png": "[encoded data removed]",
            "text/plain": [
              "<Figure size 1152x864 with 1 Axes>"
            ]
          },
          "metadata": {
            "needs_background": "light"
          }
        }
      ]
    },
    {
      "cell_type": "markdown",
      "metadata": {
        "id": "3hjhQ_H5vgus"
      },
      "source": [
        "There seems to be a mismatch in the class. The low retential potential here depicts high Churn Potential."
      ]
    },
    {
      "cell_type": "code",
      "metadata": {
        "colab": {
          "base_uri": "https://localhost:8080/",
          "height": 731
        },
        "id": "jOOBwvXLLUCw",
        "outputId": "adbc0965-560e-4e63-8362-18170ca17801"
      },
      "source": [
        "sns.countplot(x='City',data=cust_data)"
      ],
      "execution_count": 174,
      "outputs": [
        {
          "output_type": "execute_result",
          "data": {
            "text/plain": [
              "<matplotlib.axes._subplots.AxesSubplot at 0x7f164cb6e550>"
            ]
          },
          "metadata": {},
          "execution_count": 174
        },
        {
          "output_type": "display_data",
          "data": {
            "image/png": "[encoded data removed]",
            "text/plain": [
              "<Figure size 1152x864 with 1 Axes>"
            ]
          },
          "metadata": {
            "needs_background": "light"
          }
        }
      ]
    },
    {
      "cell_type": "markdown",
      "metadata": {
        "id": "2IRahjPDyt2S"
      },
      "source": [
        "Merging the Cutomer Data set with the Data set containing the Target Variable"
      ]
    },
    {
      "cell_type": "code",
      "metadata": {
        "id": "Kj4IzhFHLwlx"
      },
      "source": [
        "data = pd.merge(cust_data,train,on='CustomerID',)"
      ],
      "execution_count": 175,
      "outputs": []
    },
    {
      "cell_type": "code",
      "metadata": {
        "colab": {
          "base_uri": "https://localhost:8080/",
          "height": 224
        },
        "id": "di1E0SY3TGKC",
        "outputId": "9ef9f03c-e1e1-43ba-d75b-a225af35ea2f"
      },
      "source": [
        "data.head()"
      ],
      "execution_count": 176,
      "outputs": [
        {
          "output_type": "execute_result",
          "data": {
            "text/html": [
              "<div>\n",
              "<style scoped>\n",
              "    .dataframe tbody tr th:only-of-type {\n",
              "        vertical-align: middle;\n",
              "    }\n",
              "\n",
              "    .dataframe tbody tr th {\n",
              "        vertical-align: top;\n",
              "    }\n",
              "\n",
              "    .dataframe thead th {\n",
              "        text-align: right;\n",
              "    }\n",
              "</style>\n",
              "<table border=\"1\" class=\"dataframe\">\n",
              "  <thead>\n",
              "    <tr style=\"text-align: right;\">\n",
              "      <th></th>\n",
              "      <th>CustomerID</th>\n",
              "      <th>City</th>\n",
              "      <th>DateOfRegistration</th>\n",
              "      <th>OnlineCommunication</th>\n",
              "      <th>AutomaticRefill</th>\n",
              "      <th>DoorstepDelivery</th>\n",
              "      <th>PreferredDeliveryDay</th>\n",
              "      <th>RetentionPotential</th>\n",
              "    </tr>\n",
              "  </thead>\n",
              "  <tbody>\n",
              "    <tr>\n",
              "      <th>0</th>\n",
              "      <td>C16368</td>\n",
              "      <td>CITY2</td>\n",
              "      <td>2012-09-28</td>\n",
              "      <td>0</td>\n",
              "      <td>0</td>\n",
              "      <td>0</td>\n",
              "      <td>Monday</td>\n",
              "      <td>High</td>\n",
              "    </tr>\n",
              "    <tr>\n",
              "      <th>1</th>\n",
              "      <td>C20345</td>\n",
              "      <td>CITY2</td>\n",
              "      <td>2010-12-19</td>\n",
              "      <td>1</td>\n",
              "      <td>1</td>\n",
              "      <td>1</td>\n",
              "      <td>Friday</td>\n",
              "      <td>Low</td>\n",
              "    </tr>\n",
              "    <tr>\n",
              "      <th>2</th>\n",
              "      <td>C17683</td>\n",
              "      <td>CITY2</td>\n",
              "      <td>2010-10-03</td>\n",
              "      <td>0</td>\n",
              "      <td>0</td>\n",
              "      <td>0</td>\n",
              "      <td>Wednesday</td>\n",
              "      <td>Medium</td>\n",
              "    </tr>\n",
              "    <tr>\n",
              "      <th>3</th>\n",
              "      <td>C18647</td>\n",
              "      <td>CITY4</td>\n",
              "      <td>2010-11-27</td>\n",
              "      <td>0</td>\n",
              "      <td>0</td>\n",
              "      <td>0</td>\n",
              "      <td>Monday</td>\n",
              "      <td>Low</td>\n",
              "    </tr>\n",
              "    <tr>\n",
              "      <th>4</th>\n",
              "      <td>C36692</td>\n",
              "      <td>CITY2</td>\n",
              "      <td>2009-12-04</td>\n",
              "      <td>1</td>\n",
              "      <td>1</td>\n",
              "      <td>0</td>\n",
              "      <td>Friday</td>\n",
              "      <td>Low</td>\n",
              "    </tr>\n",
              "  </tbody>\n",
              "</table>\n",
              "</div>"
            ],
            "text/plain": [
              "  CustomerID   City  ... PreferredDeliveryDay  RetentionPotential\n",
              "0     C16368  CITY2  ...               Monday                High\n",
              "1     C20345  CITY2  ...               Friday                 Low\n",
              "2     C17683  CITY2  ...            Wednesday              Medium\n",
              "3     C18647  CITY4  ...               Monday                 Low\n",
              "4     C36692  CITY2  ...               Friday                 Low\n",
              "\n",
              "[5 rows x 8 columns]"
            ]
          },
          "metadata": {},
          "execution_count": 176
        }
      ]
    },
    {
      "cell_type": "code",
      "metadata": {
        "colab": {
          "base_uri": "https://localhost:8080/"
        },
        "id": "L2LXlX47y3Rh",
        "outputId": "301c81ac-9266-401a-cc2f-8d71cee7782b"
      },
      "source": [
        "data.shape"
      ],
      "execution_count": 177,
      "outputs": [
        {
          "output_type": "execute_result",
          "data": {
            "text/plain": [
              "(23820, 8)"
            ]
          },
          "metadata": {},
          "execution_count": 177
        }
      ]
    },
    {
      "cell_type": "code",
      "metadata": {
        "colab": {
          "base_uri": "https://localhost:8080/",
          "height": 506
        },
        "id": "Vt-YTy5rTHVQ",
        "outputId": "e78b6dcf-776e-411f-a995-79ff009c8733"
      },
      "source": [
        "data.describe(include=\"all\")"
      ],
      "execution_count": 178,
      "outputs": [
        {
          "output_type": "stream",
          "name": "stderr",
          "text": [
            "/usr/local/lib/python3.7/dist-packages/ipykernel_launcher.py:1: FutureWarning: Treating datetime data as categorical rather than numeric in `.describe` is deprecated and will be removed in a future version of pandas. Specify `datetime_is_numeric=True` to silence this warning and adopt the future behavior now.\n",
            "  \"\"\"Entry point for launching an IPython kernel.\n"
          ]
        },
        {
          "output_type": "execute_result",
          "data": {
            "text/html": [
              "<div>\n",
              "<style scoped>\n",
              "    .dataframe tbody tr th:only-of-type {\n",
              "        vertical-align: middle;\n",
              "    }\n",
              "\n",
              "    .dataframe tbody tr th {\n",
              "        vertical-align: top;\n",
              "    }\n",
              "\n",
              "    .dataframe thead th {\n",
              "        text-align: right;\n",
              "    }\n",
              "</style>\n",
              "<table border=\"1\" class=\"dataframe\">\n",
              "  <thead>\n",
              "    <tr style=\"text-align: right;\">\n",
              "      <th></th>\n",
              "      <th>CustomerID</th>\n",
              "      <th>City</th>\n",
              "      <th>DateOfRegistration</th>\n",
              "      <th>OnlineCommunication</th>\n",
              "      <th>AutomaticRefill</th>\n",
              "      <th>DoorstepDelivery</th>\n",
              "      <th>PreferredDeliveryDay</th>\n",
              "      <th>RetentionPotential</th>\n",
              "    </tr>\n",
              "  </thead>\n",
              "  <tbody>\n",
              "    <tr>\n",
              "      <th>count</th>\n",
              "      <td>23820</td>\n",
              "      <td>23820</td>\n",
              "      <td>23820</td>\n",
              "      <td>23820.000000</td>\n",
              "      <td>23820.000000</td>\n",
              "      <td>23820.000000</td>\n",
              "      <td>23820</td>\n",
              "      <td>23820</td>\n",
              "    </tr>\n",
              "    <tr>\n",
              "      <th>unique</th>\n",
              "      <td>23820</td>\n",
              "      <td>4</td>\n",
              "      <td>2673</td>\n",
              "      <td>NaN</td>\n",
              "      <td>NaN</td>\n",
              "      <td>NaN</td>\n",
              "      <td>7</td>\n",
              "      <td>3</td>\n",
              "    </tr>\n",
              "    <tr>\n",
              "      <th>top</th>\n",
              "      <td>C34706</td>\n",
              "      <td>CITY4</td>\n",
              "      <td>2012-08-28 00:00:00</td>\n",
              "      <td>NaN</td>\n",
              "      <td>NaN</td>\n",
              "      <td>NaN</td>\n",
              "      <td>Tuesday</td>\n",
              "      <td>Low</td>\n",
              "    </tr>\n",
              "    <tr>\n",
              "      <th>freq</th>\n",
              "      <td>1</td>\n",
              "      <td>9143</td>\n",
              "      <td>356</td>\n",
              "      <td>NaN</td>\n",
              "      <td>NaN</td>\n",
              "      <td>NaN</td>\n",
              "      <td>5343</td>\n",
              "      <td>19185</td>\n",
              "    </tr>\n",
              "    <tr>\n",
              "      <th>first</th>\n",
              "      <td>NaN</td>\n",
              "      <td>NaN</td>\n",
              "      <td>2008-06-17 00:00:00</td>\n",
              "      <td>NaN</td>\n",
              "      <td>NaN</td>\n",
              "      <td>NaN</td>\n",
              "      <td>NaN</td>\n",
              "      <td>NaN</td>\n",
              "    </tr>\n",
              "    <tr>\n",
              "      <th>last</th>\n",
              "      <td>NaN</td>\n",
              "      <td>NaN</td>\n",
              "      <td>2018-01-17 00:00:00</td>\n",
              "      <td>NaN</td>\n",
              "      <td>NaN</td>\n",
              "      <td>NaN</td>\n",
              "      <td>NaN</td>\n",
              "      <td>NaN</td>\n",
              "    </tr>\n",
              "    <tr>\n",
              "      <th>mean</th>\n",
              "      <td>NaN</td>\n",
              "      <td>NaN</td>\n",
              "      <td>NaN</td>\n",
              "      <td>0.660411</td>\n",
              "      <td>0.094710</td>\n",
              "      <td>0.037615</td>\n",
              "      <td>NaN</td>\n",
              "      <td>NaN</td>\n",
              "    </tr>\n",
              "    <tr>\n",
              "      <th>std</th>\n",
              "      <td>NaN</td>\n",
              "      <td>NaN</td>\n",
              "      <td>NaN</td>\n",
              "      <td>0.473580</td>\n",
              "      <td>0.292821</td>\n",
              "      <td>0.190268</td>\n",
              "      <td>NaN</td>\n",
              "      <td>NaN</td>\n",
              "    </tr>\n",
              "    <tr>\n",
              "      <th>min</th>\n",
              "      <td>NaN</td>\n",
              "      <td>NaN</td>\n",
              "      <td>NaN</td>\n",
              "      <td>0.000000</td>\n",
              "      <td>0.000000</td>\n",
              "      <td>0.000000</td>\n",
              "      <td>NaN</td>\n",
              "      <td>NaN</td>\n",
              "    </tr>\n",
              "    <tr>\n",
              "      <th>25%</th>\n",
              "      <td>NaN</td>\n",
              "      <td>NaN</td>\n",
              "      <td>NaN</td>\n",
              "      <td>0.000000</td>\n",
              "      <td>0.000000</td>\n",
              "      <td>0.000000</td>\n",
              "      <td>NaN</td>\n",
              "      <td>NaN</td>\n",
              "    </tr>\n",
              "    <tr>\n",
              "      <th>50%</th>\n",
              "      <td>NaN</td>\n",
              "      <td>NaN</td>\n",
              "      <td>NaN</td>\n",
              "      <td>1.000000</td>\n",
              "      <td>0.000000</td>\n",
              "      <td>0.000000</td>\n",
              "      <td>NaN</td>\n",
              "      <td>NaN</td>\n",
              "    </tr>\n",
              "    <tr>\n",
              "      <th>75%</th>\n",
              "      <td>NaN</td>\n",
              "      <td>NaN</td>\n",
              "      <td>NaN</td>\n",
              "      <td>1.000000</td>\n",
              "      <td>0.000000</td>\n",
              "      <td>0.000000</td>\n",
              "      <td>NaN</td>\n",
              "      <td>NaN</td>\n",
              "    </tr>\n",
              "    <tr>\n",
              "      <th>max</th>\n",
              "      <td>NaN</td>\n",
              "      <td>NaN</td>\n",
              "      <td>NaN</td>\n",
              "      <td>1.000000</td>\n",
              "      <td>1.000000</td>\n",
              "      <td>1.000000</td>\n",
              "      <td>NaN</td>\n",
              "      <td>NaN</td>\n",
              "    </tr>\n",
              "  </tbody>\n",
              "</table>\n",
              "</div>"
            ],
            "text/plain": [
              "       CustomerID   City  ... PreferredDeliveryDay  RetentionPotential\n",
              "count       23820  23820  ...                23820               23820\n",
              "unique      23820      4  ...                    7                   3\n",
              "top        C34706  CITY4  ...              Tuesday                 Low\n",
              "freq            1   9143  ...                 5343               19185\n",
              "first         NaN    NaN  ...                  NaN                 NaN\n",
              "last          NaN    NaN  ...                  NaN                 NaN\n",
              "mean          NaN    NaN  ...                  NaN                 NaN\n",
              "std           NaN    NaN  ...                  NaN                 NaN\n",
              "min           NaN    NaN  ...                  NaN                 NaN\n",
              "25%           NaN    NaN  ...                  NaN                 NaN\n",
              "50%           NaN    NaN  ...                  NaN                 NaN\n",
              "75%           NaN    NaN  ...                  NaN                 NaN\n",
              "max           NaN    NaN  ...                  NaN                 NaN\n",
              "\n",
              "[13 rows x 8 columns]"
            ]
          },
          "metadata": {},
          "execution_count": 178
        }
      ]
    },
    {
      "cell_type": "code",
      "metadata": {
        "colab": {
          "base_uri": "https://localhost:8080/",
          "height": 224
        },
        "id": "sqi8spapTLgh",
        "outputId": "5bbd33bc-5495-4001-8c78-4a60d9a32717"
      },
      "source": [
        "data.tail()"
      ],
      "execution_count": 179,
      "outputs": [
        {
          "output_type": "execute_result",
          "data": {
            "text/html": [
              "<div>\n",
              "<style scoped>\n",
              "    .dataframe tbody tr th:only-of-type {\n",
              "        vertical-align: middle;\n",
              "    }\n",
              "\n",
              "    .dataframe tbody tr th {\n",
              "        vertical-align: top;\n",
              "    }\n",
              "\n",
              "    .dataframe thead th {\n",
              "        text-align: right;\n",
              "    }\n",
              "</style>\n",
              "<table border=\"1\" class=\"dataframe\">\n",
              "  <thead>\n",
              "    <tr style=\"text-align: right;\">\n",
              "      <th></th>\n",
              "      <th>CustomerID</th>\n",
              "      <th>City</th>\n",
              "      <th>DateOfRegistration</th>\n",
              "      <th>OnlineCommunication</th>\n",
              "      <th>AutomaticRefill</th>\n",
              "      <th>DoorstepDelivery</th>\n",
              "      <th>PreferredDeliveryDay</th>\n",
              "      <th>RetentionPotential</th>\n",
              "    </tr>\n",
              "  </thead>\n",
              "  <tbody>\n",
              "    <tr>\n",
              "      <th>23815</th>\n",
              "      <td>C23511</td>\n",
              "      <td>CITY2</td>\n",
              "      <td>2018-01-17</td>\n",
              "      <td>1</td>\n",
              "      <td>1</td>\n",
              "      <td>0</td>\n",
              "      <td>Friday</td>\n",
              "      <td>Low</td>\n",
              "    </tr>\n",
              "    <tr>\n",
              "      <th>23816</th>\n",
              "      <td>C12197</td>\n",
              "      <td>CITY3</td>\n",
              "      <td>2018-01-17</td>\n",
              "      <td>1</td>\n",
              "      <td>0</td>\n",
              "      <td>1</td>\n",
              "      <td>Friday</td>\n",
              "      <td>Low</td>\n",
              "    </tr>\n",
              "    <tr>\n",
              "      <th>23817</th>\n",
              "      <td>C40967</td>\n",
              "      <td>CITY3</td>\n",
              "      <td>2018-01-17</td>\n",
              "      <td>1</td>\n",
              "      <td>0</td>\n",
              "      <td>0</td>\n",
              "      <td>Saturday</td>\n",
              "      <td>Low</td>\n",
              "    </tr>\n",
              "    <tr>\n",
              "      <th>23818</th>\n",
              "      <td>C36140</td>\n",
              "      <td>CITY3</td>\n",
              "      <td>2018-01-17</td>\n",
              "      <td>1</td>\n",
              "      <td>1</td>\n",
              "      <td>0</td>\n",
              "      <td>Saturday</td>\n",
              "      <td>Low</td>\n",
              "    </tr>\n",
              "    <tr>\n",
              "      <th>23819</th>\n",
              "      <td>C42003</td>\n",
              "      <td>CITY4</td>\n",
              "      <td>2018-01-17</td>\n",
              "      <td>1</td>\n",
              "      <td>0</td>\n",
              "      <td>0</td>\n",
              "      <td>Friday</td>\n",
              "      <td>Low</td>\n",
              "    </tr>\n",
              "  </tbody>\n",
              "</table>\n",
              "</div>"
            ],
            "text/plain": [
              "      CustomerID   City  ... PreferredDeliveryDay  RetentionPotential\n",
              "23815     C23511  CITY2  ...               Friday                 Low\n",
              "23816     C12197  CITY3  ...               Friday                 Low\n",
              "23817     C40967  CITY3  ...             Saturday                 Low\n",
              "23818     C36140  CITY3  ...             Saturday                 Low\n",
              "23819     C42003  CITY4  ...               Friday                 Low\n",
              "\n",
              "[5 rows x 8 columns]"
            ]
          },
          "metadata": {},
          "execution_count": 179
        }
      ]
    },
    {
      "cell_type": "code",
      "metadata": {
        "colab": {
          "base_uri": "https://localhost:8080/"
        },
        "id": "ZwVFayQkTQPJ",
        "outputId": "cfc5848b-def3-4a62-adce-90181172397a"
      },
      "source": [
        "data.dtypes"
      ],
      "execution_count": 180,
      "outputs": [
        {
          "output_type": "execute_result",
          "data": {
            "text/plain": [
              "CustomerID                      object\n",
              "City                            object\n",
              "DateOfRegistration      datetime64[ns]\n",
              "OnlineCommunication              int64\n",
              "AutomaticRefill                  int64\n",
              "DoorstepDelivery                 int64\n",
              "PreferredDeliveryDay            object\n",
              "RetentionPotential              object\n",
              "dtype: object"
            ]
          },
          "metadata": {},
          "execution_count": 180
        }
      ]
    },
    {
      "cell_type": "code",
      "metadata": {
        "id": "vligEkwpTYWJ"
      },
      "source": [
        "#Converting datatime to object\n",
        "data.DateOfRegistration = pd.to_datetime(data.DateOfRegistration).dt.date"
      ],
      "execution_count": 181,
      "outputs": []
    },
    {
      "cell_type": "code",
      "metadata": {
        "colab": {
          "base_uri": "https://localhost:8080/"
        },
        "id": "ifY8VUOcT0zw",
        "outputId": "369abc53-8eb1-4ece-c551-5ec5c0d9525c"
      },
      "source": [
        "data.dtypes"
      ],
      "execution_count": 182,
      "outputs": [
        {
          "output_type": "execute_result",
          "data": {
            "text/plain": [
              "CustomerID              object\n",
              "City                    object\n",
              "DateOfRegistration      object\n",
              "OnlineCommunication      int64\n",
              "AutomaticRefill          int64\n",
              "DoorstepDelivery         int64\n",
              "PreferredDeliveryDay    object\n",
              "RetentionPotential      object\n",
              "dtype: object"
            ]
          },
          "metadata": {},
          "execution_count": 182
        }
      ]
    },
    {
      "cell_type": "code",
      "metadata": {
        "colab": {
          "base_uri": "https://localhost:8080/",
          "height": 224
        },
        "id": "kgiWyk83T3XR",
        "outputId": "5263728c-6eac-4286-87e7-6adbfd57c30f"
      },
      "source": [
        "data.head()"
      ],
      "execution_count": 183,
      "outputs": [
        {
          "output_type": "execute_result",
          "data": {
            "text/html": [
              "<div>\n",
              "<style scoped>\n",
              "    .dataframe tbody tr th:only-of-type {\n",
              "        vertical-align: middle;\n",
              "    }\n",
              "\n",
              "    .dataframe tbody tr th {\n",
              "        vertical-align: top;\n",
              "    }\n",
              "\n",
              "    .dataframe thead th {\n",
              "        text-align: right;\n",
              "    }\n",
              "</style>\n",
              "<table border=\"1\" class=\"dataframe\">\n",
              "  <thead>\n",
              "    <tr style=\"text-align: right;\">\n",
              "      <th></th>\n",
              "      <th>CustomerID</th>\n",
              "      <th>City</th>\n",
              "      <th>DateOfRegistration</th>\n",
              "      <th>OnlineCommunication</th>\n",
              "      <th>AutomaticRefill</th>\n",
              "      <th>DoorstepDelivery</th>\n",
              "      <th>PreferredDeliveryDay</th>\n",
              "      <th>RetentionPotential</th>\n",
              "    </tr>\n",
              "  </thead>\n",
              "  <tbody>\n",
              "    <tr>\n",
              "      <th>0</th>\n",
              "      <td>C16368</td>\n",
              "      <td>CITY2</td>\n",
              "      <td>2012-09-28</td>\n",
              "      <td>0</td>\n",
              "      <td>0</td>\n",
              "      <td>0</td>\n",
              "      <td>Monday</td>\n",
              "      <td>High</td>\n",
              "    </tr>\n",
              "    <tr>\n",
              "      <th>1</th>\n",
              "      <td>C20345</td>\n",
              "      <td>CITY2</td>\n",
              "      <td>2010-12-19</td>\n",
              "      <td>1</td>\n",
              "      <td>1</td>\n",
              "      <td>1</td>\n",
              "      <td>Friday</td>\n",
              "      <td>Low</td>\n",
              "    </tr>\n",
              "    <tr>\n",
              "      <th>2</th>\n",
              "      <td>C17683</td>\n",
              "      <td>CITY2</td>\n",
              "      <td>2010-10-03</td>\n",
              "      <td>0</td>\n",
              "      <td>0</td>\n",
              "      <td>0</td>\n",
              "      <td>Wednesday</td>\n",
              "      <td>Medium</td>\n",
              "    </tr>\n",
              "    <tr>\n",
              "      <th>3</th>\n",
              "      <td>C18647</td>\n",
              "      <td>CITY4</td>\n",
              "      <td>2010-11-27</td>\n",
              "      <td>0</td>\n",
              "      <td>0</td>\n",
              "      <td>0</td>\n",
              "      <td>Monday</td>\n",
              "      <td>Low</td>\n",
              "    </tr>\n",
              "    <tr>\n",
              "      <th>4</th>\n",
              "      <td>C36692</td>\n",
              "      <td>CITY2</td>\n",
              "      <td>2009-12-04</td>\n",
              "      <td>1</td>\n",
              "      <td>1</td>\n",
              "      <td>0</td>\n",
              "      <td>Friday</td>\n",
              "      <td>Low</td>\n",
              "    </tr>\n",
              "  </tbody>\n",
              "</table>\n",
              "</div>"
            ],
            "text/plain": [
              "  CustomerID   City  ... PreferredDeliveryDay  RetentionPotential\n",
              "0     C16368  CITY2  ...               Monday                High\n",
              "1     C20345  CITY2  ...               Friday                 Low\n",
              "2     C17683  CITY2  ...            Wednesday              Medium\n",
              "3     C18647  CITY4  ...               Monday                 Low\n",
              "4     C36692  CITY2  ...               Friday                 Low\n",
              "\n",
              "[5 rows x 8 columns]"
            ]
          },
          "metadata": {},
          "execution_count": 183
        }
      ]
    },
    {
      "cell_type": "markdown",
      "metadata": {
        "id": "8xvy2hOtzi09"
      },
      "source": [
        "Since all the columns appear to be of the categorical data type, we convert them to category"
      ]
    },
    {
      "cell_type": "code",
      "metadata": {
        "id": "G_eEEjOcT6EY"
      },
      "source": [
        "data = data.astype(\"category\")"
      ],
      "execution_count": 184,
      "outputs": []
    },
    {
      "cell_type": "code",
      "metadata": {
        "colab": {
          "base_uri": "https://localhost:8080/"
        },
        "id": "uFZBJVPKVZmA",
        "outputId": "e7ac3da6-f129-424d-9d5b-c2579509b537"
      },
      "source": [
        "data.dtypes"
      ],
      "execution_count": 185,
      "outputs": [
        {
          "output_type": "execute_result",
          "data": {
            "text/plain": [
              "CustomerID              category\n",
              "City                    category\n",
              "DateOfRegistration      category\n",
              "OnlineCommunication     category\n",
              "AutomaticRefill         category\n",
              "DoorstepDelivery        category\n",
              "PreferredDeliveryDay    category\n",
              "RetentionPotential      category\n",
              "dtype: object"
            ]
          },
          "metadata": {},
          "execution_count": 185
        }
      ]
    },
    {
      "cell_type": "code",
      "metadata": {
        "colab": {
          "base_uri": "https://localhost:8080/",
          "height": 193
        },
        "id": "kZnCUoH3VdUA",
        "outputId": "8d53f5c2-75b8-4875-be8b-8eb48c7a233a"
      },
      "source": [
        "data.describe(include=\"all\")"
      ],
      "execution_count": 186,
      "outputs": [
        {
          "output_type": "execute_result",
          "data": {
            "text/html": [
              "<div>\n",
              "<style scoped>\n",
              "    .dataframe tbody tr th:only-of-type {\n",
              "        vertical-align: middle;\n",
              "    }\n",
              "\n",
              "    .dataframe tbody tr th {\n",
              "        vertical-align: top;\n",
              "    }\n",
              "\n",
              "    .dataframe thead th {\n",
              "        text-align: right;\n",
              "    }\n",
              "</style>\n",
              "<table border=\"1\" class=\"dataframe\">\n",
              "  <thead>\n",
              "    <tr style=\"text-align: right;\">\n",
              "      <th></th>\n",
              "      <th>CustomerID</th>\n",
              "      <th>City</th>\n",
              "      <th>DateOfRegistration</th>\n",
              "      <th>OnlineCommunication</th>\n",
              "      <th>AutomaticRefill</th>\n",
              "      <th>DoorstepDelivery</th>\n",
              "      <th>PreferredDeliveryDay</th>\n",
              "      <th>RetentionPotential</th>\n",
              "    </tr>\n",
              "  </thead>\n",
              "  <tbody>\n",
              "    <tr>\n",
              "      <th>count</th>\n",
              "      <td>23820</td>\n",
              "      <td>23820</td>\n",
              "      <td>23820</td>\n",
              "      <td>23820</td>\n",
              "      <td>23820</td>\n",
              "      <td>23820</td>\n",
              "      <td>23820</td>\n",
              "      <td>23820</td>\n",
              "    </tr>\n",
              "    <tr>\n",
              "      <th>unique</th>\n",
              "      <td>23820</td>\n",
              "      <td>4</td>\n",
              "      <td>2673</td>\n",
              "      <td>2</td>\n",
              "      <td>2</td>\n",
              "      <td>2</td>\n",
              "      <td>7</td>\n",
              "      <td>3</td>\n",
              "    </tr>\n",
              "    <tr>\n",
              "      <th>top</th>\n",
              "      <td>C42189</td>\n",
              "      <td>CITY4</td>\n",
              "      <td>2012-08-28 00:00:00</td>\n",
              "      <td>1</td>\n",
              "      <td>0</td>\n",
              "      <td>0</td>\n",
              "      <td>Tuesday</td>\n",
              "      <td>Low</td>\n",
              "    </tr>\n",
              "    <tr>\n",
              "      <th>freq</th>\n",
              "      <td>1</td>\n",
              "      <td>9143</td>\n",
              "      <td>356</td>\n",
              "      <td>15731</td>\n",
              "      <td>21564</td>\n",
              "      <td>22924</td>\n",
              "      <td>5343</td>\n",
              "      <td>19185</td>\n",
              "    </tr>\n",
              "  </tbody>\n",
              "</table>\n",
              "</div>"
            ],
            "text/plain": [
              "       CustomerID   City  ... PreferredDeliveryDay  RetentionPotential\n",
              "count       23820  23820  ...                23820               23820\n",
              "unique      23820      4  ...                    7                   3\n",
              "top        C42189  CITY4  ...              Tuesday                 Low\n",
              "freq            1   9143  ...                 5343               19185\n",
              "\n",
              "[4 rows x 8 columns]"
            ]
          },
          "metadata": {},
          "execution_count": 186
        }
      ]
    },
    {
      "cell_type": "code",
      "metadata": {
        "id": "9JnNigYpYPzn"
      },
      "source": [
        "#Seperating the Target Variable\n",
        "y = data.RetentionPotential"
      ],
      "execution_count": 187,
      "outputs": []
    },
    {
      "cell_type": "code",
      "metadata": {
        "colab": {
          "base_uri": "https://localhost:8080/",
          "height": 731
        },
        "id": "mLflqXvrWHeY",
        "outputId": "219a698c-4a59-4a31-e5c0-bff4f9387129"
      },
      "source": [
        "sns.countplot(x='RetentionPotential',data=data)"
      ],
      "execution_count": 188,
      "outputs": [
        {
          "output_type": "execute_result",
          "data": {
            "text/plain": [
              "<matplotlib.axes._subplots.AxesSubplot at 0x7f163cc9d650>"
            ]
          },
          "metadata": {},
          "execution_count": 188
        },
        {
          "output_type": "display_data",
          "data": {
            "image/png": "[encoded data removed]",
            "text/plain": [
              "<Figure size 1152x864 with 1 Axes>"
            ]
          },
          "metadata": {
            "needs_background": "light"
          }
        }
      ]
    },
    {
      "cell_type": "code",
      "metadata": {
        "colab": {
          "base_uri": "https://localhost:8080/"
        },
        "id": "7n8c0Oh0ebWg",
        "outputId": "8f50e280-d35e-4b05-99e1-e2457cfc4f3d"
      },
      "source": [
        "for a, i in enumerate(data.columns):\n",
        "  print(a,i)"
      ],
      "execution_count": 189,
      "outputs": [
        {
          "output_type": "stream",
          "name": "stdout",
          "text": [
            "0 CustomerID\n",
            "1 City\n",
            "2 DateOfRegistration\n",
            "3 OnlineCommunication\n",
            "4 AutomaticRefill\n",
            "5 DoorstepDelivery\n",
            "6 PreferredDeliveryDay\n",
            "7 RetentionPotential\n"
          ]
        }
      ]
    },
    {
      "cell_type": "code",
      "metadata": {
        "colab": {
          "base_uri": "https://localhost:8080/",
          "height": 714
        },
        "id": "EW4qd3g7WX_H",
        "outputId": "5990ebcc-fb00-49cc-e5ba-17bab3bf1d4b"
      },
      "source": [
        "\n",
        "for i,a in enumerate(data.columns):\n",
        "  sns.countplot(x=a,data=data)\n"
      ],
      "execution_count": 190,
      "outputs": [
        {
          "output_type": "display_data",
          "data": {
            "image/png": "[encoded data removed]",
            "text/plain": [
              "<Figure size 1152x864 with 1 Axes>"
            ]
          },
          "metadata": {
            "needs_background": "light"
          }
        }
      ]
    },
    {
      "cell_type": "code",
      "metadata": {
        "id": "scCkit7HgiaU",
        "colab": {
          "base_uri": "https://localhost:8080/",
          "height": 731
        },
        "outputId": "b8458713-266e-48cb-8b83-a03d72e5af8a"
      },
      "source": [
        "sns.heatmap(pd.crosstab(data[\"City\"],data[\"RetentionPotential\"]))"
      ],
      "execution_count": 191,
      "outputs": [
        {
          "output_type": "execute_result",
          "data": {
            "text/plain": [
              "<matplotlib.axes._subplots.AxesSubplot at 0x7f16421a6150>"
            ]
          },
          "metadata": {},
          "execution_count": 191
        },
        {
          "output_type": "display_data",
          "data": {
            "image/png": "[encoded data removed]",
            "text/plain": [
              "<Figure size 1152x864 with 2 Axes>"
            ]
          },
          "metadata": {
            "needs_background": "light"
          }
        }
      ]
    },
    {
      "cell_type": "code",
      "metadata": {
        "colab": {
          "base_uri": "https://localhost:8080/",
          "height": 224
        },
        "id": "ANmC3BlU3OQ9",
        "outputId": "339ad310-9b27-446a-d898-b11f4caaad67"
      },
      "source": [
        "data.head()"
      ],
      "execution_count": 192,
      "outputs": [
        {
          "output_type": "execute_result",
          "data": {
            "text/html": [
              "<div>\n",
              "<style scoped>\n",
              "    .dataframe tbody tr th:only-of-type {\n",
              "        vertical-align: middle;\n",
              "    }\n",
              "\n",
              "    .dataframe tbody tr th {\n",
              "        vertical-align: top;\n",
              "    }\n",
              "\n",
              "    .dataframe thead th {\n",
              "        text-align: right;\n",
              "    }\n",
              "</style>\n",
              "<table border=\"1\" class=\"dataframe\">\n",
              "  <thead>\n",
              "    <tr style=\"text-align: right;\">\n",
              "      <th></th>\n",
              "      <th>CustomerID</th>\n",
              "      <th>City</th>\n",
              "      <th>DateOfRegistration</th>\n",
              "      <th>OnlineCommunication</th>\n",
              "      <th>AutomaticRefill</th>\n",
              "      <th>DoorstepDelivery</th>\n",
              "      <th>PreferredDeliveryDay</th>\n",
              "      <th>RetentionPotential</th>\n",
              "    </tr>\n",
              "  </thead>\n",
              "  <tbody>\n",
              "    <tr>\n",
              "      <th>0</th>\n",
              "      <td>C16368</td>\n",
              "      <td>CITY2</td>\n",
              "      <td>2012-09-28</td>\n",
              "      <td>0</td>\n",
              "      <td>0</td>\n",
              "      <td>0</td>\n",
              "      <td>Monday</td>\n",
              "      <td>High</td>\n",
              "    </tr>\n",
              "    <tr>\n",
              "      <th>1</th>\n",
              "      <td>C20345</td>\n",
              "      <td>CITY2</td>\n",
              "      <td>2010-12-19</td>\n",
              "      <td>1</td>\n",
              "      <td>1</td>\n",
              "      <td>1</td>\n",
              "      <td>Friday</td>\n",
              "      <td>Low</td>\n",
              "    </tr>\n",
              "    <tr>\n",
              "      <th>2</th>\n",
              "      <td>C17683</td>\n",
              "      <td>CITY2</td>\n",
              "      <td>2010-10-03</td>\n",
              "      <td>0</td>\n",
              "      <td>0</td>\n",
              "      <td>0</td>\n",
              "      <td>Wednesday</td>\n",
              "      <td>Medium</td>\n",
              "    </tr>\n",
              "    <tr>\n",
              "      <th>3</th>\n",
              "      <td>C18647</td>\n",
              "      <td>CITY4</td>\n",
              "      <td>2010-11-27</td>\n",
              "      <td>0</td>\n",
              "      <td>0</td>\n",
              "      <td>0</td>\n",
              "      <td>Monday</td>\n",
              "      <td>Low</td>\n",
              "    </tr>\n",
              "    <tr>\n",
              "      <th>4</th>\n",
              "      <td>C36692</td>\n",
              "      <td>CITY2</td>\n",
              "      <td>2009-12-04</td>\n",
              "      <td>1</td>\n",
              "      <td>1</td>\n",
              "      <td>0</td>\n",
              "      <td>Friday</td>\n",
              "      <td>Low</td>\n",
              "    </tr>\n",
              "  </tbody>\n",
              "</table>\n",
              "</div>"
            ],
            "text/plain": [
              "  CustomerID   City  ... PreferredDeliveryDay RetentionPotential\n",
              "0     C16368  CITY2  ...               Monday               High\n",
              "1     C20345  CITY2  ...               Friday                Low\n",
              "2     C17683  CITY2  ...            Wednesday             Medium\n",
              "3     C18647  CITY4  ...               Monday                Low\n",
              "4     C36692  CITY2  ...               Friday                Low\n",
              "\n",
              "[5 rows x 8 columns]"
            ]
          },
          "metadata": {},
          "execution_count": 192
        }
      ]
    },
    {
      "cell_type": "code",
      "metadata": {
        "id": "O2q3hwwCXPoU",
        "colab": {
          "base_uri": "https://localhost:8080/",
          "height": 785
        },
        "outputId": "ecb81a05-8667-4a14-c049-ee0e1d3ab749"
      },
      "source": [
        "sns.countplot(data.City,hue=data['RetentionPotential'])"
      ],
      "execution_count": 193,
      "outputs": [
        {
          "output_type": "stream",
          "name": "stderr",
          "text": [
            "/usr/local/lib/python3.7/dist-packages/seaborn/_decorators.py:43: FutureWarning: Pass the following variable as a keyword arg: x. From version 0.12, the only valid positional argument will be `data`, and passing other arguments without an explicit keyword will result in an error or misinterpretation.\n",
            "  FutureWarning\n"
          ]
        },
        {
          "output_type": "execute_result",
          "data": {
            "text/plain": [
              "<matplotlib.axes._subplots.AxesSubplot at 0x7f1644e3e1d0>"
            ]
          },
          "metadata": {},
          "execution_count": 193
        },
        {
          "output_type": "display_data",
          "data": {
            "image/png": "[encoded data removed]",
            "text/plain": [
              "<Figure size 1152x864 with 1 Axes>"
            ]
          },
          "metadata": {
            "needs_background": "light"
          }
        }
      ]
    },
    {
      "cell_type": "code",
      "metadata": {
        "colab": {
          "base_uri": "https://localhost:8080/",
          "height": 731
        },
        "id": "qtVCl01o7A_u",
        "outputId": "811e7a04-5a53-4db8-a5c9-95717e6f22db"
      },
      "source": [
        "sns.histplot(binwidth=0.5, x='RetentionPotential', hue='City', data=data, stat=\"count\", multiple=\"stack\")\n"
      ],
      "execution_count": 194,
      "outputs": [
        {
          "output_type": "execute_result",
          "data": {
            "text/plain": [
              "<matplotlib.axes._subplots.AxesSubplot at 0x7f1644dc1e10>"
            ]
          },
          "metadata": {},
          "execution_count": 194
        },
        {
          "output_type": "display_data",
          "data": {
            "image/png": "[encoded data removed]",
            "text/plain": [
              "<Figure size 1152x864 with 1 Axes>"
            ]
          },
          "metadata": {
            "needs_background": "light"
          }
        }
      ]
    },
    {
      "cell_type": "code",
      "metadata": {
        "id": "ZOiHtXRn7OSM",
        "colab": {
          "base_uri": "https://localhost:8080/",
          "height": 204
        },
        "outputId": "259467e2-a458-4e85-b5f5-8ef20860784b"
      },
      "source": [
        "transact.head()"
      ],
      "execution_count": 195,
      "outputs": [
        {
          "output_type": "execute_result",
          "data": {
            "text/html": [
              "<div>\n",
              "<style scoped>\n",
              "    .dataframe tbody tr th:only-of-type {\n",
              "        vertical-align: middle;\n",
              "    }\n",
              "\n",
              "    .dataframe tbody tr th {\n",
              "        vertical-align: top;\n",
              "    }\n",
              "\n",
              "    .dataframe thead th {\n",
              "        text-align: right;\n",
              "    }\n",
              "</style>\n",
              "<table border=\"1\" class=\"dataframe\">\n",
              "  <thead>\n",
              "    <tr style=\"text-align: right;\">\n",
              "      <th></th>\n",
              "      <th>CustomerID</th>\n",
              "      <th>DateOfOrder</th>\n",
              "      <th>timestamp</th>\n",
              "      <th>OrderQuantity</th>\n",
              "    </tr>\n",
              "  </thead>\n",
              "  <tbody>\n",
              "    <tr>\n",
              "      <th>0</th>\n",
              "      <td>C16368</td>\n",
              "      <td>2013-08-11</td>\n",
              "      <td>15:17:52</td>\n",
              "      <td>15</td>\n",
              "    </tr>\n",
              "    <tr>\n",
              "      <th>1</th>\n",
              "      <td>C20345</td>\n",
              "      <td>2011-04-01</td>\n",
              "      <td>19:50:00</td>\n",
              "      <td>92</td>\n",
              "    </tr>\n",
              "    <tr>\n",
              "      <th>2</th>\n",
              "      <td>C20345</td>\n",
              "      <td>2012-06-29</td>\n",
              "      <td>15:11:56</td>\n",
              "      <td>95</td>\n",
              "    </tr>\n",
              "    <tr>\n",
              "      <th>3</th>\n",
              "      <td>C20345</td>\n",
              "      <td>2012-09-22</td>\n",
              "      <td>20:49:10</td>\n",
              "      <td>74</td>\n",
              "    </tr>\n",
              "    <tr>\n",
              "      <th>4</th>\n",
              "      <td>C20345</td>\n",
              "      <td>2011-08-23</td>\n",
              "      <td>11:50:26</td>\n",
              "      <td>81</td>\n",
              "    </tr>\n",
              "  </tbody>\n",
              "</table>\n",
              "</div>"
            ],
            "text/plain": [
              "  CustomerID DateOfOrder timestamp  OrderQuantity\n",
              "0     C16368  2013-08-11  15:17:52             15\n",
              "1     C20345  2011-04-01  19:50:00             92\n",
              "2     C20345  2012-06-29  15:11:56             95\n",
              "3     C20345  2012-09-22  20:49:10             74\n",
              "4     C20345  2011-08-23  11:50:26             81"
            ]
          },
          "metadata": {},
          "execution_count": 195
        }
      ]
    },
    {
      "cell_type": "code",
      "metadata": {
        "id": "auYBCCFk3Xkp",
        "colab": {
          "base_uri": "https://localhost:8080/",
          "height": 731
        },
        "outputId": "b7659040-4a55-4deb-abe3-d2351ff79b6c"
      },
      "source": [
        "sns.histplot(binwidth=0.5, x='RetentionPotential', hue='OnlineCommunication', data=data, stat=\"count\", multiple=\"stack\")\n"
      ],
      "execution_count": 196,
      "outputs": [
        {
          "output_type": "execute_result",
          "data": {
            "text/plain": [
              "<matplotlib.axes._subplots.AxesSubplot at 0x7f1644cc6510>"
            ]
          },
          "metadata": {},
          "execution_count": 196
        },
        {
          "output_type": "display_data",
          "data": {
            "image/png": "[encoded data removed]",
            "text/plain": [
              "<Figure size 1152x864 with 1 Axes>"
            ]
          },
          "metadata": {
            "needs_background": "light"
          }
        }
      ]
    },
    {
      "cell_type": "code",
      "metadata": {
        "colab": {
          "base_uri": "https://localhost:8080/",
          "height": 731
        },
        "id": "XMCcoX-J7fhS",
        "outputId": "1dfbb218-26a9-47cd-d7c0-2fa86293f973"
      },
      "source": [
        "sns.histplot(binwidth=0.5, x='RetentionPotential', hue='AutomaticRefill', data=data, stat=\"count\", multiple=\"stack\")\n"
      ],
      "execution_count": 197,
      "outputs": [
        {
          "output_type": "execute_result",
          "data": {
            "text/plain": [
              "<matplotlib.axes._subplots.AxesSubplot at 0x7f16420d87d0>"
            ]
          },
          "metadata": {},
          "execution_count": 197
        },
        {
          "output_type": "display_data",
          "data": {
            "image/png": "[encoded data removed]",
            "text/plain": [
              "<Figure size 1152x864 with 1 Axes>"
            ]
          },
          "metadata": {
            "needs_background": "light"
          }
        }
      ]
    },
    {
      "cell_type": "code",
      "metadata": {
        "colab": {
          "base_uri": "https://localhost:8080/",
          "height": 731
        },
        "id": "xzW6bXvl7lSh",
        "outputId": "471a6e6d-280d-4cee-f6a9-2c08197965b5"
      },
      "source": [
        "sns.histplot(binwidth=0.5, x='RetentionPotential', hue='DoorstepDelivery', data=data, stat=\"count\", multiple=\"stack\")\n"
      ],
      "execution_count": 198,
      "outputs": [
        {
          "output_type": "execute_result",
          "data": {
            "text/plain": [
              "<matplotlib.axes._subplots.AxesSubplot at 0x7f164c65cb10>"
            ]
          },
          "metadata": {},
          "execution_count": 198
        },
        {
          "output_type": "display_data",
          "data": {
            "image/png": "[encoded data removed]",
            "text/plain": [
              "<Figure size 1152x864 with 1 Axes>"
            ]
          },
          "metadata": {
            "needs_background": "light"
          }
        }
      ]
    },
    {
      "cell_type": "code",
      "metadata": {
        "colab": {
          "base_uri": "https://localhost:8080/",
          "height": 731
        },
        "id": "e_UJOyqv7oTc",
        "outputId": "176e565b-4222-4084-8192-207ff0c18951"
      },
      "source": [
        "sns.histplot(binwidth=0.5, x='RetentionPotential', hue='PreferredDeliveryDay', data=data, stat=\"count\", multiple=\"stack\")\n",
        "\n"
      ],
      "execution_count": 199,
      "outputs": [
        {
          "output_type": "execute_result",
          "data": {
            "text/plain": [
              "<matplotlib.axes._subplots.AxesSubplot at 0x7f164c5a2990>"
            ]
          },
          "metadata": {},
          "execution_count": 199
        },
        {
          "output_type": "display_data",
          "data": {
            "image/png": "[encoded data removed]",
            "text/plain": [
              "<Figure size 1152x864 with 1 Axes>"
            ]
          },
          "metadata": {
            "needs_background": "light"
          }
        }
      ]
    },
    {
      "cell_type": "code",
      "metadata": {
        "colab": {
          "base_uri": "https://localhost:8080/",
          "height": 224
        },
        "id": "w3fa7QiJ7rLU",
        "outputId": "f88f5c68-3bad-4b2e-e058-d80f705ea9bd"
      },
      "source": [
        "data.head()"
      ],
      "execution_count": 200,
      "outputs": [
        {
          "output_type": "execute_result",
          "data": {
            "text/html": [
              "<div>\n",
              "<style scoped>\n",
              "    .dataframe tbody tr th:only-of-type {\n",
              "        vertical-align: middle;\n",
              "    }\n",
              "\n",
              "    .dataframe tbody tr th {\n",
              "        vertical-align: top;\n",
              "    }\n",
              "\n",
              "    .dataframe thead th {\n",
              "        text-align: right;\n",
              "    }\n",
              "</style>\n",
              "<table border=\"1\" class=\"dataframe\">\n",
              "  <thead>\n",
              "    <tr style=\"text-align: right;\">\n",
              "      <th></th>\n",
              "      <th>CustomerID</th>\n",
              "      <th>City</th>\n",
              "      <th>DateOfRegistration</th>\n",
              "      <th>OnlineCommunication</th>\n",
              "      <th>AutomaticRefill</th>\n",
              "      <th>DoorstepDelivery</th>\n",
              "      <th>PreferredDeliveryDay</th>\n",
              "      <th>RetentionPotential</th>\n",
              "    </tr>\n",
              "  </thead>\n",
              "  <tbody>\n",
              "    <tr>\n",
              "      <th>0</th>\n",
              "      <td>C16368</td>\n",
              "      <td>CITY2</td>\n",
              "      <td>2012-09-28</td>\n",
              "      <td>0</td>\n",
              "      <td>0</td>\n",
              "      <td>0</td>\n",
              "      <td>Monday</td>\n",
              "      <td>High</td>\n",
              "    </tr>\n",
              "    <tr>\n",
              "      <th>1</th>\n",
              "      <td>C20345</td>\n",
              "      <td>CITY2</td>\n",
              "      <td>2010-12-19</td>\n",
              "      <td>1</td>\n",
              "      <td>1</td>\n",
              "      <td>1</td>\n",
              "      <td>Friday</td>\n",
              "      <td>Low</td>\n",
              "    </tr>\n",
              "    <tr>\n",
              "      <th>2</th>\n",
              "      <td>C17683</td>\n",
              "      <td>CITY2</td>\n",
              "      <td>2010-10-03</td>\n",
              "      <td>0</td>\n",
              "      <td>0</td>\n",
              "      <td>0</td>\n",
              "      <td>Wednesday</td>\n",
              "      <td>Medium</td>\n",
              "    </tr>\n",
              "    <tr>\n",
              "      <th>3</th>\n",
              "      <td>C18647</td>\n",
              "      <td>CITY4</td>\n",
              "      <td>2010-11-27</td>\n",
              "      <td>0</td>\n",
              "      <td>0</td>\n",
              "      <td>0</td>\n",
              "      <td>Monday</td>\n",
              "      <td>Low</td>\n",
              "    </tr>\n",
              "    <tr>\n",
              "      <th>4</th>\n",
              "      <td>C36692</td>\n",
              "      <td>CITY2</td>\n",
              "      <td>2009-12-04</td>\n",
              "      <td>1</td>\n",
              "      <td>1</td>\n",
              "      <td>0</td>\n",
              "      <td>Friday</td>\n",
              "      <td>Low</td>\n",
              "    </tr>\n",
              "  </tbody>\n",
              "</table>\n",
              "</div>"
            ],
            "text/plain": [
              "  CustomerID   City  ... PreferredDeliveryDay RetentionPotential\n",
              "0     C16368  CITY2  ...               Monday               High\n",
              "1     C20345  CITY2  ...               Friday                Low\n",
              "2     C17683  CITY2  ...            Wednesday             Medium\n",
              "3     C18647  CITY4  ...               Monday                Low\n",
              "4     C36692  CITY2  ...               Friday                Low\n",
              "\n",
              "[5 rows x 8 columns]"
            ]
          },
          "metadata": {},
          "execution_count": 200
        }
      ]
    },
    {
      "cell_type": "code",
      "metadata": {
        "id": "IVCbVe3K7vCn"
      },
      "source": [
        "data['YearOfRegistration'] = data['DateOfRegistration'].dt.year"
      ],
      "execution_count": 201,
      "outputs": []
    },
    {
      "cell_type": "code",
      "metadata": {
        "colab": {
          "base_uri": "https://localhost:8080/",
          "height": 731
        },
        "id": "zdG01GTZ71E6",
        "outputId": "23fc01b5-2cfd-41b6-d931-59b37019e560"
      },
      "source": [
        "sns.histplot(binwidth=0.5, x='YearOfRegistration', hue='RetentionPotential', data=data, stat=\"count\", multiple=\"stack\")\n"
      ],
      "execution_count": 202,
      "outputs": [
        {
          "output_type": "execute_result",
          "data": {
            "text/plain": [
              "<matplotlib.axes._subplots.AxesSubplot at 0x7f164214c550>"
            ]
          },
          "metadata": {},
          "execution_count": 202
        },
        {
          "output_type": "display_data",
          "data": {
            "image/png": "[encoded data removed]",
            "text/plain": [
              "<Figure size 1152x864 with 1 Axes>"
            ]
          },
          "metadata": {
            "needs_background": "light"
          }
        }
      ]
    },
    {
      "cell_type": "code",
      "metadata": {
        "colab": {
          "base_uri": "https://localhost:8080/",
          "height": 204
        },
        "id": "QVRMqstO73mq",
        "outputId": "66825bd8-4fff-47d0-b718-15c065487ac0"
      },
      "source": [
        "transact.head()"
      ],
      "execution_count": 203,
      "outputs": [
        {
          "output_type": "execute_result",
          "data": {
            "text/html": [
              "<div>\n",
              "<style scoped>\n",
              "    .dataframe tbody tr th:only-of-type {\n",
              "        vertical-align: middle;\n",
              "    }\n",
              "\n",
              "    .dataframe tbody tr th {\n",
              "        vertical-align: top;\n",
              "    }\n",
              "\n",
              "    .dataframe thead th {\n",
              "        text-align: right;\n",
              "    }\n",
              "</style>\n",
              "<table border=\"1\" class=\"dataframe\">\n",
              "  <thead>\n",
              "    <tr style=\"text-align: right;\">\n",
              "      <th></th>\n",
              "      <th>CustomerID</th>\n",
              "      <th>DateOfOrder</th>\n",
              "      <th>timestamp</th>\n",
              "      <th>OrderQuantity</th>\n",
              "    </tr>\n",
              "  </thead>\n",
              "  <tbody>\n",
              "    <tr>\n",
              "      <th>0</th>\n",
              "      <td>C16368</td>\n",
              "      <td>2013-08-11</td>\n",
              "      <td>15:17:52</td>\n",
              "      <td>15</td>\n",
              "    </tr>\n",
              "    <tr>\n",
              "      <th>1</th>\n",
              "      <td>C20345</td>\n",
              "      <td>2011-04-01</td>\n",
              "      <td>19:50:00</td>\n",
              "      <td>92</td>\n",
              "    </tr>\n",
              "    <tr>\n",
              "      <th>2</th>\n",
              "      <td>C20345</td>\n",
              "      <td>2012-06-29</td>\n",
              "      <td>15:11:56</td>\n",
              "      <td>95</td>\n",
              "    </tr>\n",
              "    <tr>\n",
              "      <th>3</th>\n",
              "      <td>C20345</td>\n",
              "      <td>2012-09-22</td>\n",
              "      <td>20:49:10</td>\n",
              "      <td>74</td>\n",
              "    </tr>\n",
              "    <tr>\n",
              "      <th>4</th>\n",
              "      <td>C20345</td>\n",
              "      <td>2011-08-23</td>\n",
              "      <td>11:50:26</td>\n",
              "      <td>81</td>\n",
              "    </tr>\n",
              "  </tbody>\n",
              "</table>\n",
              "</div>"
            ],
            "text/plain": [
              "  CustomerID DateOfOrder timestamp  OrderQuantity\n",
              "0     C16368  2013-08-11  15:17:52             15\n",
              "1     C20345  2011-04-01  19:50:00             92\n",
              "2     C20345  2012-06-29  15:11:56             95\n",
              "3     C20345  2012-09-22  20:49:10             74\n",
              "4     C20345  2011-08-23  11:50:26             81"
            ]
          },
          "metadata": {},
          "execution_count": 203
        }
      ]
    },
    {
      "cell_type": "code",
      "metadata": {
        "colab": {
          "base_uri": "https://localhost:8080/",
          "height": 359
        },
        "id": "soQZ2BrM8A4T",
        "outputId": "49e2f298-3f99-412c-aad0-4af91e2b5827"
      },
      "source": [
        "transact.head(10).groupby('CustomerID')[['CustomerID','OrderQuantity']].head(10)"
      ],
      "execution_count": 204,
      "outputs": [
        {
          "output_type": "execute_result",
          "data": {
            "text/html": [
              "<div>\n",
              "<style scoped>\n",
              "    .dataframe tbody tr th:only-of-type {\n",
              "        vertical-align: middle;\n",
              "    }\n",
              "\n",
              "    .dataframe tbody tr th {\n",
              "        vertical-align: top;\n",
              "    }\n",
              "\n",
              "    .dataframe thead th {\n",
              "        text-align: right;\n",
              "    }\n",
              "</style>\n",
              "<table border=\"1\" class=\"dataframe\">\n",
              "  <thead>\n",
              "    <tr style=\"text-align: right;\">\n",
              "      <th></th>\n",
              "      <th>CustomerID</th>\n",
              "      <th>OrderQuantity</th>\n",
              "    </tr>\n",
              "  </thead>\n",
              "  <tbody>\n",
              "    <tr>\n",
              "      <th>0</th>\n",
              "      <td>C16368</td>\n",
              "      <td>15</td>\n",
              "    </tr>\n",
              "    <tr>\n",
              "      <th>1</th>\n",
              "      <td>C20345</td>\n",
              "      <td>92</td>\n",
              "    </tr>\n",
              "    <tr>\n",
              "      <th>2</th>\n",
              "      <td>C20345</td>\n",
              "      <td>95</td>\n",
              "    </tr>\n",
              "    <tr>\n",
              "      <th>3</th>\n",
              "      <td>C20345</td>\n",
              "      <td>74</td>\n",
              "    </tr>\n",
              "    <tr>\n",
              "      <th>4</th>\n",
              "      <td>C20345</td>\n",
              "      <td>81</td>\n",
              "    </tr>\n",
              "    <tr>\n",
              "      <th>5</th>\n",
              "      <td>C20345</td>\n",
              "      <td>78</td>\n",
              "    </tr>\n",
              "    <tr>\n",
              "      <th>6</th>\n",
              "      <td>C20345</td>\n",
              "      <td>83</td>\n",
              "    </tr>\n",
              "    <tr>\n",
              "      <th>7</th>\n",
              "      <td>C20345</td>\n",
              "      <td>86</td>\n",
              "    </tr>\n",
              "    <tr>\n",
              "      <th>8</th>\n",
              "      <td>C20345</td>\n",
              "      <td>85</td>\n",
              "    </tr>\n",
              "    <tr>\n",
              "      <th>9</th>\n",
              "      <td>C20345</td>\n",
              "      <td>83</td>\n",
              "    </tr>\n",
              "  </tbody>\n",
              "</table>\n",
              "</div>"
            ],
            "text/plain": [
              "  CustomerID  OrderQuantity\n",
              "0     C16368             15\n",
              "1     C20345             92\n",
              "2     C20345             95\n",
              "3     C20345             74\n",
              "4     C20345             81\n",
              "5     C20345             78\n",
              "6     C20345             83\n",
              "7     C20345             86\n",
              "8     C20345             85\n",
              "9     C20345             83"
            ]
          },
          "metadata": {},
          "execution_count": 204
        }
      ]
    },
    {
      "cell_type": "code",
      "metadata": {
        "colab": {
          "base_uri": "https://localhost:8080/"
        },
        "id": "3U4J0CSw8DqT",
        "outputId": "809e4ea7-0c83-4d79-9e08-cc3df54a2dcb"
      },
      "source": [
        "len(pd.np.unique(transact['CustomerID']))"
      ],
      "execution_count": 205,
      "outputs": [
        {
          "output_type": "stream",
          "name": "stderr",
          "text": [
            "/usr/local/lib/python3.7/dist-packages/ipykernel_launcher.py:1: FutureWarning: The pandas.np module is deprecated and will be removed from pandas in a future version. Import numpy directly instead\n",
            "  \"\"\"Entry point for launching an IPython kernel.\n"
          ]
        },
        {
          "output_type": "execute_result",
          "data": {
            "text/plain": [
              "23820"
            ]
          },
          "metadata": {},
          "execution_count": 205
        }
      ]
    },
    {
      "cell_type": "code",
      "metadata": {
        "colab": {
          "base_uri": "https://localhost:8080/",
          "height": 235
        },
        "id": "TFpHrC0e8H8b",
        "outputId": "22b49395-6933-4e1f-f33e-1dabf768ee01"
      },
      "source": [
        "trans_data = transact.groupby('CustomerID').agg({'OrderQuantity': ['sum']}).reset_index()\n",
        "\n",
        "trans_data.head()"
      ],
      "execution_count": 206,
      "outputs": [
        {
          "output_type": "execute_result",
          "data": {
            "text/html": [
              "<div>\n",
              "<style scoped>\n",
              "    .dataframe tbody tr th:only-of-type {\n",
              "        vertical-align: middle;\n",
              "    }\n",
              "\n",
              "    .dataframe tbody tr th {\n",
              "        vertical-align: top;\n",
              "    }\n",
              "\n",
              "    .dataframe thead tr th {\n",
              "        text-align: left;\n",
              "    }\n",
              "</style>\n",
              "<table border=\"1\" class=\"dataframe\">\n",
              "  <thead>\n",
              "    <tr>\n",
              "      <th></th>\n",
              "      <th>CustomerID</th>\n",
              "      <th>OrderQuantity</th>\n",
              "    </tr>\n",
              "    <tr>\n",
              "      <th></th>\n",
              "      <th></th>\n",
              "      <th>sum</th>\n",
              "    </tr>\n",
              "  </thead>\n",
              "  <tbody>\n",
              "    <tr>\n",
              "      <th>0</th>\n",
              "      <td>C12116</td>\n",
              "      <td>115</td>\n",
              "    </tr>\n",
              "    <tr>\n",
              "      <th>1</th>\n",
              "      <td>C12117</td>\n",
              "      <td>41</td>\n",
              "    </tr>\n",
              "    <tr>\n",
              "      <th>2</th>\n",
              "      <td>C12118</td>\n",
              "      <td>41</td>\n",
              "    </tr>\n",
              "    <tr>\n",
              "      <th>3</th>\n",
              "      <td>C12119</td>\n",
              "      <td>52</td>\n",
              "    </tr>\n",
              "    <tr>\n",
              "      <th>4</th>\n",
              "      <td>C12120</td>\n",
              "      <td>31</td>\n",
              "    </tr>\n",
              "  </tbody>\n",
              "</table>\n",
              "</div>"
            ],
            "text/plain": [
              "  CustomerID OrderQuantity\n",
              "                       sum\n",
              "0     C12116           115\n",
              "1     C12117            41\n",
              "2     C12118            41\n",
              "3     C12119            52\n",
              "4     C12120            31"
            ]
          },
          "metadata": {},
          "execution_count": 206
        }
      ]
    },
    {
      "cell_type": "code",
      "metadata": {
        "id": "CrXeZLJh8QA_"
      },
      "source": [
        "trans_data.columns = ['CustomerID', 'OrderQuantity_Summed']"
      ],
      "execution_count": 207,
      "outputs": []
    },
    {
      "cell_type": "markdown",
      "metadata": {
        "id": "6pEgClyo8X4l"
      },
      "source": [
        ""
      ]
    },
    {
      "cell_type": "code",
      "metadata": {
        "colab": {
          "base_uri": "https://localhost:8080/",
          "height": 204
        },
        "id": "leFFUl638ZOV",
        "outputId": "b7892a68-9535-4e66-f75a-ed5077405f01"
      },
      "source": [
        "trans_data.head()"
      ],
      "execution_count": 208,
      "outputs": [
        {
          "output_type": "execute_result",
          "data": {
            "text/html": [
              "<div>\n",
              "<style scoped>\n",
              "    .dataframe tbody tr th:only-of-type {\n",
              "        vertical-align: middle;\n",
              "    }\n",
              "\n",
              "    .dataframe tbody tr th {\n",
              "        vertical-align: top;\n",
              "    }\n",
              "\n",
              "    .dataframe thead th {\n",
              "        text-align: right;\n",
              "    }\n",
              "</style>\n",
              "<table border=\"1\" class=\"dataframe\">\n",
              "  <thead>\n",
              "    <tr style=\"text-align: right;\">\n",
              "      <th></th>\n",
              "      <th>CustomerID</th>\n",
              "      <th>OrderQuantity_Summed</th>\n",
              "    </tr>\n",
              "  </thead>\n",
              "  <tbody>\n",
              "    <tr>\n",
              "      <th>0</th>\n",
              "      <td>C12116</td>\n",
              "      <td>115</td>\n",
              "    </tr>\n",
              "    <tr>\n",
              "      <th>1</th>\n",
              "      <td>C12117</td>\n",
              "      <td>41</td>\n",
              "    </tr>\n",
              "    <tr>\n",
              "      <th>2</th>\n",
              "      <td>C12118</td>\n",
              "      <td>41</td>\n",
              "    </tr>\n",
              "    <tr>\n",
              "      <th>3</th>\n",
              "      <td>C12119</td>\n",
              "      <td>52</td>\n",
              "    </tr>\n",
              "    <tr>\n",
              "      <th>4</th>\n",
              "      <td>C12120</td>\n",
              "      <td>31</td>\n",
              "    </tr>\n",
              "  </tbody>\n",
              "</table>\n",
              "</div>"
            ],
            "text/plain": [
              "  CustomerID  OrderQuantity_Summed\n",
              "0     C12116                   115\n",
              "1     C12117                    41\n",
              "2     C12118                    41\n",
              "3     C12119                    52\n",
              "4     C12120                    31"
            ]
          },
          "metadata": {},
          "execution_count": 208
        }
      ]
    },
    {
      "cell_type": "code",
      "metadata": {
        "id": "-fOdSNAq8bAG"
      },
      "source": [
        "cid = []\n",
        "count = []\n",
        "for i in trans_data['CustomerID'].value_counts().items():\n",
        "  #print(i)\n",
        "  cid.append(i[0])\n",
        "  count.append(i[1])\n",
        "  #break"
      ],
      "execution_count": 209,
      "outputs": []
    },
    {
      "cell_type": "code",
      "metadata": {
        "id": "8Lb7GYXe8lGt"
      },
      "source": [
        "cust_trans_count = pd.DataFrame({'CustomerID':cid, 'Trans_Count': count})"
      ],
      "execution_count": 210,
      "outputs": []
    },
    {
      "cell_type": "markdown",
      "metadata": {
        "id": "kbFd0_9jV45j"
      },
      "source": [
        "The Number of transactions per Customer is obtained from Transaction data set"
      ]
    },
    {
      "cell_type": "code",
      "metadata": {
        "colab": {
          "base_uri": "https://localhost:8080/",
          "height": 204
        },
        "id": "dLbYwSXf8t44",
        "outputId": "91a8d7bb-1baf-4bc8-b271-b9ba4702af99"
      },
      "source": [
        "cust_trans_count.head()"
      ],
      "execution_count": 211,
      "outputs": [
        {
          "output_type": "execute_result",
          "data": {
            "text/html": [
              "<div>\n",
              "<style scoped>\n",
              "    .dataframe tbody tr th:only-of-type {\n",
              "        vertical-align: middle;\n",
              "    }\n",
              "\n",
              "    .dataframe tbody tr th {\n",
              "        vertical-align: top;\n",
              "    }\n",
              "\n",
              "    .dataframe thead th {\n",
              "        text-align: right;\n",
              "    }\n",
              "</style>\n",
              "<table border=\"1\" class=\"dataframe\">\n",
              "  <thead>\n",
              "    <tr style=\"text-align: right;\">\n",
              "      <th></th>\n",
              "      <th>CustomerID</th>\n",
              "      <th>Trans_Count</th>\n",
              "    </tr>\n",
              "  </thead>\n",
              "  <tbody>\n",
              "    <tr>\n",
              "      <th>0</th>\n",
              "      <td>C12256</td>\n",
              "      <td>1</td>\n",
              "    </tr>\n",
              "    <tr>\n",
              "      <th>1</th>\n",
              "      <td>C41791</td>\n",
              "      <td>1</td>\n",
              "    </tr>\n",
              "    <tr>\n",
              "      <th>2</th>\n",
              "      <td>C27297</td>\n",
              "      <td>1</td>\n",
              "    </tr>\n",
              "    <tr>\n",
              "      <th>3</th>\n",
              "      <td>C24553</td>\n",
              "      <td>1</td>\n",
              "    </tr>\n",
              "    <tr>\n",
              "      <th>4</th>\n",
              "      <td>C23002</td>\n",
              "      <td>1</td>\n",
              "    </tr>\n",
              "  </tbody>\n",
              "</table>\n",
              "</div>"
            ],
            "text/plain": [
              "  CustomerID  Trans_Count\n",
              "0     C12256            1\n",
              "1     C41791            1\n",
              "2     C27297            1\n",
              "3     C24553            1\n",
              "4     C23002            1"
            ]
          },
          "metadata": {},
          "execution_count": 211
        }
      ]
    },
    {
      "cell_type": "code",
      "metadata": {
        "id": "F4zCWs5e80d_"
      },
      "source": [
        "full_tranc = trans_data.merge(cust_trans_count)"
      ],
      "execution_count": 212,
      "outputs": []
    },
    {
      "cell_type": "code",
      "metadata": {
        "colab": {
          "base_uri": "https://localhost:8080/",
          "height": 204
        },
        "id": "LabO4H5u87HA",
        "outputId": "e1e0597a-a52f-47bc-ae69-cc533586b90d"
      },
      "source": [
        "full_tranc.head()"
      ],
      "execution_count": 213,
      "outputs": [
        {
          "output_type": "execute_result",
          "data": {
            "text/html": [
              "<div>\n",
              "<style scoped>\n",
              "    .dataframe tbody tr th:only-of-type {\n",
              "        vertical-align: middle;\n",
              "    }\n",
              "\n",
              "    .dataframe tbody tr th {\n",
              "        vertical-align: top;\n",
              "    }\n",
              "\n",
              "    .dataframe thead th {\n",
              "        text-align: right;\n",
              "    }\n",
              "</style>\n",
              "<table border=\"1\" class=\"dataframe\">\n",
              "  <thead>\n",
              "    <tr style=\"text-align: right;\">\n",
              "      <th></th>\n",
              "      <th>CustomerID</th>\n",
              "      <th>OrderQuantity_Summed</th>\n",
              "      <th>Trans_Count</th>\n",
              "    </tr>\n",
              "  </thead>\n",
              "  <tbody>\n",
              "    <tr>\n",
              "      <th>0</th>\n",
              "      <td>C12116</td>\n",
              "      <td>115</td>\n",
              "      <td>1</td>\n",
              "    </tr>\n",
              "    <tr>\n",
              "      <th>1</th>\n",
              "      <td>C12117</td>\n",
              "      <td>41</td>\n",
              "      <td>1</td>\n",
              "    </tr>\n",
              "    <tr>\n",
              "      <th>2</th>\n",
              "      <td>C12118</td>\n",
              "      <td>41</td>\n",
              "      <td>1</td>\n",
              "    </tr>\n",
              "    <tr>\n",
              "      <th>3</th>\n",
              "      <td>C12119</td>\n",
              "      <td>52</td>\n",
              "      <td>1</td>\n",
              "    </tr>\n",
              "    <tr>\n",
              "      <th>4</th>\n",
              "      <td>C12120</td>\n",
              "      <td>31</td>\n",
              "      <td>1</td>\n",
              "    </tr>\n",
              "  </tbody>\n",
              "</table>\n",
              "</div>"
            ],
            "text/plain": [
              "  CustomerID  OrderQuantity_Summed  Trans_Count\n",
              "0     C12116                   115            1\n",
              "1     C12117                    41            1\n",
              "2     C12118                    41            1\n",
              "3     C12119                    52            1\n",
              "4     C12120                    31            1"
            ]
          },
          "metadata": {},
          "execution_count": 213
        }
      ]
    },
    {
      "cell_type": "code",
      "metadata": {
        "colab": {
          "base_uri": "https://localhost:8080/",
          "height": 80
        },
        "id": "10Td1aHl8-4Y",
        "outputId": "d25a9e9c-a000-47d8-9419-b954fcb8b28f"
      },
      "source": [
        "full_tranc[full_tranc['CustomerID']=='C25557']"
      ],
      "execution_count": 214,
      "outputs": [
        {
          "output_type": "execute_result",
          "data": {
            "text/html": [
              "<div>\n",
              "<style scoped>\n",
              "    .dataframe tbody tr th:only-of-type {\n",
              "        vertical-align: middle;\n",
              "    }\n",
              "\n",
              "    .dataframe tbody tr th {\n",
              "        vertical-align: top;\n",
              "    }\n",
              "\n",
              "    .dataframe thead th {\n",
              "        text-align: right;\n",
              "    }\n",
              "</style>\n",
              "<table border=\"1\" class=\"dataframe\">\n",
              "  <thead>\n",
              "    <tr style=\"text-align: right;\">\n",
              "      <th></th>\n",
              "      <th>CustomerID</th>\n",
              "      <th>OrderQuantity_Summed</th>\n",
              "      <th>Trans_Count</th>\n",
              "    </tr>\n",
              "  </thead>\n",
              "  <tbody>\n",
              "    <tr>\n",
              "      <th>10649</th>\n",
              "      <td>C25557</td>\n",
              "      <td>16350</td>\n",
              "      <td>1</td>\n",
              "    </tr>\n",
              "  </tbody>\n",
              "</table>\n",
              "</div>"
            ],
            "text/plain": [
              "      CustomerID  OrderQuantity_Summed  Trans_Count\n",
              "10649     C25557                 16350            1"
            ]
          },
          "metadata": {},
          "execution_count": 214
        }
      ]
    },
    {
      "cell_type": "code",
      "metadata": {
        "id": "jM8l8hcd9CCC"
      },
      "source": [
        "tr_cs_data = data.merge(full_tranc)"
      ],
      "execution_count": 215,
      "outputs": []
    },
    {
      "cell_type": "code",
      "metadata": {
        "colab": {
          "base_uri": "https://localhost:8080/",
          "height": 224
        },
        "id": "jns4hSY69MMx",
        "outputId": "604290e7-8773-4481-df15-dbde39c6c07a"
      },
      "source": [
        "tr_cs_data.head()"
      ],
      "execution_count": 216,
      "outputs": [
        {
          "output_type": "execute_result",
          "data": {
            "text/html": [
              "<div>\n",
              "<style scoped>\n",
              "    .dataframe tbody tr th:only-of-type {\n",
              "        vertical-align: middle;\n",
              "    }\n",
              "\n",
              "    .dataframe tbody tr th {\n",
              "        vertical-align: top;\n",
              "    }\n",
              "\n",
              "    .dataframe thead th {\n",
              "        text-align: right;\n",
              "    }\n",
              "</style>\n",
              "<table border=\"1\" class=\"dataframe\">\n",
              "  <thead>\n",
              "    <tr style=\"text-align: right;\">\n",
              "      <th></th>\n",
              "      <th>CustomerID</th>\n",
              "      <th>City</th>\n",
              "      <th>DateOfRegistration</th>\n",
              "      <th>OnlineCommunication</th>\n",
              "      <th>AutomaticRefill</th>\n",
              "      <th>DoorstepDelivery</th>\n",
              "      <th>PreferredDeliveryDay</th>\n",
              "      <th>RetentionPotential</th>\n",
              "      <th>YearOfRegistration</th>\n",
              "      <th>OrderQuantity_Summed</th>\n",
              "      <th>Trans_Count</th>\n",
              "    </tr>\n",
              "  </thead>\n",
              "  <tbody>\n",
              "    <tr>\n",
              "      <th>0</th>\n",
              "      <td>C16368</td>\n",
              "      <td>CITY2</td>\n",
              "      <td>2012-09-28</td>\n",
              "      <td>0</td>\n",
              "      <td>0</td>\n",
              "      <td>0</td>\n",
              "      <td>Monday</td>\n",
              "      <td>High</td>\n",
              "      <td>2012</td>\n",
              "      <td>15</td>\n",
              "      <td>1</td>\n",
              "    </tr>\n",
              "    <tr>\n",
              "      <th>1</th>\n",
              "      <td>C20345</td>\n",
              "      <td>CITY2</td>\n",
              "      <td>2010-12-19</td>\n",
              "      <td>1</td>\n",
              "      <td>1</td>\n",
              "      <td>1</td>\n",
              "      <td>Friday</td>\n",
              "      <td>Low</td>\n",
              "      <td>2010</td>\n",
              "      <td>15614</td>\n",
              "      <td>1</td>\n",
              "    </tr>\n",
              "    <tr>\n",
              "      <th>2</th>\n",
              "      <td>C17683</td>\n",
              "      <td>CITY2</td>\n",
              "      <td>2010-10-03</td>\n",
              "      <td>0</td>\n",
              "      <td>0</td>\n",
              "      <td>0</td>\n",
              "      <td>Wednesday</td>\n",
              "      <td>Medium</td>\n",
              "      <td>2010</td>\n",
              "      <td>443</td>\n",
              "      <td>1</td>\n",
              "    </tr>\n",
              "    <tr>\n",
              "      <th>3</th>\n",
              "      <td>C18647</td>\n",
              "      <td>CITY4</td>\n",
              "      <td>2010-11-27</td>\n",
              "      <td>0</td>\n",
              "      <td>0</td>\n",
              "      <td>0</td>\n",
              "      <td>Monday</td>\n",
              "      <td>Low</td>\n",
              "      <td>2010</td>\n",
              "      <td>748</td>\n",
              "      <td>1</td>\n",
              "    </tr>\n",
              "    <tr>\n",
              "      <th>4</th>\n",
              "      <td>C36692</td>\n",
              "      <td>CITY2</td>\n",
              "      <td>2009-12-04</td>\n",
              "      <td>1</td>\n",
              "      <td>1</td>\n",
              "      <td>0</td>\n",
              "      <td>Friday</td>\n",
              "      <td>Low</td>\n",
              "      <td>2009</td>\n",
              "      <td>2350</td>\n",
              "      <td>1</td>\n",
              "    </tr>\n",
              "  </tbody>\n",
              "</table>\n",
              "</div>"
            ],
            "text/plain": [
              "  CustomerID   City  ... OrderQuantity_Summed Trans_Count\n",
              "0     C16368  CITY2  ...                   15           1\n",
              "1     C20345  CITY2  ...                15614           1\n",
              "2     C17683  CITY2  ...                  443           1\n",
              "3     C18647  CITY4  ...                  748           1\n",
              "4     C36692  CITY2  ...                 2350           1\n",
              "\n",
              "[5 rows x 11 columns]"
            ]
          },
          "metadata": {},
          "execution_count": 216
        }
      ]
    },
    {
      "cell_type": "code",
      "metadata": {
        "colab": {
          "base_uri": "https://localhost:8080/"
        },
        "id": "FYh8wNSl9OXF",
        "outputId": "5fe2a305-1410-42f5-9b08-e80a4e200ea0"
      },
      "source": [
        "tr_cs_data.shape"
      ],
      "execution_count": 217,
      "outputs": [
        {
          "output_type": "execute_result",
          "data": {
            "text/plain": [
              "(23820, 11)"
            ]
          },
          "metadata": {},
          "execution_count": 217
        }
      ]
    },
    {
      "cell_type": "code",
      "metadata": {
        "colab": {
          "base_uri": "https://localhost:8080/"
        },
        "id": "0opE5M0k9UQQ",
        "outputId": "6b913946-ec16-4127-94a8-d8074db4f8e3"
      },
      "source": [
        "len(email['CustomerID'].unique())"
      ],
      "execution_count": 218,
      "outputs": [
        {
          "output_type": "execute_result",
          "data": {
            "text/plain": [
              "23820"
            ]
          },
          "metadata": {},
          "execution_count": 218
        }
      ]
    },
    {
      "cell_type": "code",
      "metadata": {
        "colab": {
          "base_uri": "https://localhost:8080/",
          "height": 204
        },
        "id": "uR3zC-Kh9Y-H",
        "outputId": "4cbdf2a4-419c-4272-f1c1-a966be98d899"
      },
      "source": [
        "email.head()"
      ],
      "execution_count": 219,
      "outputs": [
        {
          "output_type": "execute_result",
          "data": {
            "text/html": [
              "<div>\n",
              "<style scoped>\n",
              "    .dataframe tbody tr th:only-of-type {\n",
              "        vertical-align: middle;\n",
              "    }\n",
              "\n",
              "    .dataframe tbody tr th {\n",
              "        vertical-align: top;\n",
              "    }\n",
              "\n",
              "    .dataframe thead th {\n",
              "        text-align: right;\n",
              "    }\n",
              "</style>\n",
              "<table border=\"1\" class=\"dataframe\">\n",
              "  <thead>\n",
              "    <tr style=\"text-align: right;\">\n",
              "      <th></th>\n",
              "      <th>CustomerID</th>\n",
              "      <th>DateOfemail</th>\n",
              "      <th>EmailType</th>\n",
              "      <th>timestamp</th>\n",
              "      <th>MailOpened</th>\n",
              "      <th>MailClicked</th>\n",
              "    </tr>\n",
              "  </thead>\n",
              "  <tbody>\n",
              "    <tr>\n",
              "      <th>0</th>\n",
              "      <td>C16368</td>\n",
              "      <td>2012-09-28</td>\n",
              "      <td>WelcomeEmail</td>\n",
              "      <td>15:56:50</td>\n",
              "      <td>yes</td>\n",
              "      <td>NotApplicable</td>\n",
              "    </tr>\n",
              "    <tr>\n",
              "      <th>1</th>\n",
              "      <td>C20345</td>\n",
              "      <td>2010-12-19</td>\n",
              "      <td>WelcomeEmail</td>\n",
              "      <td>15:10:30</td>\n",
              "      <td>yes</td>\n",
              "      <td>NotApplicable</td>\n",
              "    </tr>\n",
              "    <tr>\n",
              "      <th>2</th>\n",
              "      <td>C17683</td>\n",
              "      <td>2010-10-03</td>\n",
              "      <td>WelcomeEmail</td>\n",
              "      <td>17:12:24</td>\n",
              "      <td>yes</td>\n",
              "      <td>NotApplicable</td>\n",
              "    </tr>\n",
              "    <tr>\n",
              "      <th>3</th>\n",
              "      <td>C18647</td>\n",
              "      <td>2010-11-27</td>\n",
              "      <td>WelcomeEmail</td>\n",
              "      <td>16:59:02</td>\n",
              "      <td>yes</td>\n",
              "      <td>NotApplicable</td>\n",
              "    </tr>\n",
              "    <tr>\n",
              "      <th>4</th>\n",
              "      <td>C36692</td>\n",
              "      <td>2009-12-04</td>\n",
              "      <td>WelcomeEmail</td>\n",
              "      <td>17:27:22</td>\n",
              "      <td>yes</td>\n",
              "      <td>NotApplicable</td>\n",
              "    </tr>\n",
              "  </tbody>\n",
              "</table>\n",
              "</div>"
            ],
            "text/plain": [
              "  CustomerID DateOfemail     EmailType timestamp MailOpened    MailClicked\n",
              "0     C16368  2012-09-28  WelcomeEmail  15:56:50        yes  NotApplicable\n",
              "1     C20345  2010-12-19  WelcomeEmail  15:10:30        yes  NotApplicable\n",
              "2     C17683  2010-10-03  WelcomeEmail  17:12:24        yes  NotApplicable\n",
              "3     C18647  2010-11-27  WelcomeEmail  16:59:02        yes  NotApplicable\n",
              "4     C36692  2009-12-04  WelcomeEmail  17:27:22        yes  NotApplicable"
            ]
          },
          "metadata": {},
          "execution_count": 219
        }
      ]
    },
    {
      "cell_type": "code",
      "metadata": {
        "colab": {
          "base_uri": "https://localhost:8080/",
          "height": 224
        },
        "id": "t8moFYJtCamX",
        "outputId": "9f37b825-e88b-4388-8c1a-45d0a787eabb"
      },
      "source": [
        "data.head()"
      ],
      "execution_count": 220,
      "outputs": [
        {
          "output_type": "execute_result",
          "data": {
            "text/html": [
              "<div>\n",
              "<style scoped>\n",
              "    .dataframe tbody tr th:only-of-type {\n",
              "        vertical-align: middle;\n",
              "    }\n",
              "\n",
              "    .dataframe tbody tr th {\n",
              "        vertical-align: top;\n",
              "    }\n",
              "\n",
              "    .dataframe thead th {\n",
              "        text-align: right;\n",
              "    }\n",
              "</style>\n",
              "<table border=\"1\" class=\"dataframe\">\n",
              "  <thead>\n",
              "    <tr style=\"text-align: right;\">\n",
              "      <th></th>\n",
              "      <th>CustomerID</th>\n",
              "      <th>City</th>\n",
              "      <th>DateOfRegistration</th>\n",
              "      <th>OnlineCommunication</th>\n",
              "      <th>AutomaticRefill</th>\n",
              "      <th>DoorstepDelivery</th>\n",
              "      <th>PreferredDeliveryDay</th>\n",
              "      <th>RetentionPotential</th>\n",
              "      <th>YearOfRegistration</th>\n",
              "    </tr>\n",
              "  </thead>\n",
              "  <tbody>\n",
              "    <tr>\n",
              "      <th>0</th>\n",
              "      <td>C16368</td>\n",
              "      <td>CITY2</td>\n",
              "      <td>2012-09-28</td>\n",
              "      <td>0</td>\n",
              "      <td>0</td>\n",
              "      <td>0</td>\n",
              "      <td>Monday</td>\n",
              "      <td>High</td>\n",
              "      <td>2012</td>\n",
              "    </tr>\n",
              "    <tr>\n",
              "      <th>1</th>\n",
              "      <td>C20345</td>\n",
              "      <td>CITY2</td>\n",
              "      <td>2010-12-19</td>\n",
              "      <td>1</td>\n",
              "      <td>1</td>\n",
              "      <td>1</td>\n",
              "      <td>Friday</td>\n",
              "      <td>Low</td>\n",
              "      <td>2010</td>\n",
              "    </tr>\n",
              "    <tr>\n",
              "      <th>2</th>\n",
              "      <td>C17683</td>\n",
              "      <td>CITY2</td>\n",
              "      <td>2010-10-03</td>\n",
              "      <td>0</td>\n",
              "      <td>0</td>\n",
              "      <td>0</td>\n",
              "      <td>Wednesday</td>\n",
              "      <td>Medium</td>\n",
              "      <td>2010</td>\n",
              "    </tr>\n",
              "    <tr>\n",
              "      <th>3</th>\n",
              "      <td>C18647</td>\n",
              "      <td>CITY4</td>\n",
              "      <td>2010-11-27</td>\n",
              "      <td>0</td>\n",
              "      <td>0</td>\n",
              "      <td>0</td>\n",
              "      <td>Monday</td>\n",
              "      <td>Low</td>\n",
              "      <td>2010</td>\n",
              "    </tr>\n",
              "    <tr>\n",
              "      <th>4</th>\n",
              "      <td>C36692</td>\n",
              "      <td>CITY2</td>\n",
              "      <td>2009-12-04</td>\n",
              "      <td>1</td>\n",
              "      <td>1</td>\n",
              "      <td>0</td>\n",
              "      <td>Friday</td>\n",
              "      <td>Low</td>\n",
              "      <td>2009</td>\n",
              "    </tr>\n",
              "  </tbody>\n",
              "</table>\n",
              "</div>"
            ],
            "text/plain": [
              "  CustomerID   City  ... RetentionPotential YearOfRegistration\n",
              "0     C16368  CITY2  ...               High               2012\n",
              "1     C20345  CITY2  ...                Low               2010\n",
              "2     C17683  CITY2  ...             Medium               2010\n",
              "3     C18647  CITY4  ...                Low               2010\n",
              "4     C36692  CITY2  ...                Low               2009\n",
              "\n",
              "[5 rows x 9 columns]"
            ]
          },
          "metadata": {},
          "execution_count": 220
        }
      ]
    },
    {
      "cell_type": "code",
      "metadata": {
        "colab": {
          "base_uri": "https://localhost:8080/"
        },
        "id": "KSe-4wGkNPxF",
        "outputId": "edfb771c-03fa-479a-f2d9-3e8ebc3d3d8d"
      },
      "source": [
        "email.dtypes"
      ],
      "execution_count": 221,
      "outputs": [
        {
          "output_type": "execute_result",
          "data": {
            "text/plain": [
              "CustomerID     object\n",
              "DateOfemail    object\n",
              "EmailType      object\n",
              "timestamp      object\n",
              "MailOpened     object\n",
              "MailClicked    object\n",
              "dtype: object"
            ]
          },
          "metadata": {},
          "execution_count": 221
        }
      ]
    },
    {
      "cell_type": "code",
      "metadata": {
        "id": "RCIRRsffPbLV"
      },
      "source": [
        "email['YearOfMail'] = pd.DatetimeIndex(email['DateOfemail']).year"
      ],
      "execution_count": 222,
      "outputs": []
    },
    {
      "cell_type": "code",
      "metadata": {
        "colab": {
          "base_uri": "https://localhost:8080/"
        },
        "id": "PDWywkTVQjlZ",
        "outputId": "30441690-0ac9-4368-b4c3-b8d8e68834ad"
      },
      "source": [
        "email['MailClicked'].value_counts()"
      ],
      "execution_count": 223,
      "outputs": [
        {
          "output_type": "execute_result",
          "data": {
            "text/plain": [
              "no               466011\n",
              "yes               27841\n",
              "NotApplicable     23820\n",
              "Name: MailClicked, dtype: int64"
            ]
          },
          "metadata": {},
          "execution_count": 223
        }
      ]
    },
    {
      "cell_type": "code",
      "metadata": {
        "colab": {
          "base_uri": "https://localhost:8080/"
        },
        "id": "2vb4qX84cPjs",
        "outputId": "180ea2de-89a6-4084-b84a-f7b41c46fbef"
      },
      "source": [
        "email.loc[email['MailOpened']=='no']['CustomerID']"
      ],
      "execution_count": 224,
      "outputs": [
        {
          "output_type": "execute_result",
          "data": {
            "text/plain": [
              "23856     C20345\n",
              "23862     C20345\n",
              "23865     C20345\n",
              "23895     C20345\n",
              "23925     C20345\n",
              "           ...  \n",
              "517658    C15522\n",
              "517662    C15522\n",
              "517663    C15522\n",
              "517665    C36140\n",
              "517668    C36140\n",
              "Name: CustomerID, Length: 369812, dtype: object"
            ]
          },
          "metadata": {},
          "execution_count": 224
        }
      ]
    },
    {
      "cell_type": "code",
      "metadata": {
        "id": "sYqto9xudw_u"
      },
      "source": [
        "datas = data.merge(email)"
      ],
      "execution_count": 225,
      "outputs": []
    },
    {
      "cell_type": "code",
      "metadata": {
        "colab": {
          "base_uri": "https://localhost:8080/",
          "height": 224
        },
        "id": "nYgiPzhPiET9",
        "outputId": "60e5da0a-f82d-4b2f-fa2b-6454341ae005"
      },
      "source": [
        "datas.head()"
      ],
      "execution_count": 226,
      "outputs": [
        {
          "output_type": "execute_result",
          "data": {
            "text/html": [
              "<div>\n",
              "<style scoped>\n",
              "    .dataframe tbody tr th:only-of-type {\n",
              "        vertical-align: middle;\n",
              "    }\n",
              "\n",
              "    .dataframe tbody tr th {\n",
              "        vertical-align: top;\n",
              "    }\n",
              "\n",
              "    .dataframe thead th {\n",
              "        text-align: right;\n",
              "    }\n",
              "</style>\n",
              "<table border=\"1\" class=\"dataframe\">\n",
              "  <thead>\n",
              "    <tr style=\"text-align: right;\">\n",
              "      <th></th>\n",
              "      <th>CustomerID</th>\n",
              "      <th>City</th>\n",
              "      <th>DateOfRegistration</th>\n",
              "      <th>OnlineCommunication</th>\n",
              "      <th>AutomaticRefill</th>\n",
              "      <th>DoorstepDelivery</th>\n",
              "      <th>PreferredDeliveryDay</th>\n",
              "      <th>RetentionPotential</th>\n",
              "      <th>YearOfRegistration</th>\n",
              "      <th>DateOfemail</th>\n",
              "      <th>EmailType</th>\n",
              "      <th>timestamp</th>\n",
              "      <th>MailOpened</th>\n",
              "      <th>MailClicked</th>\n",
              "      <th>YearOfMail</th>\n",
              "    </tr>\n",
              "  </thead>\n",
              "  <tbody>\n",
              "    <tr>\n",
              "      <th>0</th>\n",
              "      <td>C16368</td>\n",
              "      <td>CITY2</td>\n",
              "      <td>2012-09-28</td>\n",
              "      <td>0</td>\n",
              "      <td>0</td>\n",
              "      <td>0</td>\n",
              "      <td>Monday</td>\n",
              "      <td>High</td>\n",
              "      <td>2012</td>\n",
              "      <td>2012-09-28</td>\n",
              "      <td>WelcomeEmail</td>\n",
              "      <td>15:56:50</td>\n",
              "      <td>yes</td>\n",
              "      <td>NotApplicable</td>\n",
              "      <td>2012</td>\n",
              "    </tr>\n",
              "    <tr>\n",
              "      <th>1</th>\n",
              "      <td>C16368</td>\n",
              "      <td>CITY2</td>\n",
              "      <td>2012-09-28</td>\n",
              "      <td>0</td>\n",
              "      <td>0</td>\n",
              "      <td>0</td>\n",
              "      <td>Monday</td>\n",
              "      <td>High</td>\n",
              "      <td>2012</td>\n",
              "      <td>2013-05-20</td>\n",
              "      <td>CustomizedEmail</td>\n",
              "      <td>15:10:30</td>\n",
              "      <td>yes</td>\n",
              "      <td>no</td>\n",
              "      <td>2013</td>\n",
              "    </tr>\n",
              "    <tr>\n",
              "      <th>2</th>\n",
              "      <td>C16368</td>\n",
              "      <td>CITY2</td>\n",
              "      <td>2012-09-28</td>\n",
              "      <td>0</td>\n",
              "      <td>0</td>\n",
              "      <td>0</td>\n",
              "      <td>Monday</td>\n",
              "      <td>High</td>\n",
              "      <td>2012</td>\n",
              "      <td>2013-02-05</td>\n",
              "      <td>CustomizedEmail</td>\n",
              "      <td>13:54:22</td>\n",
              "      <td>yes</td>\n",
              "      <td>no</td>\n",
              "      <td>2013</td>\n",
              "    </tr>\n",
              "    <tr>\n",
              "      <th>3</th>\n",
              "      <td>C16368</td>\n",
              "      <td>CITY2</td>\n",
              "      <td>2012-09-28</td>\n",
              "      <td>0</td>\n",
              "      <td>0</td>\n",
              "      <td>0</td>\n",
              "      <td>Monday</td>\n",
              "      <td>High</td>\n",
              "      <td>2012</td>\n",
              "      <td>2012-11-26</td>\n",
              "      <td>CustomizedEmail</td>\n",
              "      <td>11:22:32</td>\n",
              "      <td>yes</td>\n",
              "      <td>no</td>\n",
              "      <td>2012</td>\n",
              "    </tr>\n",
              "    <tr>\n",
              "      <th>4</th>\n",
              "      <td>C16368</td>\n",
              "      <td>CITY2</td>\n",
              "      <td>2012-09-28</td>\n",
              "      <td>0</td>\n",
              "      <td>0</td>\n",
              "      <td>0</td>\n",
              "      <td>Monday</td>\n",
              "      <td>High</td>\n",
              "      <td>2012</td>\n",
              "      <td>2013-05-30</td>\n",
              "      <td>CustomizedEmail</td>\n",
              "      <td>14:04:42</td>\n",
              "      <td>yes</td>\n",
              "      <td>no</td>\n",
              "      <td>2013</td>\n",
              "    </tr>\n",
              "  </tbody>\n",
              "</table>\n",
              "</div>"
            ],
            "text/plain": [
              "  CustomerID   City DateOfRegistration  ... MailOpened    MailClicked YearOfMail\n",
              "0     C16368  CITY2         2012-09-28  ...        yes  NotApplicable       2012\n",
              "1     C16368  CITY2         2012-09-28  ...        yes             no       2013\n",
              "2     C16368  CITY2         2012-09-28  ...        yes             no       2013\n",
              "3     C16368  CITY2         2012-09-28  ...        yes             no       2012\n",
              "4     C16368  CITY2         2012-09-28  ...        yes             no       2013\n",
              "\n",
              "[5 rows x 15 columns]"
            ]
          },
          "metadata": {},
          "execution_count": 226
        }
      ]
    },
    {
      "cell_type": "code",
      "metadata": {
        "id": "VKD44H44iHUP"
      },
      "source": [
        "inactive_cus =datas.loc[(datas['MailOpened']=='no') & (datas['MailClicked']=='no') & (datas['AutomaticRefill']==0)&(datas['DoorstepDelivery']==0)]['CustomerID'].unique()#['EmailType']#['YearOfRegistration']['YearOfMail']"
      ],
      "execution_count": 227,
      "outputs": []
    },
    {
      "cell_type": "code",
      "metadata": {
        "colab": {
          "base_uri": "https://localhost:8080/",
          "height": 204
        },
        "id": "EdfieVRYkBUA",
        "outputId": "6e1ac210-9bcf-49f4-80bc-7245f5fc6419"
      },
      "source": [
        "trans_data.head()"
      ],
      "execution_count": 228,
      "outputs": [
        {
          "output_type": "execute_result",
          "data": {
            "text/html": [
              "<div>\n",
              "<style scoped>\n",
              "    .dataframe tbody tr th:only-of-type {\n",
              "        vertical-align: middle;\n",
              "    }\n",
              "\n",
              "    .dataframe tbody tr th {\n",
              "        vertical-align: top;\n",
              "    }\n",
              "\n",
              "    .dataframe thead th {\n",
              "        text-align: right;\n",
              "    }\n",
              "</style>\n",
              "<table border=\"1\" class=\"dataframe\">\n",
              "  <thead>\n",
              "    <tr style=\"text-align: right;\">\n",
              "      <th></th>\n",
              "      <th>CustomerID</th>\n",
              "      <th>OrderQuantity_Summed</th>\n",
              "    </tr>\n",
              "  </thead>\n",
              "  <tbody>\n",
              "    <tr>\n",
              "      <th>0</th>\n",
              "      <td>C12116</td>\n",
              "      <td>115</td>\n",
              "    </tr>\n",
              "    <tr>\n",
              "      <th>1</th>\n",
              "      <td>C12117</td>\n",
              "      <td>41</td>\n",
              "    </tr>\n",
              "    <tr>\n",
              "      <th>2</th>\n",
              "      <td>C12118</td>\n",
              "      <td>41</td>\n",
              "    </tr>\n",
              "    <tr>\n",
              "      <th>3</th>\n",
              "      <td>C12119</td>\n",
              "      <td>52</td>\n",
              "    </tr>\n",
              "    <tr>\n",
              "      <th>4</th>\n",
              "      <td>C12120</td>\n",
              "      <td>31</td>\n",
              "    </tr>\n",
              "  </tbody>\n",
              "</table>\n",
              "</div>"
            ],
            "text/plain": [
              "  CustomerID  OrderQuantity_Summed\n",
              "0     C12116                   115\n",
              "1     C12117                    41\n",
              "2     C12118                    41\n",
              "3     C12119                    52\n",
              "4     C12120                    31"
            ]
          },
          "metadata": {},
          "execution_count": 228
        }
      ]
    },
    {
      "cell_type": "code",
      "metadata": {
        "colab": {
          "base_uri": "https://localhost:8080/",
          "height": 204
        },
        "id": "LAsis8WRI7Ha",
        "outputId": "466c43c4-c46b-4c2f-c5f4-887828065882"
      },
      "source": [
        "transact.head()"
      ],
      "execution_count": 229,
      "outputs": [
        {
          "output_type": "execute_result",
          "data": {
            "text/html": [
              "<div>\n",
              "<style scoped>\n",
              "    .dataframe tbody tr th:only-of-type {\n",
              "        vertical-align: middle;\n",
              "    }\n",
              "\n",
              "    .dataframe tbody tr th {\n",
              "        vertical-align: top;\n",
              "    }\n",
              "\n",
              "    .dataframe thead th {\n",
              "        text-align: right;\n",
              "    }\n",
              "</style>\n",
              "<table border=\"1\" class=\"dataframe\">\n",
              "  <thead>\n",
              "    <tr style=\"text-align: right;\">\n",
              "      <th></th>\n",
              "      <th>CustomerID</th>\n",
              "      <th>DateOfOrder</th>\n",
              "      <th>timestamp</th>\n",
              "      <th>OrderQuantity</th>\n",
              "    </tr>\n",
              "  </thead>\n",
              "  <tbody>\n",
              "    <tr>\n",
              "      <th>0</th>\n",
              "      <td>C16368</td>\n",
              "      <td>2013-08-11</td>\n",
              "      <td>15:17:52</td>\n",
              "      <td>15</td>\n",
              "    </tr>\n",
              "    <tr>\n",
              "      <th>1</th>\n",
              "      <td>C20345</td>\n",
              "      <td>2011-04-01</td>\n",
              "      <td>19:50:00</td>\n",
              "      <td>92</td>\n",
              "    </tr>\n",
              "    <tr>\n",
              "      <th>2</th>\n",
              "      <td>C20345</td>\n",
              "      <td>2012-06-29</td>\n",
              "      <td>15:11:56</td>\n",
              "      <td>95</td>\n",
              "    </tr>\n",
              "    <tr>\n",
              "      <th>3</th>\n",
              "      <td>C20345</td>\n",
              "      <td>2012-09-22</td>\n",
              "      <td>20:49:10</td>\n",
              "      <td>74</td>\n",
              "    </tr>\n",
              "    <tr>\n",
              "      <th>4</th>\n",
              "      <td>C20345</td>\n",
              "      <td>2011-08-23</td>\n",
              "      <td>11:50:26</td>\n",
              "      <td>81</td>\n",
              "    </tr>\n",
              "  </tbody>\n",
              "</table>\n",
              "</div>"
            ],
            "text/plain": [
              "  CustomerID DateOfOrder timestamp  OrderQuantity\n",
              "0     C16368  2013-08-11  15:17:52             15\n",
              "1     C20345  2011-04-01  19:50:00             92\n",
              "2     C20345  2012-06-29  15:11:56             95\n",
              "3     C20345  2012-09-22  20:49:10             74\n",
              "4     C20345  2011-08-23  11:50:26             81"
            ]
          },
          "metadata": {},
          "execution_count": 229
        }
      ]
    },
    {
      "cell_type": "code",
      "metadata": {
        "colab": {
          "base_uri": "https://localhost:8080/"
        },
        "id": "7p8P1FCzLF0o",
        "outputId": "bbd89e8d-31a8-40c5-9fbc-c0562c3bbefb"
      },
      "source": [
        "transact[transact['CustomerID'].isin(inactive_cus)].CustomerID.nunique()"
      ],
      "execution_count": 230,
      "outputs": [
        {
          "output_type": "execute_result",
          "data": {
            "text/plain": [
              "11923"
            ]
          },
          "metadata": {},
          "execution_count": 230
        }
      ]
    },
    {
      "cell_type": "code",
      "metadata": {
        "colab": {
          "base_uri": "https://localhost:8080/"
        },
        "id": "_XpqrO8INO_J",
        "outputId": "bac9c5fc-c8c0-48aa-e342-9c10c7f37d92"
      },
      "source": [
        "len(inactive_cus)\n"
      ],
      "execution_count": 231,
      "outputs": [
        {
          "output_type": "execute_result",
          "data": {
            "text/plain": [
              "11923"
            ]
          },
          "metadata": {},
          "execution_count": 231
        }
      ]
    },
    {
      "cell_type": "markdown",
      "metadata": {
        "id": "kQF4DXWlYN43"
      },
      "source": [
        "The attempt to get a list of Inactive Customers failed here "
      ]
    },
    {
      "cell_type": "markdown",
      "metadata": {
        "id": "-4iZ06oCYo6O"
      },
      "source": [
        "The dataset to model is below"
      ]
    },
    {
      "cell_type": "code",
      "metadata": {
        "colab": {
          "base_uri": "https://localhost:8080/",
          "height": 224
        },
        "id": "BRCxkRzYVWCS",
        "outputId": "4e57e21d-4468-4278-969d-af04dbcbd7b4"
      },
      "source": [
        "data.head()"
      ],
      "execution_count": 232,
      "outputs": [
        {
          "output_type": "execute_result",
          "data": {
            "text/html": [
              "<div>\n",
              "<style scoped>\n",
              "    .dataframe tbody tr th:only-of-type {\n",
              "        vertical-align: middle;\n",
              "    }\n",
              "\n",
              "    .dataframe tbody tr th {\n",
              "        vertical-align: top;\n",
              "    }\n",
              "\n",
              "    .dataframe thead th {\n",
              "        text-align: right;\n",
              "    }\n",
              "</style>\n",
              "<table border=\"1\" class=\"dataframe\">\n",
              "  <thead>\n",
              "    <tr style=\"text-align: right;\">\n",
              "      <th></th>\n",
              "      <th>CustomerID</th>\n",
              "      <th>City</th>\n",
              "      <th>DateOfRegistration</th>\n",
              "      <th>OnlineCommunication</th>\n",
              "      <th>AutomaticRefill</th>\n",
              "      <th>DoorstepDelivery</th>\n",
              "      <th>PreferredDeliveryDay</th>\n",
              "      <th>RetentionPotential</th>\n",
              "      <th>YearOfRegistration</th>\n",
              "    </tr>\n",
              "  </thead>\n",
              "  <tbody>\n",
              "    <tr>\n",
              "      <th>0</th>\n",
              "      <td>C16368</td>\n",
              "      <td>CITY2</td>\n",
              "      <td>2012-09-28</td>\n",
              "      <td>0</td>\n",
              "      <td>0</td>\n",
              "      <td>0</td>\n",
              "      <td>Monday</td>\n",
              "      <td>High</td>\n",
              "      <td>2012</td>\n",
              "    </tr>\n",
              "    <tr>\n",
              "      <th>1</th>\n",
              "      <td>C20345</td>\n",
              "      <td>CITY2</td>\n",
              "      <td>2010-12-19</td>\n",
              "      <td>1</td>\n",
              "      <td>1</td>\n",
              "      <td>1</td>\n",
              "      <td>Friday</td>\n",
              "      <td>Low</td>\n",
              "      <td>2010</td>\n",
              "    </tr>\n",
              "    <tr>\n",
              "      <th>2</th>\n",
              "      <td>C17683</td>\n",
              "      <td>CITY2</td>\n",
              "      <td>2010-10-03</td>\n",
              "      <td>0</td>\n",
              "      <td>0</td>\n",
              "      <td>0</td>\n",
              "      <td>Wednesday</td>\n",
              "      <td>Medium</td>\n",
              "      <td>2010</td>\n",
              "    </tr>\n",
              "    <tr>\n",
              "      <th>3</th>\n",
              "      <td>C18647</td>\n",
              "      <td>CITY4</td>\n",
              "      <td>2010-11-27</td>\n",
              "      <td>0</td>\n",
              "      <td>0</td>\n",
              "      <td>0</td>\n",
              "      <td>Monday</td>\n",
              "      <td>Low</td>\n",
              "      <td>2010</td>\n",
              "    </tr>\n",
              "    <tr>\n",
              "      <th>4</th>\n",
              "      <td>C36692</td>\n",
              "      <td>CITY2</td>\n",
              "      <td>2009-12-04</td>\n",
              "      <td>1</td>\n",
              "      <td>1</td>\n",
              "      <td>0</td>\n",
              "      <td>Friday</td>\n",
              "      <td>Low</td>\n",
              "      <td>2009</td>\n",
              "    </tr>\n",
              "  </tbody>\n",
              "</table>\n",
              "</div>"
            ],
            "text/plain": [
              "  CustomerID   City  ... RetentionPotential YearOfRegistration\n",
              "0     C16368  CITY2  ...               High               2012\n",
              "1     C20345  CITY2  ...                Low               2010\n",
              "2     C17683  CITY2  ...             Medium               2010\n",
              "3     C18647  CITY4  ...                Low               2010\n",
              "4     C36692  CITY2  ...                Low               2009\n",
              "\n",
              "[5 rows x 9 columns]"
            ]
          },
          "metadata": {},
          "execution_count": 232
        }
      ]
    },
    {
      "cell_type": "code",
      "metadata": {
        "id": "6rwc93nNZXxe"
      },
      "source": [
        "data.drop(['DateOfRegistration'],axis=1,inplace=True)"
      ],
      "execution_count": 233,
      "outputs": []
    },
    {
      "cell_type": "code",
      "metadata": {
        "colab": {
          "base_uri": "https://localhost:8080/",
          "height": 224
        },
        "id": "TBT4EaksZe5-",
        "outputId": "7ca3e268-6cd4-437d-c971-d90867e9b381"
      },
      "source": [
        "data.head()"
      ],
      "execution_count": 234,
      "outputs": [
        {
          "output_type": "execute_result",
          "data": {
            "text/html": [
              "<div>\n",
              "<style scoped>\n",
              "    .dataframe tbody tr th:only-of-type {\n",
              "        vertical-align: middle;\n",
              "    }\n",
              "\n",
              "    .dataframe tbody tr th {\n",
              "        vertical-align: top;\n",
              "    }\n",
              "\n",
              "    .dataframe thead th {\n",
              "        text-align: right;\n",
              "    }\n",
              "</style>\n",
              "<table border=\"1\" class=\"dataframe\">\n",
              "  <thead>\n",
              "    <tr style=\"text-align: right;\">\n",
              "      <th></th>\n",
              "      <th>CustomerID</th>\n",
              "      <th>City</th>\n",
              "      <th>OnlineCommunication</th>\n",
              "      <th>AutomaticRefill</th>\n",
              "      <th>DoorstepDelivery</th>\n",
              "      <th>PreferredDeliveryDay</th>\n",
              "      <th>RetentionPotential</th>\n",
              "      <th>YearOfRegistration</th>\n",
              "    </tr>\n",
              "  </thead>\n",
              "  <tbody>\n",
              "    <tr>\n",
              "      <th>0</th>\n",
              "      <td>C16368</td>\n",
              "      <td>CITY2</td>\n",
              "      <td>0</td>\n",
              "      <td>0</td>\n",
              "      <td>0</td>\n",
              "      <td>Monday</td>\n",
              "      <td>High</td>\n",
              "      <td>2012</td>\n",
              "    </tr>\n",
              "    <tr>\n",
              "      <th>1</th>\n",
              "      <td>C20345</td>\n",
              "      <td>CITY2</td>\n",
              "      <td>1</td>\n",
              "      <td>1</td>\n",
              "      <td>1</td>\n",
              "      <td>Friday</td>\n",
              "      <td>Low</td>\n",
              "      <td>2010</td>\n",
              "    </tr>\n",
              "    <tr>\n",
              "      <th>2</th>\n",
              "      <td>C17683</td>\n",
              "      <td>CITY2</td>\n",
              "      <td>0</td>\n",
              "      <td>0</td>\n",
              "      <td>0</td>\n",
              "      <td>Wednesday</td>\n",
              "      <td>Medium</td>\n",
              "      <td>2010</td>\n",
              "    </tr>\n",
              "    <tr>\n",
              "      <th>3</th>\n",
              "      <td>C18647</td>\n",
              "      <td>CITY4</td>\n",
              "      <td>0</td>\n",
              "      <td>0</td>\n",
              "      <td>0</td>\n",
              "      <td>Monday</td>\n",
              "      <td>Low</td>\n",
              "      <td>2010</td>\n",
              "    </tr>\n",
              "    <tr>\n",
              "      <th>4</th>\n",
              "      <td>C36692</td>\n",
              "      <td>CITY2</td>\n",
              "      <td>1</td>\n",
              "      <td>1</td>\n",
              "      <td>0</td>\n",
              "      <td>Friday</td>\n",
              "      <td>Low</td>\n",
              "      <td>2009</td>\n",
              "    </tr>\n",
              "  </tbody>\n",
              "</table>\n",
              "</div>"
            ],
            "text/plain": [
              "  CustomerID   City  ... RetentionPotential YearOfRegistration\n",
              "0     C16368  CITY2  ...               High               2012\n",
              "1     C20345  CITY2  ...                Low               2010\n",
              "2     C17683  CITY2  ...             Medium               2010\n",
              "3     C18647  CITY4  ...                Low               2010\n",
              "4     C36692  CITY2  ...                Low               2009\n",
              "\n",
              "[5 rows x 8 columns]"
            ]
          },
          "metadata": {},
          "execution_count": 234
        }
      ]
    },
    {
      "cell_type": "code",
      "metadata": {
        "id": "Lq5w_7gDaTRk"
      },
      "source": [
        "import datetime as dt\n",
        "today = dt.date.today()"
      ],
      "execution_count": 235,
      "outputs": []
    },
    {
      "cell_type": "code",
      "metadata": {
        "colab": {
          "base_uri": "https://localhost:8080/"
        },
        "id": "XupklA0qL6tQ",
        "outputId": "b9989d46-9be2-46f0-aac8-9fd1dcc6df4f"
      },
      "source": [
        "data.dtypes"
      ],
      "execution_count": 236,
      "outputs": [
        {
          "output_type": "execute_result",
          "data": {
            "text/plain": [
              "CustomerID              category\n",
              "City                    category\n",
              "OnlineCommunication     category\n",
              "AutomaticRefill         category\n",
              "DoorstepDelivery        category\n",
              "PreferredDeliveryDay    category\n",
              "RetentionPotential      category\n",
              "YearOfRegistration         int64\n",
              "dtype: object"
            ]
          },
          "metadata": {},
          "execution_count": 236
        }
      ]
    },
    {
      "cell_type": "code",
      "metadata": {
        "colab": {
          "base_uri": "https://localhost:8080/",
          "height": 204
        },
        "id": "J2UKCB7COJXC",
        "outputId": "072ee60a-c34a-4a2c-b283-29f20ed56860"
      },
      "source": [
        "email.head()"
      ],
      "execution_count": 237,
      "outputs": [
        {
          "output_type": "execute_result",
          "data": {
            "text/html": [
              "<div>\n",
              "<style scoped>\n",
              "    .dataframe tbody tr th:only-of-type {\n",
              "        vertical-align: middle;\n",
              "    }\n",
              "\n",
              "    .dataframe tbody tr th {\n",
              "        vertical-align: top;\n",
              "    }\n",
              "\n",
              "    .dataframe thead th {\n",
              "        text-align: right;\n",
              "    }\n",
              "</style>\n",
              "<table border=\"1\" class=\"dataframe\">\n",
              "  <thead>\n",
              "    <tr style=\"text-align: right;\">\n",
              "      <th></th>\n",
              "      <th>CustomerID</th>\n",
              "      <th>DateOfemail</th>\n",
              "      <th>EmailType</th>\n",
              "      <th>timestamp</th>\n",
              "      <th>MailOpened</th>\n",
              "      <th>MailClicked</th>\n",
              "      <th>YearOfMail</th>\n",
              "    </tr>\n",
              "  </thead>\n",
              "  <tbody>\n",
              "    <tr>\n",
              "      <th>0</th>\n",
              "      <td>C16368</td>\n",
              "      <td>2012-09-28</td>\n",
              "      <td>WelcomeEmail</td>\n",
              "      <td>15:56:50</td>\n",
              "      <td>yes</td>\n",
              "      <td>NotApplicable</td>\n",
              "      <td>2012</td>\n",
              "    </tr>\n",
              "    <tr>\n",
              "      <th>1</th>\n",
              "      <td>C20345</td>\n",
              "      <td>2010-12-19</td>\n",
              "      <td>WelcomeEmail</td>\n",
              "      <td>15:10:30</td>\n",
              "      <td>yes</td>\n",
              "      <td>NotApplicable</td>\n",
              "      <td>2010</td>\n",
              "    </tr>\n",
              "    <tr>\n",
              "      <th>2</th>\n",
              "      <td>C17683</td>\n",
              "      <td>2010-10-03</td>\n",
              "      <td>WelcomeEmail</td>\n",
              "      <td>17:12:24</td>\n",
              "      <td>yes</td>\n",
              "      <td>NotApplicable</td>\n",
              "      <td>2010</td>\n",
              "    </tr>\n",
              "    <tr>\n",
              "      <th>3</th>\n",
              "      <td>C18647</td>\n",
              "      <td>2010-11-27</td>\n",
              "      <td>WelcomeEmail</td>\n",
              "      <td>16:59:02</td>\n",
              "      <td>yes</td>\n",
              "      <td>NotApplicable</td>\n",
              "      <td>2010</td>\n",
              "    </tr>\n",
              "    <tr>\n",
              "      <th>4</th>\n",
              "      <td>C36692</td>\n",
              "      <td>2009-12-04</td>\n",
              "      <td>WelcomeEmail</td>\n",
              "      <td>17:27:22</td>\n",
              "      <td>yes</td>\n",
              "      <td>NotApplicable</td>\n",
              "      <td>2009</td>\n",
              "    </tr>\n",
              "  </tbody>\n",
              "</table>\n",
              "</div>"
            ],
            "text/plain": [
              "  CustomerID DateOfemail     EmailType  ... MailOpened    MailClicked YearOfMail\n",
              "0     C16368  2012-09-28  WelcomeEmail  ...        yes  NotApplicable       2012\n",
              "1     C20345  2010-12-19  WelcomeEmail  ...        yes  NotApplicable       2010\n",
              "2     C17683  2010-10-03  WelcomeEmail  ...        yes  NotApplicable       2010\n",
              "3     C18647  2010-11-27  WelcomeEmail  ...        yes  NotApplicable       2010\n",
              "4     C36692  2009-12-04  WelcomeEmail  ...        yes  NotApplicable       2009\n",
              "\n",
              "[5 rows x 7 columns]"
            ]
          },
          "metadata": {},
          "execution_count": 237
        }
      ]
    },
    {
      "cell_type": "code",
      "metadata": {
        "colab": {
          "base_uri": "https://localhost:8080/",
          "height": 419
        },
        "id": "fAwEjZR9aHsi",
        "outputId": "00c82cf0-f920-4d7f-dd54-b9d2782a4582"
      },
      "source": [
        "email[email[\"CustomerID\"].duplicated()]"
      ],
      "execution_count": 238,
      "outputs": [
        {
          "output_type": "execute_result",
          "data": {
            "text/html": [
              "<div>\n",
              "<style scoped>\n",
              "    .dataframe tbody tr th:only-of-type {\n",
              "        vertical-align: middle;\n",
              "    }\n",
              "\n",
              "    .dataframe tbody tr th {\n",
              "        vertical-align: top;\n",
              "    }\n",
              "\n",
              "    .dataframe thead th {\n",
              "        text-align: right;\n",
              "    }\n",
              "</style>\n",
              "<table border=\"1\" class=\"dataframe\">\n",
              "  <thead>\n",
              "    <tr style=\"text-align: right;\">\n",
              "      <th></th>\n",
              "      <th>CustomerID</th>\n",
              "      <th>DateOfemail</th>\n",
              "      <th>EmailType</th>\n",
              "      <th>timestamp</th>\n",
              "      <th>MailOpened</th>\n",
              "      <th>MailClicked</th>\n",
              "      <th>YearOfMail</th>\n",
              "    </tr>\n",
              "  </thead>\n",
              "  <tbody>\n",
              "    <tr>\n",
              "      <th>23820</th>\n",
              "      <td>C16368</td>\n",
              "      <td>2013-05-20</td>\n",
              "      <td>CustomizedEmail</td>\n",
              "      <td>15:10:30</td>\n",
              "      <td>yes</td>\n",
              "      <td>no</td>\n",
              "      <td>2013</td>\n",
              "    </tr>\n",
              "    <tr>\n",
              "      <th>23821</th>\n",
              "      <td>C16368</td>\n",
              "      <td>2013-02-05</td>\n",
              "      <td>CustomizedEmail</td>\n",
              "      <td>13:54:22</td>\n",
              "      <td>yes</td>\n",
              "      <td>no</td>\n",
              "      <td>2013</td>\n",
              "    </tr>\n",
              "    <tr>\n",
              "      <th>23822</th>\n",
              "      <td>C16368</td>\n",
              "      <td>2012-11-26</td>\n",
              "      <td>CustomizedEmail</td>\n",
              "      <td>11:22:32</td>\n",
              "      <td>yes</td>\n",
              "      <td>no</td>\n",
              "      <td>2012</td>\n",
              "    </tr>\n",
              "    <tr>\n",
              "      <th>23823</th>\n",
              "      <td>C16368</td>\n",
              "      <td>2013-05-30</td>\n",
              "      <td>CustomizedEmail</td>\n",
              "      <td>14:04:42</td>\n",
              "      <td>yes</td>\n",
              "      <td>no</td>\n",
              "      <td>2013</td>\n",
              "    </tr>\n",
              "    <tr>\n",
              "      <th>23824</th>\n",
              "      <td>C16368</td>\n",
              "      <td>2013-05-18</td>\n",
              "      <td>CustomizedEmail</td>\n",
              "      <td>10:18:16</td>\n",
              "      <td>yes</td>\n",
              "      <td>no</td>\n",
              "      <td>2013</td>\n",
              "    </tr>\n",
              "    <tr>\n",
              "      <th>...</th>\n",
              "      <td>...</td>\n",
              "      <td>...</td>\n",
              "      <td>...</td>\n",
              "      <td>...</td>\n",
              "      <td>...</td>\n",
              "      <td>...</td>\n",
              "      <td>...</td>\n",
              "    </tr>\n",
              "    <tr>\n",
              "      <th>517667</th>\n",
              "      <td>C36140</td>\n",
              "      <td>2018-01-18</td>\n",
              "      <td>CustomizedEmail</td>\n",
              "      <td>14:04:44</td>\n",
              "      <td>yes</td>\n",
              "      <td>yes</td>\n",
              "      <td>2018</td>\n",
              "    </tr>\n",
              "    <tr>\n",
              "      <th>517668</th>\n",
              "      <td>C36140</td>\n",
              "      <td>2018-01-21</td>\n",
              "      <td>CustomizedEmail</td>\n",
              "      <td>16:17:16</td>\n",
              "      <td>no</td>\n",
              "      <td>no</td>\n",
              "      <td>2018</td>\n",
              "    </tr>\n",
              "    <tr>\n",
              "      <th>517669</th>\n",
              "      <td>C36140</td>\n",
              "      <td>2018-01-20</td>\n",
              "      <td>CustomizedEmail</td>\n",
              "      <td>12:17:34</td>\n",
              "      <td>yes</td>\n",
              "      <td>yes</td>\n",
              "      <td>2018</td>\n",
              "    </tr>\n",
              "    <tr>\n",
              "      <th>517670</th>\n",
              "      <td>C36140</td>\n",
              "      <td>2018-01-20</td>\n",
              "      <td>CustomizedEmail</td>\n",
              "      <td>16:31:18</td>\n",
              "      <td>yes</td>\n",
              "      <td>no</td>\n",
              "      <td>2018</td>\n",
              "    </tr>\n",
              "    <tr>\n",
              "      <th>517671</th>\n",
              "      <td>C36140</td>\n",
              "      <td>2018-01-21</td>\n",
              "      <td>CustomizedEmail</td>\n",
              "      <td>14:23:16</td>\n",
              "      <td>yes</td>\n",
              "      <td>yes</td>\n",
              "      <td>2018</td>\n",
              "    </tr>\n",
              "  </tbody>\n",
              "</table>\n",
              "<p>493852 rows × 7 columns</p>\n",
              "</div>"
            ],
            "text/plain": [
              "       CustomerID DateOfemail  ... MailClicked YearOfMail\n",
              "23820      C16368  2013-05-20  ...          no       2013\n",
              "23821      C16368  2013-02-05  ...          no       2013\n",
              "23822      C16368  2012-11-26  ...          no       2012\n",
              "23823      C16368  2013-05-30  ...          no       2013\n",
              "23824      C16368  2013-05-18  ...          no       2013\n",
              "...           ...         ...  ...         ...        ...\n",
              "517667     C36140  2018-01-18  ...         yes       2018\n",
              "517668     C36140  2018-01-21  ...          no       2018\n",
              "517669     C36140  2018-01-20  ...         yes       2018\n",
              "517670     C36140  2018-01-20  ...          no       2018\n",
              "517671     C36140  2018-01-21  ...         yes       2018\n",
              "\n",
              "[493852 rows x 7 columns]"
            ]
          },
          "metadata": {},
          "execution_count": 238
        }
      ]
    },
    {
      "cell_type": "code",
      "metadata": {
        "id": "GWXMOjIGaLFf"
      },
      "source": [
        "email.drop_duplicates(inplace=True)"
      ],
      "execution_count": 239,
      "outputs": []
    },
    {
      "cell_type": "code",
      "metadata": {
        "id": "SkGkdFBwa8Gc"
      },
      "source": [
        "to_median = {'MailOpened': 'agg(lambda x:x.value_counts().index[0]','YearOfMail':'max'}"
      ],
      "execution_count": 240,
      "outputs": []
    },
    {
      "cell_type": "code",
      "metadata": {
        "id": "o8ytiQNZbzon"
      },
      "source": [
        "emails = email.groupby(by=\"CustomerID\").max(\"YearOfMail\").reset_index()"
      ],
      "execution_count": 241,
      "outputs": []
    },
    {
      "cell_type": "code",
      "metadata": {
        "colab": {
          "base_uri": "https://localhost:8080/",
          "height": 204
        },
        "id": "94an0o2pcIBU",
        "outputId": "227dcb0c-f39d-42bd-e0a2-23561db32220"
      },
      "source": [
        "emails.head()"
      ],
      "execution_count": 242,
      "outputs": [
        {
          "output_type": "execute_result",
          "data": {
            "text/html": [
              "<div>\n",
              "<style scoped>\n",
              "    .dataframe tbody tr th:only-of-type {\n",
              "        vertical-align: middle;\n",
              "    }\n",
              "\n",
              "    .dataframe tbody tr th {\n",
              "        vertical-align: top;\n",
              "    }\n",
              "\n",
              "    .dataframe thead th {\n",
              "        text-align: right;\n",
              "    }\n",
              "</style>\n",
              "<table border=\"1\" class=\"dataframe\">\n",
              "  <thead>\n",
              "    <tr style=\"text-align: right;\">\n",
              "      <th></th>\n",
              "      <th>CustomerID</th>\n",
              "      <th>YearOfMail</th>\n",
              "    </tr>\n",
              "  </thead>\n",
              "  <tbody>\n",
              "    <tr>\n",
              "      <th>0</th>\n",
              "      <td>C12116</td>\n",
              "      <td>2013</td>\n",
              "    </tr>\n",
              "    <tr>\n",
              "      <th>1</th>\n",
              "      <td>C12117</td>\n",
              "      <td>2013</td>\n",
              "    </tr>\n",
              "    <tr>\n",
              "      <th>2</th>\n",
              "      <td>C12118</td>\n",
              "      <td>2013</td>\n",
              "    </tr>\n",
              "    <tr>\n",
              "      <th>3</th>\n",
              "      <td>C12119</td>\n",
              "      <td>2013</td>\n",
              "    </tr>\n",
              "    <tr>\n",
              "      <th>4</th>\n",
              "      <td>C12120</td>\n",
              "      <td>2014</td>\n",
              "    </tr>\n",
              "  </tbody>\n",
              "</table>\n",
              "</div>"
            ],
            "text/plain": [
              "  CustomerID  YearOfMail\n",
              "0     C12116        2013\n",
              "1     C12117        2013\n",
              "2     C12118        2013\n",
              "3     C12119        2013\n",
              "4     C12120        2014"
            ]
          },
          "metadata": {},
          "execution_count": 242
        }
      ]
    },
    {
      "cell_type": "code",
      "metadata": {
        "colab": {
          "base_uri": "https://localhost:8080/"
        },
        "id": "vmpyND5IcZV9",
        "outputId": "ed4d02cb-894c-431b-b97c-db1664819cc9"
      },
      "source": [
        "emails.nunique()"
      ],
      "execution_count": 243,
      "outputs": [
        {
          "output_type": "execute_result",
          "data": {
            "text/plain": [
              "CustomerID    23820\n",
              "YearOfMail       11\n",
              "dtype: int64"
            ]
          },
          "metadata": {},
          "execution_count": 243
        }
      ]
    },
    {
      "cell_type": "code",
      "metadata": {
        "id": "p9bLjorfdamQ"
      },
      "source": [
        "data = data.merge(emails, on='CustomerID')"
      ],
      "execution_count": 244,
      "outputs": []
    },
    {
      "cell_type": "code",
      "metadata": {
        "colab": {
          "base_uri": "https://localhost:8080/",
          "height": 224
        },
        "id": "dAqFtrEEdzhe",
        "outputId": "a9467cbb-438f-420d-a247-1340635b6d53"
      },
      "source": [
        "data.head()"
      ],
      "execution_count": 245,
      "outputs": [
        {
          "output_type": "execute_result",
          "data": {
            "text/html": [
              "<div>\n",
              "<style scoped>\n",
              "    .dataframe tbody tr th:only-of-type {\n",
              "        vertical-align: middle;\n",
              "    }\n",
              "\n",
              "    .dataframe tbody tr th {\n",
              "        vertical-align: top;\n",
              "    }\n",
              "\n",
              "    .dataframe thead th {\n",
              "        text-align: right;\n",
              "    }\n",
              "</style>\n",
              "<table border=\"1\" class=\"dataframe\">\n",
              "  <thead>\n",
              "    <tr style=\"text-align: right;\">\n",
              "      <th></th>\n",
              "      <th>CustomerID</th>\n",
              "      <th>City</th>\n",
              "      <th>OnlineCommunication</th>\n",
              "      <th>AutomaticRefill</th>\n",
              "      <th>DoorstepDelivery</th>\n",
              "      <th>PreferredDeliveryDay</th>\n",
              "      <th>RetentionPotential</th>\n",
              "      <th>YearOfRegistration</th>\n",
              "      <th>YearOfMail</th>\n",
              "    </tr>\n",
              "  </thead>\n",
              "  <tbody>\n",
              "    <tr>\n",
              "      <th>0</th>\n",
              "      <td>C16368</td>\n",
              "      <td>CITY2</td>\n",
              "      <td>0</td>\n",
              "      <td>0</td>\n",
              "      <td>0</td>\n",
              "      <td>Monday</td>\n",
              "      <td>High</td>\n",
              "      <td>2012</td>\n",
              "      <td>2013</td>\n",
              "    </tr>\n",
              "    <tr>\n",
              "      <th>1</th>\n",
              "      <td>C20345</td>\n",
              "      <td>CITY2</td>\n",
              "      <td>1</td>\n",
              "      <td>1</td>\n",
              "      <td>1</td>\n",
              "      <td>Friday</td>\n",
              "      <td>Low</td>\n",
              "      <td>2010</td>\n",
              "      <td>2013</td>\n",
              "    </tr>\n",
              "    <tr>\n",
              "      <th>2</th>\n",
              "      <td>C17683</td>\n",
              "      <td>CITY2</td>\n",
              "      <td>0</td>\n",
              "      <td>0</td>\n",
              "      <td>0</td>\n",
              "      <td>Wednesday</td>\n",
              "      <td>Medium</td>\n",
              "      <td>2010</td>\n",
              "      <td>2010</td>\n",
              "    </tr>\n",
              "    <tr>\n",
              "      <th>3</th>\n",
              "      <td>C18647</td>\n",
              "      <td>CITY4</td>\n",
              "      <td>0</td>\n",
              "      <td>0</td>\n",
              "      <td>0</td>\n",
              "      <td>Monday</td>\n",
              "      <td>Low</td>\n",
              "      <td>2010</td>\n",
              "      <td>2012</td>\n",
              "    </tr>\n",
              "    <tr>\n",
              "      <th>4</th>\n",
              "      <td>C36692</td>\n",
              "      <td>CITY2</td>\n",
              "      <td>1</td>\n",
              "      <td>1</td>\n",
              "      <td>0</td>\n",
              "      <td>Friday</td>\n",
              "      <td>Low</td>\n",
              "      <td>2009</td>\n",
              "      <td>2014</td>\n",
              "    </tr>\n",
              "  </tbody>\n",
              "</table>\n",
              "</div>"
            ],
            "text/plain": [
              "  CustomerID   City  ... YearOfRegistration YearOfMail\n",
              "0     C16368  CITY2  ...               2012       2013\n",
              "1     C20345  CITY2  ...               2010       2013\n",
              "2     C17683  CITY2  ...               2010       2010\n",
              "3     C18647  CITY4  ...               2010       2012\n",
              "4     C36692  CITY2  ...               2009       2014\n",
              "\n",
              "[5 rows x 9 columns]"
            ]
          },
          "metadata": {},
          "execution_count": 245
        }
      ]
    },
    {
      "cell_type": "code",
      "metadata": {
        "colab": {
          "base_uri": "https://localhost:8080/"
        },
        "id": "tTMQN14Ld0qc",
        "outputId": "02b8fae9-8847-4c2d-a4aa-86bb49b0519d"
      },
      "source": [
        "data.dtypes"
      ],
      "execution_count": 246,
      "outputs": [
        {
          "output_type": "execute_result",
          "data": {
            "text/plain": [
              "CustomerID                object\n",
              "City                    category\n",
              "OnlineCommunication     category\n",
              "AutomaticRefill         category\n",
              "DoorstepDelivery        category\n",
              "PreferredDeliveryDay    category\n",
              "RetentionPotential      category\n",
              "YearOfRegistration         int64\n",
              "YearOfMail                 int64\n",
              "dtype: object"
            ]
          },
          "metadata": {},
          "execution_count": 246
        }
      ]
    },
    {
      "cell_type": "code",
      "metadata": {
        "colab": {
          "base_uri": "https://localhost:8080/",
          "height": 35
        },
        "id": "Wz0gY6wu6kDM",
        "outputId": "65bb234e-e76c-43e1-803d-126744ce2e62"
      },
      "source": [
        "email.CustomerID[email[\"MailOpened\"].value_counts().max()]"
      ],
      "execution_count": 247,
      "outputs": [
        {
          "output_type": "execute_result",
          "data": {
            "application/vnd.google.colaboratory.intrinsic+json": {
              "type": "string"
            },
            "text/plain": [
              "'C22369'"
            ]
          },
          "metadata": {},
          "execution_count": 247
        }
      ]
    },
    {
      "cell_type": "code",
      "metadata": {
        "id": "UMuGD9vjd5bE"
      },
      "source": [
        "emails_ope = email.groupby('CustomerID')[\"MailOpened\"].value_counts().idxmax()"
      ],
      "execution_count": 248,
      "outputs": []
    },
    {
      "cell_type": "code",
      "metadata": {
        "colab": {
          "base_uri": "https://localhost:8080/"
        },
        "id": "Kp4APOmr5_Fd",
        "outputId": "1de914bc-3c7a-4bbe-cdcf-964393fd183d"
      },
      "source": [
        "emails_ope"
      ],
      "execution_count": 249,
      "outputs": [
        {
          "output_type": "execute_result",
          "data": {
            "text/plain": [
              "('C41705', 'yes')"
            ]
          },
          "metadata": {},
          "execution_count": 249
        }
      ]
    },
    {
      "cell_type": "code",
      "metadata": {
        "colab": {
          "base_uri": "https://localhost:8080/"
        },
        "id": "TFQ4N0B_6CQb",
        "outputId": "4e2e4433-9070-4072-804b-d68c6260cd61"
      },
      "source": [
        "type(emails_ope)"
      ],
      "execution_count": 250,
      "outputs": [
        {
          "output_type": "execute_result",
          "data": {
            "text/plain": [
              "tuple"
            ]
          },
          "metadata": {},
          "execution_count": 250
        }
      ]
    },
    {
      "cell_type": "code",
      "metadata": {
        "id": "iE9lPzv9eOCG"
      },
      "source": [
        ""
      ],
      "execution_count": 250,
      "outputs": []
    },
    {
      "cell_type": "code",
      "metadata": {
        "colab": {
          "base_uri": "https://localhost:8080/"
        },
        "id": "QJ8uNoCDerZL",
        "outputId": "7c6d383d-6cbf-48f6-a0a1-1abc4ab2c07c"
      },
      "source": [
        "type(emails_ope)"
      ],
      "execution_count": 251,
      "outputs": [
        {
          "output_type": "execute_result",
          "data": {
            "text/plain": [
              "tuple"
            ]
          },
          "metadata": {},
          "execution_count": 251
        }
      ]
    },
    {
      "cell_type": "code",
      "metadata": {
        "id": "C9cNVvhAew_d"
      },
      "source": [
        "#data = data.merge(emails_ope,on=\"CustomerID\")"
      ],
      "execution_count": 252,
      "outputs": []
    },
    {
      "cell_type": "code",
      "metadata": {
        "colab": {
          "base_uri": "https://localhost:8080/",
          "height": 224
        },
        "id": "Rvet2D-MgJsV",
        "outputId": "06cbfcc2-7df5-4a12-8664-69cbace15a26"
      },
      "source": [
        "data.head()"
      ],
      "execution_count": 253,
      "outputs": [
        {
          "output_type": "execute_result",
          "data": {
            "text/html": [
              "<div>\n",
              "<style scoped>\n",
              "    .dataframe tbody tr th:only-of-type {\n",
              "        vertical-align: middle;\n",
              "    }\n",
              "\n",
              "    .dataframe tbody tr th {\n",
              "        vertical-align: top;\n",
              "    }\n",
              "\n",
              "    .dataframe thead th {\n",
              "        text-align: right;\n",
              "    }\n",
              "</style>\n",
              "<table border=\"1\" class=\"dataframe\">\n",
              "  <thead>\n",
              "    <tr style=\"text-align: right;\">\n",
              "      <th></th>\n",
              "      <th>CustomerID</th>\n",
              "      <th>City</th>\n",
              "      <th>OnlineCommunication</th>\n",
              "      <th>AutomaticRefill</th>\n",
              "      <th>DoorstepDelivery</th>\n",
              "      <th>PreferredDeliveryDay</th>\n",
              "      <th>RetentionPotential</th>\n",
              "      <th>YearOfRegistration</th>\n",
              "      <th>YearOfMail</th>\n",
              "    </tr>\n",
              "  </thead>\n",
              "  <tbody>\n",
              "    <tr>\n",
              "      <th>0</th>\n",
              "      <td>C16368</td>\n",
              "      <td>CITY2</td>\n",
              "      <td>0</td>\n",
              "      <td>0</td>\n",
              "      <td>0</td>\n",
              "      <td>Monday</td>\n",
              "      <td>High</td>\n",
              "      <td>2012</td>\n",
              "      <td>2013</td>\n",
              "    </tr>\n",
              "    <tr>\n",
              "      <th>1</th>\n",
              "      <td>C20345</td>\n",
              "      <td>CITY2</td>\n",
              "      <td>1</td>\n",
              "      <td>1</td>\n",
              "      <td>1</td>\n",
              "      <td>Friday</td>\n",
              "      <td>Low</td>\n",
              "      <td>2010</td>\n",
              "      <td>2013</td>\n",
              "    </tr>\n",
              "    <tr>\n",
              "      <th>2</th>\n",
              "      <td>C17683</td>\n",
              "      <td>CITY2</td>\n",
              "      <td>0</td>\n",
              "      <td>0</td>\n",
              "      <td>0</td>\n",
              "      <td>Wednesday</td>\n",
              "      <td>Medium</td>\n",
              "      <td>2010</td>\n",
              "      <td>2010</td>\n",
              "    </tr>\n",
              "    <tr>\n",
              "      <th>3</th>\n",
              "      <td>C18647</td>\n",
              "      <td>CITY4</td>\n",
              "      <td>0</td>\n",
              "      <td>0</td>\n",
              "      <td>0</td>\n",
              "      <td>Monday</td>\n",
              "      <td>Low</td>\n",
              "      <td>2010</td>\n",
              "      <td>2012</td>\n",
              "    </tr>\n",
              "    <tr>\n",
              "      <th>4</th>\n",
              "      <td>C36692</td>\n",
              "      <td>CITY2</td>\n",
              "      <td>1</td>\n",
              "      <td>1</td>\n",
              "      <td>0</td>\n",
              "      <td>Friday</td>\n",
              "      <td>Low</td>\n",
              "      <td>2009</td>\n",
              "      <td>2014</td>\n",
              "    </tr>\n",
              "  </tbody>\n",
              "</table>\n",
              "</div>"
            ],
            "text/plain": [
              "  CustomerID   City  ... YearOfRegistration YearOfMail\n",
              "0     C16368  CITY2  ...               2012       2013\n",
              "1     C20345  CITY2  ...               2010       2013\n",
              "2     C17683  CITY2  ...               2010       2010\n",
              "3     C18647  CITY4  ...               2010       2012\n",
              "4     C36692  CITY2  ...               2009       2014\n",
              "\n",
              "[5 rows x 9 columns]"
            ]
          },
          "metadata": {},
          "execution_count": 253
        }
      ]
    },
    {
      "cell_type": "code",
      "metadata": {
        "colab": {
          "base_uri": "https://localhost:8080/",
          "height": 410
        },
        "id": "fYHkqg5sgh-3",
        "outputId": "1076df8f-a5cb-4c92-da17-ed296f8af4a1"
      },
      "source": [
        "data.describe(include=\"all\")"
      ],
      "execution_count": 254,
      "outputs": [
        {
          "output_type": "execute_result",
          "data": {
            "text/html": [
              "<div>\n",
              "<style scoped>\n",
              "    .dataframe tbody tr th:only-of-type {\n",
              "        vertical-align: middle;\n",
              "    }\n",
              "\n",
              "    .dataframe tbody tr th {\n",
              "        vertical-align: top;\n",
              "    }\n",
              "\n",
              "    .dataframe thead th {\n",
              "        text-align: right;\n",
              "    }\n",
              "</style>\n",
              "<table border=\"1\" class=\"dataframe\">\n",
              "  <thead>\n",
              "    <tr style=\"text-align: right;\">\n",
              "      <th></th>\n",
              "      <th>CustomerID</th>\n",
              "      <th>City</th>\n",
              "      <th>OnlineCommunication</th>\n",
              "      <th>AutomaticRefill</th>\n",
              "      <th>DoorstepDelivery</th>\n",
              "      <th>PreferredDeliveryDay</th>\n",
              "      <th>RetentionPotential</th>\n",
              "      <th>YearOfRegistration</th>\n",
              "      <th>YearOfMail</th>\n",
              "    </tr>\n",
              "  </thead>\n",
              "  <tbody>\n",
              "    <tr>\n",
              "      <th>count</th>\n",
              "      <td>23820</td>\n",
              "      <td>23820</td>\n",
              "      <td>23820.0</td>\n",
              "      <td>23820.0</td>\n",
              "      <td>23820.0</td>\n",
              "      <td>23820</td>\n",
              "      <td>23820</td>\n",
              "      <td>23820.000000</td>\n",
              "      <td>23820.000000</td>\n",
              "    </tr>\n",
              "    <tr>\n",
              "      <th>unique</th>\n",
              "      <td>23820</td>\n",
              "      <td>4</td>\n",
              "      <td>2.0</td>\n",
              "      <td>2.0</td>\n",
              "      <td>2.0</td>\n",
              "      <td>7</td>\n",
              "      <td>3</td>\n",
              "      <td>NaN</td>\n",
              "      <td>NaN</td>\n",
              "    </tr>\n",
              "    <tr>\n",
              "      <th>top</th>\n",
              "      <td>C34706</td>\n",
              "      <td>CITY4</td>\n",
              "      <td>1.0</td>\n",
              "      <td>0.0</td>\n",
              "      <td>0.0</td>\n",
              "      <td>Tuesday</td>\n",
              "      <td>Low</td>\n",
              "      <td>NaN</td>\n",
              "      <td>NaN</td>\n",
              "    </tr>\n",
              "    <tr>\n",
              "      <th>freq</th>\n",
              "      <td>1</td>\n",
              "      <td>9143</td>\n",
              "      <td>15731.0</td>\n",
              "      <td>21564.0</td>\n",
              "      <td>22924.0</td>\n",
              "      <td>5343</td>\n",
              "      <td>19185</td>\n",
              "      <td>NaN</td>\n",
              "      <td>NaN</td>\n",
              "    </tr>\n",
              "    <tr>\n",
              "      <th>mean</th>\n",
              "      <td>NaN</td>\n",
              "      <td>NaN</td>\n",
              "      <td>NaN</td>\n",
              "      <td>NaN</td>\n",
              "      <td>NaN</td>\n",
              "      <td>NaN</td>\n",
              "      <td>NaN</td>\n",
              "      <td>2013.182032</td>\n",
              "      <td>2013.485432</td>\n",
              "    </tr>\n",
              "    <tr>\n",
              "      <th>std</th>\n",
              "      <td>NaN</td>\n",
              "      <td>NaN</td>\n",
              "      <td>NaN</td>\n",
              "      <td>NaN</td>\n",
              "      <td>NaN</td>\n",
              "      <td>NaN</td>\n",
              "      <td>NaN</td>\n",
              "      <td>1.952012</td>\n",
              "      <td>1.886310</td>\n",
              "    </tr>\n",
              "    <tr>\n",
              "      <th>min</th>\n",
              "      <td>NaN</td>\n",
              "      <td>NaN</td>\n",
              "      <td>NaN</td>\n",
              "      <td>NaN</td>\n",
              "      <td>NaN</td>\n",
              "      <td>NaN</td>\n",
              "      <td>NaN</td>\n",
              "      <td>2008.000000</td>\n",
              "      <td>2008.000000</td>\n",
              "    </tr>\n",
              "    <tr>\n",
              "      <th>25%</th>\n",
              "      <td>NaN</td>\n",
              "      <td>NaN</td>\n",
              "      <td>NaN</td>\n",
              "      <td>NaN</td>\n",
              "      <td>NaN</td>\n",
              "      <td>NaN</td>\n",
              "      <td>NaN</td>\n",
              "      <td>2012.000000</td>\n",
              "      <td>2013.000000</td>\n",
              "    </tr>\n",
              "    <tr>\n",
              "      <th>50%</th>\n",
              "      <td>NaN</td>\n",
              "      <td>NaN</td>\n",
              "      <td>NaN</td>\n",
              "      <td>NaN</td>\n",
              "      <td>NaN</td>\n",
              "      <td>NaN</td>\n",
              "      <td>NaN</td>\n",
              "      <td>2013.000000</td>\n",
              "      <td>2013.000000</td>\n",
              "    </tr>\n",
              "    <tr>\n",
              "      <th>75%</th>\n",
              "      <td>NaN</td>\n",
              "      <td>NaN</td>\n",
              "      <td>NaN</td>\n",
              "      <td>NaN</td>\n",
              "      <td>NaN</td>\n",
              "      <td>NaN</td>\n",
              "      <td>NaN</td>\n",
              "      <td>2013.000000</td>\n",
              "      <td>2014.000000</td>\n",
              "    </tr>\n",
              "    <tr>\n",
              "      <th>max</th>\n",
              "      <td>NaN</td>\n",
              "      <td>NaN</td>\n",
              "      <td>NaN</td>\n",
              "      <td>NaN</td>\n",
              "      <td>NaN</td>\n",
              "      <td>NaN</td>\n",
              "      <td>NaN</td>\n",
              "      <td>2018.000000</td>\n",
              "      <td>2018.000000</td>\n",
              "    </tr>\n",
              "  </tbody>\n",
              "</table>\n",
              "</div>"
            ],
            "text/plain": [
              "       CustomerID   City  ...  YearOfRegistration    YearOfMail\n",
              "count       23820  23820  ...        23820.000000  23820.000000\n",
              "unique      23820      4  ...                 NaN           NaN\n",
              "top        C34706  CITY4  ...                 NaN           NaN\n",
              "freq            1   9143  ...                 NaN           NaN\n",
              "mean          NaN    NaN  ...         2013.182032   2013.485432\n",
              "std           NaN    NaN  ...            1.952012      1.886310\n",
              "min           NaN    NaN  ...         2008.000000   2008.000000\n",
              "25%           NaN    NaN  ...         2012.000000   2013.000000\n",
              "50%           NaN    NaN  ...         2013.000000   2013.000000\n",
              "75%           NaN    NaN  ...         2013.000000   2014.000000\n",
              "max           NaN    NaN  ...         2018.000000   2018.000000\n",
              "\n",
              "[11 rows x 9 columns]"
            ]
          },
          "metadata": {},
          "execution_count": 254
        }
      ]
    },
    {
      "cell_type": "code",
      "metadata": {
        "colab": {
          "base_uri": "https://localhost:8080/"
        },
        "id": "VDeL9mKgmw-Q",
        "outputId": "33bbedb2-439e-4427-914b-39a942ed4022"
      },
      "source": [
        "data.RetentionPotential"
      ],
      "execution_count": 255,
      "outputs": [
        {
          "output_type": "execute_result",
          "data": {
            "text/plain": [
              "0          High\n",
              "1           Low\n",
              "2        Medium\n",
              "3           Low\n",
              "4           Low\n",
              "          ...  \n",
              "23815       Low\n",
              "23816       Low\n",
              "23817       Low\n",
              "23818       Low\n",
              "23819       Low\n",
              "Name: RetentionPotential, Length: 23820, dtype: category\n",
              "Categories (3, object): ['High', 'Low', 'Medium']"
            ]
          },
          "metadata": {},
          "execution_count": 255
        }
      ]
    },
    {
      "cell_type": "markdown",
      "metadata": {
        "id": "M_PM98SJoAU9"
      },
      "source": [
        "Removing the high column because it is means low churn potential"
      ]
    },
    {
      "cell_type": "code",
      "metadata": {
        "id": "H7Yz65oknET3"
      },
      "source": [
        "indexs = data[data[\"RetentionPotential\"]==\"High\"].index"
      ],
      "execution_count": 277,
      "outputs": []
    },
    {
      "cell_type": "code",
      "metadata": {
        "id": "fGQXqwEYlkcy"
      },
      "source": [
        "data.drop(indexs,inplace=True)"
      ],
      "execution_count": 278,
      "outputs": []
    },
    {
      "cell_type": "code",
      "metadata": {
        "colab": {
          "base_uri": "https://localhost:8080/"
        },
        "id": "sqwRKixOnTMZ",
        "outputId": "9d782e48-a528-4db6-d540-79facfdf13e1"
      },
      "source": [
        "data.shape"
      ],
      "execution_count": 279,
      "outputs": [
        {
          "output_type": "execute_result",
          "data": {
            "text/plain": [
              "(20064, 9)"
            ]
          },
          "metadata": {},
          "execution_count": 279
        }
      ]
    },
    {
      "cell_type": "code",
      "metadata": {
        "colab": {
          "base_uri": "https://localhost:8080/"
        },
        "id": "woe0EpqpgjP4",
        "outputId": "7e76a108-7178-4b2d-abdf-65aae616d1f3"
      },
      "source": [
        "data.dtypes"
      ],
      "execution_count": 280,
      "outputs": [
        {
          "output_type": "execute_result",
          "data": {
            "text/plain": [
              "CustomerID              category\n",
              "City                    category\n",
              "OnlineCommunication     category\n",
              "AutomaticRefill         category\n",
              "DoorstepDelivery        category\n",
              "PreferredDeliveryDay    category\n",
              "RetentionPotential      category\n",
              "YearOfRegistration         int64\n",
              "YearOfMail                 int64\n",
              "dtype: object"
            ]
          },
          "metadata": {},
          "execution_count": 280
        }
      ]
    },
    {
      "cell_type": "code",
      "metadata": {
        "colab": {
          "base_uri": "https://localhost:8080/",
          "height": 731
        },
        "id": "4rA16EdKnhtk",
        "outputId": "2c8147b3-915b-495c-8cb2-d2d78f474512"
      },
      "source": [
        "sns.countplot(x=\"RetentionPotential\",data=data)"
      ],
      "execution_count": 281,
      "outputs": [
        {
          "output_type": "execute_result",
          "data": {
            "text/plain": [
              "<matplotlib.axes._subplots.AxesSubplot at 0x7f164a3ee550>"
            ]
          },
          "metadata": {},
          "execution_count": 281
        },
        {
          "output_type": "display_data",
          "data": {
            "image/png": "[encoded data removed]",
            "text/plain": [
              "<Figure size 1152x864 with 1 Axes>"
            ]
          },
          "metadata": {
            "needs_background": "light"
          }
        }
      ]
    },
    {
      "cell_type": "code",
      "metadata": {
        "colab": {
          "base_uri": "https://localhost:8080/"
        },
        "id": "Pa_lHKI8nmRw",
        "outputId": "eb410540-694e-4245-8635-1a07f75d3631"
      },
      "source": [
        "data[\"RetentionPotential\"].value_counts()"
      ],
      "execution_count": 282,
      "outputs": [
        {
          "output_type": "execute_result",
          "data": {
            "text/plain": [
              "Low       19185\n",
              "Medium      879\n",
              "High          0\n",
              "Name: RetentionPotential, dtype: int64"
            ]
          },
          "metadata": {},
          "execution_count": 282
        }
      ]
    },
    {
      "cell_type": "code",
      "metadata": {
        "colab": {
          "base_uri": "https://localhost:8080/",
          "height": 224
        },
        "id": "y_j7Pkf0nyc7",
        "outputId": "8292bfcd-246c-4742-efff-37df609e7a2f"
      },
      "source": [
        "data.head()"
      ],
      "execution_count": 283,
      "outputs": [
        {
          "output_type": "execute_result",
          "data": {
            "text/html": [
              "<div>\n",
              "<style scoped>\n",
              "    .dataframe tbody tr th:only-of-type {\n",
              "        vertical-align: middle;\n",
              "    }\n",
              "\n",
              "    .dataframe tbody tr th {\n",
              "        vertical-align: top;\n",
              "    }\n",
              "\n",
              "    .dataframe thead th {\n",
              "        text-align: right;\n",
              "    }\n",
              "</style>\n",
              "<table border=\"1\" class=\"dataframe\">\n",
              "  <thead>\n",
              "    <tr style=\"text-align: right;\">\n",
              "      <th></th>\n",
              "      <th>CustomerID</th>\n",
              "      <th>City</th>\n",
              "      <th>OnlineCommunication</th>\n",
              "      <th>AutomaticRefill</th>\n",
              "      <th>DoorstepDelivery</th>\n",
              "      <th>PreferredDeliveryDay</th>\n",
              "      <th>RetentionPotential</th>\n",
              "      <th>YearOfRegistration</th>\n",
              "      <th>YearOfMail</th>\n",
              "    </tr>\n",
              "  </thead>\n",
              "  <tbody>\n",
              "    <tr>\n",
              "      <th>1</th>\n",
              "      <td>C20345</td>\n",
              "      <td>CITY2</td>\n",
              "      <td>1</td>\n",
              "      <td>1</td>\n",
              "      <td>1</td>\n",
              "      <td>Friday</td>\n",
              "      <td>Low</td>\n",
              "      <td>2010</td>\n",
              "      <td>2013</td>\n",
              "    </tr>\n",
              "    <tr>\n",
              "      <th>2</th>\n",
              "      <td>C17683</td>\n",
              "      <td>CITY2</td>\n",
              "      <td>0</td>\n",
              "      <td>0</td>\n",
              "      <td>0</td>\n",
              "      <td>Wednesday</td>\n",
              "      <td>Medium</td>\n",
              "      <td>2010</td>\n",
              "      <td>2010</td>\n",
              "    </tr>\n",
              "    <tr>\n",
              "      <th>3</th>\n",
              "      <td>C18647</td>\n",
              "      <td>CITY4</td>\n",
              "      <td>0</td>\n",
              "      <td>0</td>\n",
              "      <td>0</td>\n",
              "      <td>Monday</td>\n",
              "      <td>Low</td>\n",
              "      <td>2010</td>\n",
              "      <td>2012</td>\n",
              "    </tr>\n",
              "    <tr>\n",
              "      <th>4</th>\n",
              "      <td>C36692</td>\n",
              "      <td>CITY2</td>\n",
              "      <td>1</td>\n",
              "      <td>1</td>\n",
              "      <td>0</td>\n",
              "      <td>Friday</td>\n",
              "      <td>Low</td>\n",
              "      <td>2009</td>\n",
              "      <td>2014</td>\n",
              "    </tr>\n",
              "    <tr>\n",
              "      <th>5</th>\n",
              "      <td>C13831</td>\n",
              "      <td>CITY2</td>\n",
              "      <td>1</td>\n",
              "      <td>0</td>\n",
              "      <td>0</td>\n",
              "      <td>Monday</td>\n",
              "      <td>Low</td>\n",
              "      <td>2010</td>\n",
              "      <td>2013</td>\n",
              "    </tr>\n",
              "  </tbody>\n",
              "</table>\n",
              "</div>"
            ],
            "text/plain": [
              "  CustomerID   City  ... YearOfRegistration YearOfMail\n",
              "1     C20345  CITY2  ...               2010       2013\n",
              "2     C17683  CITY2  ...               2010       2010\n",
              "3     C18647  CITY4  ...               2010       2012\n",
              "4     C36692  CITY2  ...               2009       2014\n",
              "5     C13831  CITY2  ...               2010       2013\n",
              "\n",
              "[5 rows x 9 columns]"
            ]
          },
          "metadata": {},
          "execution_count": 283
        }
      ]
    },
    {
      "cell_type": "code",
      "metadata": {
        "id": "4S-M9zImuj9X"
      },
      "source": [
        "from sklearn.impute import SimpleImputer\n",
        "from sklearn.model_selection import train_test_split\n",
        "\n",
        "from sklearn.preprocessing import LabelEncoder,StandardScaler,RobustScaler\n",
        "from sklearn.metrics import accuracy_score, recall_score, precision_score, f1_score\n",
        "from sklearn.model_selection import GridSearchCV, cross_val_score, StratifiedKFold\n",
        "\n",
        "from sklearn.tree import DecisionTreeClassifier\n",
        "from sklearn.ensemble import RandomForestClassifier\n",
        "from sklearn.svm import SVC\n",
        "from sklearn.linear_model import LogisticRegression\n",
        "\n",
        "from sklearn.model_selection import GridSearchCV, cross_val_score, StratifiedKFold\n",
        "from sklearn.pipeline import Pipeline\n",
        "\n",
        "from sklearn.ensemble import GradientBoostingClassifier\n",
        "from sklearn.ensemble import AdaBoostClassifier\n",
        "from sklearn.metrics import confusion_matrix\n",
        "from sklearn.metrics import classification_report,roc_curve"
      ],
      "execution_count": 284,
      "outputs": []
    },
    {
      "cell_type": "code",
      "metadata": {
        "colab": {
          "base_uri": "https://localhost:8080/"
        },
        "id": "OoAUKJ_lv1DU",
        "outputId": "8b3b3a4c-661d-46bd-95ff-a78f562dd9c9"
      },
      "source": [
        "data.isna().sum()"
      ],
      "execution_count": 285,
      "outputs": [
        {
          "output_type": "execute_result",
          "data": {
            "text/plain": [
              "CustomerID              0\n",
              "City                    0\n",
              "OnlineCommunication     0\n",
              "AutomaticRefill         0\n",
              "DoorstepDelivery        0\n",
              "PreferredDeliveryDay    0\n",
              "RetentionPotential      0\n",
              "YearOfRegistration      0\n",
              "YearOfMail              0\n",
              "dtype: int64"
            ]
          },
          "metadata": {},
          "execution_count": 285
        }
      ]
    },
    {
      "cell_type": "code",
      "metadata": {
        "colab": {
          "base_uri": "https://localhost:8080/",
          "height": 534
        },
        "id": "mtnZV23rv5lk",
        "outputId": "3cd4d432-acd2-4f76-9bc7-519b681b0af4"
      },
      "source": [
        "data.head(15)"
      ],
      "execution_count": 286,
      "outputs": [
        {
          "output_type": "execute_result",
          "data": {
            "text/html": [
              "<div>\n",
              "<style scoped>\n",
              "    .dataframe tbody tr th:only-of-type {\n",
              "        vertical-align: middle;\n",
              "    }\n",
              "\n",
              "    .dataframe tbody tr th {\n",
              "        vertical-align: top;\n",
              "    }\n",
              "\n",
              "    .dataframe thead th {\n",
              "        text-align: right;\n",
              "    }\n",
              "</style>\n",
              "<table border=\"1\" class=\"dataframe\">\n",
              "  <thead>\n",
              "    <tr style=\"text-align: right;\">\n",
              "      <th></th>\n",
              "      <th>CustomerID</th>\n",
              "      <th>City</th>\n",
              "      <th>OnlineCommunication</th>\n",
              "      <th>AutomaticRefill</th>\n",
              "      <th>DoorstepDelivery</th>\n",
              "      <th>PreferredDeliveryDay</th>\n",
              "      <th>RetentionPotential</th>\n",
              "      <th>YearOfRegistration</th>\n",
              "      <th>YearOfMail</th>\n",
              "    </tr>\n",
              "  </thead>\n",
              "  <tbody>\n",
              "    <tr>\n",
              "      <th>1</th>\n",
              "      <td>C20345</td>\n",
              "      <td>CITY2</td>\n",
              "      <td>1</td>\n",
              "      <td>1</td>\n",
              "      <td>1</td>\n",
              "      <td>Friday</td>\n",
              "      <td>Low</td>\n",
              "      <td>2010</td>\n",
              "      <td>2013</td>\n",
              "    </tr>\n",
              "    <tr>\n",
              "      <th>2</th>\n",
              "      <td>C17683</td>\n",
              "      <td>CITY2</td>\n",
              "      <td>0</td>\n",
              "      <td>0</td>\n",
              "      <td>0</td>\n",
              "      <td>Wednesday</td>\n",
              "      <td>Medium</td>\n",
              "      <td>2010</td>\n",
              "      <td>2010</td>\n",
              "    </tr>\n",
              "    <tr>\n",
              "      <th>3</th>\n",
              "      <td>C18647</td>\n",
              "      <td>CITY4</td>\n",
              "      <td>0</td>\n",
              "      <td>0</td>\n",
              "      <td>0</td>\n",
              "      <td>Monday</td>\n",
              "      <td>Low</td>\n",
              "      <td>2010</td>\n",
              "      <td>2012</td>\n",
              "    </tr>\n",
              "    <tr>\n",
              "      <th>4</th>\n",
              "      <td>C36692</td>\n",
              "      <td>CITY2</td>\n",
              "      <td>1</td>\n",
              "      <td>1</td>\n",
              "      <td>0</td>\n",
              "      <td>Friday</td>\n",
              "      <td>Low</td>\n",
              "      <td>2009</td>\n",
              "      <td>2014</td>\n",
              "    </tr>\n",
              "    <tr>\n",
              "      <th>5</th>\n",
              "      <td>C13831</td>\n",
              "      <td>CITY2</td>\n",
              "      <td>1</td>\n",
              "      <td>0</td>\n",
              "      <td>0</td>\n",
              "      <td>Monday</td>\n",
              "      <td>Low</td>\n",
              "      <td>2010</td>\n",
              "      <td>2013</td>\n",
              "    </tr>\n",
              "    <tr>\n",
              "      <th>6</th>\n",
              "      <td>C40881</td>\n",
              "      <td>CITY2</td>\n",
              "      <td>0</td>\n",
              "      <td>0</td>\n",
              "      <td>1</td>\n",
              "      <td>Friday</td>\n",
              "      <td>Low</td>\n",
              "      <td>2010</td>\n",
              "      <td>2014</td>\n",
              "    </tr>\n",
              "    <tr>\n",
              "      <th>7</th>\n",
              "      <td>C26246</td>\n",
              "      <td>CITY2</td>\n",
              "      <td>0</td>\n",
              "      <td>0</td>\n",
              "      <td>0</td>\n",
              "      <td>Wednesday</td>\n",
              "      <td>Low</td>\n",
              "      <td>2009</td>\n",
              "      <td>2014</td>\n",
              "    </tr>\n",
              "    <tr>\n",
              "      <th>8</th>\n",
              "      <td>C36136</td>\n",
              "      <td>CITY2</td>\n",
              "      <td>1</td>\n",
              "      <td>1</td>\n",
              "      <td>1</td>\n",
              "      <td>Monday</td>\n",
              "      <td>Low</td>\n",
              "      <td>2009</td>\n",
              "      <td>2014</td>\n",
              "    </tr>\n",
              "    <tr>\n",
              "      <th>9</th>\n",
              "      <td>C34046</td>\n",
              "      <td>CITY2</td>\n",
              "      <td>0</td>\n",
              "      <td>0</td>\n",
              "      <td>0</td>\n",
              "      <td>Tuesday</td>\n",
              "      <td>Low</td>\n",
              "      <td>2010</td>\n",
              "      <td>2013</td>\n",
              "    </tr>\n",
              "    <tr>\n",
              "      <th>10</th>\n",
              "      <td>C23215</td>\n",
              "      <td>CITY2</td>\n",
              "      <td>1</td>\n",
              "      <td>1</td>\n",
              "      <td>0</td>\n",
              "      <td>Tuesday</td>\n",
              "      <td>Medium</td>\n",
              "      <td>2011</td>\n",
              "      <td>2013</td>\n",
              "    </tr>\n",
              "    <tr>\n",
              "      <th>11</th>\n",
              "      <td>C24973</td>\n",
              "      <td>CITY4</td>\n",
              "      <td>1</td>\n",
              "      <td>1</td>\n",
              "      <td>0</td>\n",
              "      <td>Wednesday</td>\n",
              "      <td>Low</td>\n",
              "      <td>2011</td>\n",
              "      <td>2014</td>\n",
              "    </tr>\n",
              "    <tr>\n",
              "      <th>12</th>\n",
              "      <td>C12657</td>\n",
              "      <td>CITY2</td>\n",
              "      <td>0</td>\n",
              "      <td>0</td>\n",
              "      <td>0</td>\n",
              "      <td>Monday</td>\n",
              "      <td>Low</td>\n",
              "      <td>2010</td>\n",
              "      <td>2013</td>\n",
              "    </tr>\n",
              "    <tr>\n",
              "      <th>13</th>\n",
              "      <td>C21555</td>\n",
              "      <td>CITY4</td>\n",
              "      <td>0</td>\n",
              "      <td>0</td>\n",
              "      <td>0</td>\n",
              "      <td>Monday</td>\n",
              "      <td>Low</td>\n",
              "      <td>2011</td>\n",
              "      <td>2013</td>\n",
              "    </tr>\n",
              "    <tr>\n",
              "      <th>14</th>\n",
              "      <td>C24601</td>\n",
              "      <td>CITY2</td>\n",
              "      <td>1</td>\n",
              "      <td>0</td>\n",
              "      <td>0</td>\n",
              "      <td>Thursday</td>\n",
              "      <td>Low</td>\n",
              "      <td>2010</td>\n",
              "      <td>2013</td>\n",
              "    </tr>\n",
              "    <tr>\n",
              "      <th>16</th>\n",
              "      <td>C19535</td>\n",
              "      <td>CITY2</td>\n",
              "      <td>0</td>\n",
              "      <td>0</td>\n",
              "      <td>0</td>\n",
              "      <td>Wednesday</td>\n",
              "      <td>Low</td>\n",
              "      <td>2010</td>\n",
              "      <td>2012</td>\n",
              "    </tr>\n",
              "  </tbody>\n",
              "</table>\n",
              "</div>"
            ],
            "text/plain": [
              "   CustomerID   City  ... YearOfRegistration YearOfMail\n",
              "1      C20345  CITY2  ...               2010       2013\n",
              "2      C17683  CITY2  ...               2010       2010\n",
              "3      C18647  CITY4  ...               2010       2012\n",
              "4      C36692  CITY2  ...               2009       2014\n",
              "5      C13831  CITY2  ...               2010       2013\n",
              "6      C40881  CITY2  ...               2010       2014\n",
              "7      C26246  CITY2  ...               2009       2014\n",
              "8      C36136  CITY2  ...               2009       2014\n",
              "9      C34046  CITY2  ...               2010       2013\n",
              "10     C23215  CITY2  ...               2011       2013\n",
              "11     C24973  CITY4  ...               2011       2014\n",
              "12     C12657  CITY2  ...               2010       2013\n",
              "13     C21555  CITY4  ...               2011       2013\n",
              "14     C24601  CITY2  ...               2010       2013\n",
              "16     C19535  CITY2  ...               2010       2012\n",
              "\n",
              "[15 rows x 9 columns]"
            ]
          },
          "metadata": {},
          "execution_count": 286
        }
      ]
    },
    {
      "cell_type": "code",
      "metadata": {
        "colab": {
          "base_uri": "https://localhost:8080/",
          "height": 721
        },
        "id": "O7TdDr0xwEyk",
        "outputId": "67cf322b-95a7-4630-ba23-42d0909b23bb"
      },
      "source": [
        "correl = data.corr()\n",
        "sns.heatmap(correl,xticklabels=correl.columns,yticklabels=correl.columns,annot=True,cmap=\"coolwarm\")"
      ],
      "execution_count": 287,
      "outputs": [
        {
          "output_type": "execute_result",
          "data": {
            "text/plain": [
              "<matplotlib.axes._subplots.AxesSubplot at 0x7f164a603890>"
            ]
          },
          "metadata": {},
          "execution_count": 287
        },
        {
          "output_type": "display_data",
          "data": {
            "image/png": "[encoded data removed]",
            "text/plain": [
              "<Figure size 1152x864 with 2 Axes>"
            ]
          },
          "metadata": {
            "needs_background": "light"
          }
        }
      ]
    },
    {
      "cell_type": "code",
      "metadata": {
        "colab": {
          "base_uri": "https://localhost:8080/",
          "height": 204
        },
        "id": "r49pahtAxRRT",
        "outputId": "5d7a2425-0f1c-4a59-f9ad-c37a7f7f3ae4"
      },
      "source": [
        "trans_data.head()"
      ],
      "execution_count": 288,
      "outputs": [
        {
          "output_type": "execute_result",
          "data": {
            "text/html": [
              "<div>\n",
              "<style scoped>\n",
              "    .dataframe tbody tr th:only-of-type {\n",
              "        vertical-align: middle;\n",
              "    }\n",
              "\n",
              "    .dataframe tbody tr th {\n",
              "        vertical-align: top;\n",
              "    }\n",
              "\n",
              "    .dataframe thead th {\n",
              "        text-align: right;\n",
              "    }\n",
              "</style>\n",
              "<table border=\"1\" class=\"dataframe\">\n",
              "  <thead>\n",
              "    <tr style=\"text-align: right;\">\n",
              "      <th></th>\n",
              "      <th>CustomerID</th>\n",
              "      <th>OrderQuantity_Summed</th>\n",
              "    </tr>\n",
              "  </thead>\n",
              "  <tbody>\n",
              "    <tr>\n",
              "      <th>0</th>\n",
              "      <td>C12116</td>\n",
              "      <td>115</td>\n",
              "    </tr>\n",
              "    <tr>\n",
              "      <th>1</th>\n",
              "      <td>C12117</td>\n",
              "      <td>41</td>\n",
              "    </tr>\n",
              "    <tr>\n",
              "      <th>2</th>\n",
              "      <td>C12118</td>\n",
              "      <td>41</td>\n",
              "    </tr>\n",
              "    <tr>\n",
              "      <th>3</th>\n",
              "      <td>C12119</td>\n",
              "      <td>52</td>\n",
              "    </tr>\n",
              "    <tr>\n",
              "      <th>4</th>\n",
              "      <td>C12120</td>\n",
              "      <td>31</td>\n",
              "    </tr>\n",
              "  </tbody>\n",
              "</table>\n",
              "</div>"
            ],
            "text/plain": [
              "  CustomerID  OrderQuantity_Summed\n",
              "0     C12116                   115\n",
              "1     C12117                    41\n",
              "2     C12118                    41\n",
              "3     C12119                    52\n",
              "4     C12120                    31"
            ]
          },
          "metadata": {},
          "execution_count": 288
        }
      ]
    },
    {
      "cell_type": "code",
      "metadata": {
        "colab": {
          "base_uri": "https://localhost:8080/"
        },
        "id": "8Vz2ei9DxqZB",
        "outputId": "c60cf8d9-bf28-48f2-dc22-910895617d46"
      },
      "source": [
        "data.dtypes"
      ],
      "execution_count": 289,
      "outputs": [
        {
          "output_type": "execute_result",
          "data": {
            "text/plain": [
              "CustomerID              category\n",
              "City                    category\n",
              "OnlineCommunication     category\n",
              "AutomaticRefill         category\n",
              "DoorstepDelivery        category\n",
              "PreferredDeliveryDay    category\n",
              "RetentionPotential      category\n",
              "YearOfRegistration         int64\n",
              "YearOfMail                 int64\n",
              "dtype: object"
            ]
          },
          "metadata": {},
          "execution_count": 289
        }
      ]
    },
    {
      "cell_type": "code",
      "metadata": {
        "id": "LSWAJIEuxzrE"
      },
      "source": [
        "cols = [\"CustomerID\"]\n",
        "data[cols] = data[cols].astype(\"category\")"
      ],
      "execution_count": 290,
      "outputs": []
    },
    {
      "cell_type": "code",
      "metadata": {
        "colab": {
          "base_uri": "https://localhost:8080/",
          "height": 410
        },
        "id": "axuBE4n0yKoR",
        "outputId": "5f380365-8de1-4559-9896-e06a374643e1"
      },
      "source": [
        "data.describe(include=\"all\")"
      ],
      "execution_count": 291,
      "outputs": [
        {
          "output_type": "execute_result",
          "data": {
            "text/html": [
              "<div>\n",
              "<style scoped>\n",
              "    .dataframe tbody tr th:only-of-type {\n",
              "        vertical-align: middle;\n",
              "    }\n",
              "\n",
              "    .dataframe tbody tr th {\n",
              "        vertical-align: top;\n",
              "    }\n",
              "\n",
              "    .dataframe thead th {\n",
              "        text-align: right;\n",
              "    }\n",
              "</style>\n",
              "<table border=\"1\" class=\"dataframe\">\n",
              "  <thead>\n",
              "    <tr style=\"text-align: right;\">\n",
              "      <th></th>\n",
              "      <th>CustomerID</th>\n",
              "      <th>City</th>\n",
              "      <th>OnlineCommunication</th>\n",
              "      <th>AutomaticRefill</th>\n",
              "      <th>DoorstepDelivery</th>\n",
              "      <th>PreferredDeliveryDay</th>\n",
              "      <th>RetentionPotential</th>\n",
              "      <th>YearOfRegistration</th>\n",
              "      <th>YearOfMail</th>\n",
              "    </tr>\n",
              "  </thead>\n",
              "  <tbody>\n",
              "    <tr>\n",
              "      <th>count</th>\n",
              "      <td>20064</td>\n",
              "      <td>20064</td>\n",
              "      <td>20064.0</td>\n",
              "      <td>20064.0</td>\n",
              "      <td>20064.0</td>\n",
              "      <td>20064</td>\n",
              "      <td>20064</td>\n",
              "      <td>20064.000000</td>\n",
              "      <td>20064.000000</td>\n",
              "    </tr>\n",
              "    <tr>\n",
              "      <th>unique</th>\n",
              "      <td>20064</td>\n",
              "      <td>4</td>\n",
              "      <td>2.0</td>\n",
              "      <td>2.0</td>\n",
              "      <td>2.0</td>\n",
              "      <td>7</td>\n",
              "      <td>2</td>\n",
              "      <td>NaN</td>\n",
              "      <td>NaN</td>\n",
              "    </tr>\n",
              "    <tr>\n",
              "      <th>top</th>\n",
              "      <td>C42189</td>\n",
              "      <td>CITY4</td>\n",
              "      <td>1.0</td>\n",
              "      <td>0.0</td>\n",
              "      <td>0.0</td>\n",
              "      <td>Monday</td>\n",
              "      <td>Low</td>\n",
              "      <td>NaN</td>\n",
              "      <td>NaN</td>\n",
              "    </tr>\n",
              "    <tr>\n",
              "      <th>freq</th>\n",
              "      <td>1</td>\n",
              "      <td>7635</td>\n",
              "      <td>13868.0</td>\n",
              "      <td>17808.0</td>\n",
              "      <td>19187.0</td>\n",
              "      <td>4543</td>\n",
              "      <td>19185</td>\n",
              "      <td>NaN</td>\n",
              "      <td>NaN</td>\n",
              "    </tr>\n",
              "    <tr>\n",
              "      <th>mean</th>\n",
              "      <td>NaN</td>\n",
              "      <td>NaN</td>\n",
              "      <td>NaN</td>\n",
              "      <td>NaN</td>\n",
              "      <td>NaN</td>\n",
              "      <td>NaN</td>\n",
              "      <td>NaN</td>\n",
              "      <td>2013.258274</td>\n",
              "      <td>2013.614533</td>\n",
              "    </tr>\n",
              "    <tr>\n",
              "      <th>std</th>\n",
              "      <td>NaN</td>\n",
              "      <td>NaN</td>\n",
              "      <td>NaN</td>\n",
              "      <td>NaN</td>\n",
              "      <td>NaN</td>\n",
              "      <td>NaN</td>\n",
              "      <td>NaN</td>\n",
              "      <td>1.933573</td>\n",
              "      <td>1.835953</td>\n",
              "    </tr>\n",
              "    <tr>\n",
              "      <th>min</th>\n",
              "      <td>NaN</td>\n",
              "      <td>NaN</td>\n",
              "      <td>NaN</td>\n",
              "      <td>NaN</td>\n",
              "      <td>NaN</td>\n",
              "      <td>NaN</td>\n",
              "      <td>NaN</td>\n",
              "      <td>2008.000000</td>\n",
              "      <td>2008.000000</td>\n",
              "    </tr>\n",
              "    <tr>\n",
              "      <th>25%</th>\n",
              "      <td>NaN</td>\n",
              "      <td>NaN</td>\n",
              "      <td>NaN</td>\n",
              "      <td>NaN</td>\n",
              "      <td>NaN</td>\n",
              "      <td>NaN</td>\n",
              "      <td>NaN</td>\n",
              "      <td>2013.000000</td>\n",
              "      <td>2013.000000</td>\n",
              "    </tr>\n",
              "    <tr>\n",
              "      <th>50%</th>\n",
              "      <td>NaN</td>\n",
              "      <td>NaN</td>\n",
              "      <td>NaN</td>\n",
              "      <td>NaN</td>\n",
              "      <td>NaN</td>\n",
              "      <td>NaN</td>\n",
              "      <td>NaN</td>\n",
              "      <td>2013.000000</td>\n",
              "      <td>2013.000000</td>\n",
              "    </tr>\n",
              "    <tr>\n",
              "      <th>75%</th>\n",
              "      <td>NaN</td>\n",
              "      <td>NaN</td>\n",
              "      <td>NaN</td>\n",
              "      <td>NaN</td>\n",
              "      <td>NaN</td>\n",
              "      <td>NaN</td>\n",
              "      <td>NaN</td>\n",
              "      <td>2013.000000</td>\n",
              "      <td>2014.000000</td>\n",
              "    </tr>\n",
              "    <tr>\n",
              "      <th>max</th>\n",
              "      <td>NaN</td>\n",
              "      <td>NaN</td>\n",
              "      <td>NaN</td>\n",
              "      <td>NaN</td>\n",
              "      <td>NaN</td>\n",
              "      <td>NaN</td>\n",
              "      <td>NaN</td>\n",
              "      <td>2018.000000</td>\n",
              "      <td>2018.000000</td>\n",
              "    </tr>\n",
              "  </tbody>\n",
              "</table>\n",
              "</div>"
            ],
            "text/plain": [
              "       CustomerID   City  ...  YearOfRegistration    YearOfMail\n",
              "count       20064  20064  ...        20064.000000  20064.000000\n",
              "unique      20064      4  ...                 NaN           NaN\n",
              "top        C42189  CITY4  ...                 NaN           NaN\n",
              "freq            1   7635  ...                 NaN           NaN\n",
              "mean          NaN    NaN  ...         2013.258274   2013.614533\n",
              "std           NaN    NaN  ...            1.933573      1.835953\n",
              "min           NaN    NaN  ...         2008.000000   2008.000000\n",
              "25%           NaN    NaN  ...         2013.000000   2013.000000\n",
              "50%           NaN    NaN  ...         2013.000000   2013.000000\n",
              "75%           NaN    NaN  ...         2013.000000   2014.000000\n",
              "max           NaN    NaN  ...         2018.000000   2018.000000\n",
              "\n",
              "[11 rows x 9 columns]"
            ]
          },
          "metadata": {},
          "execution_count": 291
        }
      ]
    },
    {
      "cell_type": "code",
      "metadata": {
        "colab": {
          "base_uri": "https://localhost:8080/"
        },
        "id": "uE-tnqcVV_zq",
        "outputId": "07415df1-8526-4609-a179-3f9cb83c92cb"
      },
      "source": [
        "data.dtypes"
      ],
      "execution_count": 292,
      "outputs": [
        {
          "output_type": "execute_result",
          "data": {
            "text/plain": [
              "CustomerID              category\n",
              "City                    category\n",
              "OnlineCommunication     category\n",
              "AutomaticRefill         category\n",
              "DoorstepDelivery        category\n",
              "PreferredDeliveryDay    category\n",
              "RetentionPotential      category\n",
              "YearOfRegistration         int64\n",
              "YearOfMail                 int64\n",
              "dtype: object"
            ]
          },
          "metadata": {},
          "execution_count": 292
        }
      ]
    },
    {
      "cell_type": "code",
      "metadata": {
        "colab": {
          "base_uri": "https://localhost:8080/"
        },
        "id": "5R6i-sktYv7h",
        "outputId": "13a49ab3-d00b-473a-f0bb-bb6a53d76f06"
      },
      "source": [
        "data.nunique()"
      ],
      "execution_count": 293,
      "outputs": [
        {
          "output_type": "execute_result",
          "data": {
            "text/plain": [
              "CustomerID              20064\n",
              "City                        4\n",
              "OnlineCommunication         2\n",
              "AutomaticRefill             2\n",
              "DoorstepDelivery            2\n",
              "PreferredDeliveryDay        7\n",
              "RetentionPotential          2\n",
              "YearOfRegistration         11\n",
              "YearOfMail                 11\n",
              "dtype: int64"
            ]
          },
          "metadata": {},
          "execution_count": 293
        }
      ]
    },
    {
      "cell_type": "code",
      "metadata": {
        "id": "aou60RyHbf8A"
      },
      "source": [
        "#data.drop(\"YearOfMail\",axis=1,inplace=True)"
      ],
      "execution_count": 300,
      "outputs": []
    },
    {
      "cell_type": "code",
      "metadata": {
        "colab": {
          "base_uri": "https://localhost:8080/"
        },
        "id": "bA_B8vd6b4LS",
        "outputId": "918a2dcb-7ee2-4951-b745-6bfd2d6a889a"
      },
      "source": [
        "data.columns"
      ],
      "execution_count": 301,
      "outputs": [
        {
          "output_type": "execute_result",
          "data": {
            "text/plain": [
              "Index(['CustomerID', 'City', 'OnlineCommunication', 'AutomaticRefill',\n",
              "       'DoorstepDelivery', 'PreferredDeliveryDay', 'RetentionPotential',\n",
              "       'YearOfRegistration'],\n",
              "      dtype='object')"
            ]
          },
          "metadata": {},
          "execution_count": 301
        }
      ]
    },
    {
      "cell_type": "code",
      "metadata": {
        "id": "GOA5u3Z-b9nB"
      },
      "source": [
        "data[\"YearOfRegistration\"] = data[\"YearOfRegistration\"].astype(\"category\")"
      ],
      "execution_count": 302,
      "outputs": []
    },
    {
      "cell_type": "code",
      "metadata": {
        "colab": {
          "base_uri": "https://localhost:8080/"
        },
        "id": "8cLSSlh4c0km",
        "outputId": "487bb05b-6f81-4211-acc4-b4d83a6e4dad"
      },
      "source": [
        "data.dtypes"
      ],
      "execution_count": 303,
      "outputs": [
        {
          "output_type": "execute_result",
          "data": {
            "text/plain": [
              "CustomerID              category\n",
              "City                    category\n",
              "OnlineCommunication     category\n",
              "AutomaticRefill         category\n",
              "DoorstepDelivery        category\n",
              "PreferredDeliveryDay    category\n",
              "RetentionPotential      category\n",
              "YearOfRegistration      category\n",
              "dtype: object"
            ]
          },
          "metadata": {},
          "execution_count": 303
        }
      ]
    },
    {
      "cell_type": "code",
      "metadata": {
        "id": "SM9Izmmxc1ws"
      },
      "source": [
        "custID = data[\"CustomerID\"]\n",
        "data.drop(\"CustomerID\",axis=1,inplace=True)"
      ],
      "execution_count": 304,
      "outputs": []
    },
    {
      "cell_type": "code",
      "metadata": {
        "colab": {
          "base_uri": "https://localhost:8080/",
          "height": 224
        },
        "id": "XwLe0S-3c7tb",
        "outputId": "d8ecf397-8582-4ab8-8543-d75f8c665057"
      },
      "source": [
        "data.head()"
      ],
      "execution_count": 132,
      "outputs": [
        {
          "output_type": "execute_result",
          "data": {
            "text/html": [
              "<div>\n",
              "<style scoped>\n",
              "    .dataframe tbody tr th:only-of-type {\n",
              "        vertical-align: middle;\n",
              "    }\n",
              "\n",
              "    .dataframe tbody tr th {\n",
              "        vertical-align: top;\n",
              "    }\n",
              "\n",
              "    .dataframe thead th {\n",
              "        text-align: right;\n",
              "    }\n",
              "</style>\n",
              "<table border=\"1\" class=\"dataframe\">\n",
              "  <thead>\n",
              "    <tr style=\"text-align: right;\">\n",
              "      <th></th>\n",
              "      <th>City</th>\n",
              "      <th>OnlineCommunication</th>\n",
              "      <th>AutomaticRefill</th>\n",
              "      <th>DoorstepDelivery</th>\n",
              "      <th>PreferredDeliveryDay</th>\n",
              "      <th>RetentionPotential</th>\n",
              "      <th>YearOfRegistration</th>\n",
              "    </tr>\n",
              "  </thead>\n",
              "  <tbody>\n",
              "    <tr>\n",
              "      <th>0</th>\n",
              "      <td>CITY2</td>\n",
              "      <td>0</td>\n",
              "      <td>0</td>\n",
              "      <td>0</td>\n",
              "      <td>Monday</td>\n",
              "      <td>High</td>\n",
              "      <td>2012</td>\n",
              "    </tr>\n",
              "    <tr>\n",
              "      <th>1</th>\n",
              "      <td>CITY2</td>\n",
              "      <td>1</td>\n",
              "      <td>1</td>\n",
              "      <td>1</td>\n",
              "      <td>Friday</td>\n",
              "      <td>Low</td>\n",
              "      <td>2010</td>\n",
              "    </tr>\n",
              "    <tr>\n",
              "      <th>2</th>\n",
              "      <td>CITY2</td>\n",
              "      <td>0</td>\n",
              "      <td>0</td>\n",
              "      <td>0</td>\n",
              "      <td>Wednesday</td>\n",
              "      <td>Medium</td>\n",
              "      <td>2010</td>\n",
              "    </tr>\n",
              "    <tr>\n",
              "      <th>3</th>\n",
              "      <td>CITY4</td>\n",
              "      <td>0</td>\n",
              "      <td>0</td>\n",
              "      <td>0</td>\n",
              "      <td>Monday</td>\n",
              "      <td>Low</td>\n",
              "      <td>2010</td>\n",
              "    </tr>\n",
              "    <tr>\n",
              "      <th>4</th>\n",
              "      <td>CITY2</td>\n",
              "      <td>1</td>\n",
              "      <td>1</td>\n",
              "      <td>0</td>\n",
              "      <td>Friday</td>\n",
              "      <td>Low</td>\n",
              "      <td>2009</td>\n",
              "    </tr>\n",
              "  </tbody>\n",
              "</table>\n",
              "</div>"
            ],
            "text/plain": [
              "    City OnlineCommunication  ... RetentionPotential YearOfRegistration\n",
              "0  CITY2                   0  ...               High               2012\n",
              "1  CITY2                   1  ...                Low               2010\n",
              "2  CITY2                   0  ...             Medium               2010\n",
              "3  CITY4                   0  ...                Low               2010\n",
              "4  CITY2                   1  ...                Low               2009\n",
              "\n",
              "[5 rows x 7 columns]"
            ]
          },
          "metadata": {},
          "execution_count": 132
        }
      ]
    },
    {
      "cell_type": "code",
      "metadata": {
        "colab": {
          "base_uri": "https://localhost:8080/"
        },
        "id": "0iKbohCCc-LZ",
        "outputId": "c92bc968-03e1-4a4a-aeee-f0a2864700f0"
      },
      "source": [
        "custID.head()"
      ],
      "execution_count": 134,
      "outputs": [
        {
          "output_type": "execute_result",
          "data": {
            "text/plain": [
              "0    C16368\n",
              "1    C20345\n",
              "2    C17683\n",
              "3    C18647\n",
              "4    C36692\n",
              "Name: CustomerID, dtype: category\n",
              "Categories (23820, object): ['C12116', 'C12117', 'C12118', 'C12119', ..., 'C42186', 'C42187',\n",
              "                             'C42188', 'C42189']"
            ]
          },
          "metadata": {},
          "execution_count": 134
        }
      ]
    },
    {
      "cell_type": "code",
      "metadata": {
        "id": "qIgWCU4SdKgQ"
      },
      "source": [
        "le = LabelEncoder()\n",
        "\n",
        "for i in data.columns:\n",
        "  data[i] = le.fit_transform(data[i])"
      ],
      "execution_count": 308,
      "outputs": []
    },
    {
      "cell_type": "code",
      "metadata": {
        "colab": {
          "base_uri": "https://localhost:8080/",
          "height": 224
        },
        "id": "-ATN7sH9exyo",
        "outputId": "a9ddc7ef-f230-4e12-d026-449c99d7accc"
      },
      "source": [
        "data.head()"
      ],
      "execution_count": 309,
      "outputs": [
        {
          "output_type": "execute_result",
          "data": {
            "text/html": [
              "<div>\n",
              "<style scoped>\n",
              "    .dataframe tbody tr th:only-of-type {\n",
              "        vertical-align: middle;\n",
              "    }\n",
              "\n",
              "    .dataframe tbody tr th {\n",
              "        vertical-align: top;\n",
              "    }\n",
              "\n",
              "    .dataframe thead th {\n",
              "        text-align: right;\n",
              "    }\n",
              "</style>\n",
              "<table border=\"1\" class=\"dataframe\">\n",
              "  <thead>\n",
              "    <tr style=\"text-align: right;\">\n",
              "      <th></th>\n",
              "      <th>City</th>\n",
              "      <th>OnlineCommunication</th>\n",
              "      <th>AutomaticRefill</th>\n",
              "      <th>DoorstepDelivery</th>\n",
              "      <th>PreferredDeliveryDay</th>\n",
              "      <th>RetentionPotential</th>\n",
              "      <th>YearOfRegistration</th>\n",
              "    </tr>\n",
              "  </thead>\n",
              "  <tbody>\n",
              "    <tr>\n",
              "      <th>1</th>\n",
              "      <td>1</td>\n",
              "      <td>1</td>\n",
              "      <td>1</td>\n",
              "      <td>1</td>\n",
              "      <td>0</td>\n",
              "      <td>0</td>\n",
              "      <td>2</td>\n",
              "    </tr>\n",
              "    <tr>\n",
              "      <th>2</th>\n",
              "      <td>1</td>\n",
              "      <td>0</td>\n",
              "      <td>0</td>\n",
              "      <td>0</td>\n",
              "      <td>6</td>\n",
              "      <td>1</td>\n",
              "      <td>2</td>\n",
              "    </tr>\n",
              "    <tr>\n",
              "      <th>3</th>\n",
              "      <td>3</td>\n",
              "      <td>0</td>\n",
              "      <td>0</td>\n",
              "      <td>0</td>\n",
              "      <td>1</td>\n",
              "      <td>0</td>\n",
              "      <td>2</td>\n",
              "    </tr>\n",
              "    <tr>\n",
              "      <th>4</th>\n",
              "      <td>1</td>\n",
              "      <td>1</td>\n",
              "      <td>1</td>\n",
              "      <td>0</td>\n",
              "      <td>0</td>\n",
              "      <td>0</td>\n",
              "      <td>1</td>\n",
              "    </tr>\n",
              "    <tr>\n",
              "      <th>5</th>\n",
              "      <td>1</td>\n",
              "      <td>1</td>\n",
              "      <td>0</td>\n",
              "      <td>0</td>\n",
              "      <td>1</td>\n",
              "      <td>0</td>\n",
              "      <td>2</td>\n",
              "    </tr>\n",
              "  </tbody>\n",
              "</table>\n",
              "</div>"
            ],
            "text/plain": [
              "   City  OnlineCommunication  ...  RetentionPotential  YearOfRegistration\n",
              "1     1                    1  ...                   0                   2\n",
              "2     1                    0  ...                   1                   2\n",
              "3     3                    0  ...                   0                   2\n",
              "4     1                    1  ...                   0                   1\n",
              "5     1                    1  ...                   0                   2\n",
              "\n",
              "[5 rows x 7 columns]"
            ]
          },
          "metadata": {},
          "execution_count": 309
        }
      ]
    },
    {
      "cell_type": "code",
      "metadata": {
        "id": "HE9ea863o93H"
      },
      "source": [
        "y = data[\"RetentionPotential\"]"
      ],
      "execution_count": 310,
      "outputs": []
    },
    {
      "cell_type": "code",
      "metadata": {
        "id": "olcHDTfUpOQv"
      },
      "source": [
        "data.drop(\"RetentionPotential\",axis=1,inplace=True)"
      ],
      "execution_count": 311,
      "outputs": []
    },
    {
      "cell_type": "code",
      "metadata": {
        "id": "sb0lTtQRe5uq"
      },
      "source": [
        "ohe = pd.get_dummies(data=data,columns=data.columns,drop_first=True)"
      ],
      "execution_count": 312,
      "outputs": []
    },
    {
      "cell_type": "code",
      "metadata": {
        "colab": {
          "base_uri": "https://localhost:8080/",
          "height": 224
        },
        "id": "hCy42m1xiPsw",
        "outputId": "2f67c08d-9161-49cf-99b1-d9f7ceec22d5"
      },
      "source": [
        "ohe.head()"
      ],
      "execution_count": 313,
      "outputs": [
        {
          "output_type": "execute_result",
          "data": {
            "text/html": [
              "<div>\n",
              "<style scoped>\n",
              "    .dataframe tbody tr th:only-of-type {\n",
              "        vertical-align: middle;\n",
              "    }\n",
              "\n",
              "    .dataframe tbody tr th {\n",
              "        vertical-align: top;\n",
              "    }\n",
              "\n",
              "    .dataframe thead th {\n",
              "        text-align: right;\n",
              "    }\n",
              "</style>\n",
              "<table border=\"1\" class=\"dataframe\">\n",
              "  <thead>\n",
              "    <tr style=\"text-align: right;\">\n",
              "      <th></th>\n",
              "      <th>City_1</th>\n",
              "      <th>City_2</th>\n",
              "      <th>City_3</th>\n",
              "      <th>OnlineCommunication_1</th>\n",
              "      <th>AutomaticRefill_1</th>\n",
              "      <th>DoorstepDelivery_1</th>\n",
              "      <th>PreferredDeliveryDay_1</th>\n",
              "      <th>PreferredDeliveryDay_2</th>\n",
              "      <th>PreferredDeliveryDay_3</th>\n",
              "      <th>PreferredDeliveryDay_4</th>\n",
              "      <th>PreferredDeliveryDay_5</th>\n",
              "      <th>PreferredDeliveryDay_6</th>\n",
              "      <th>YearOfRegistration_1</th>\n",
              "      <th>YearOfRegistration_2</th>\n",
              "      <th>YearOfRegistration_3</th>\n",
              "      <th>YearOfRegistration_4</th>\n",
              "      <th>YearOfRegistration_5</th>\n",
              "      <th>YearOfRegistration_6</th>\n",
              "      <th>YearOfRegistration_7</th>\n",
              "      <th>YearOfRegistration_8</th>\n",
              "      <th>YearOfRegistration_9</th>\n",
              "      <th>YearOfRegistration_10</th>\n",
              "    </tr>\n",
              "  </thead>\n",
              "  <tbody>\n",
              "    <tr>\n",
              "      <th>1</th>\n",
              "      <td>1</td>\n",
              "      <td>0</td>\n",
              "      <td>0</td>\n",
              "      <td>1</td>\n",
              "      <td>1</td>\n",
              "      <td>1</td>\n",
              "      <td>0</td>\n",
              "      <td>0</td>\n",
              "      <td>0</td>\n",
              "      <td>0</td>\n",
              "      <td>0</td>\n",
              "      <td>0</td>\n",
              "      <td>0</td>\n",
              "      <td>1</td>\n",
              "      <td>0</td>\n",
              "      <td>0</td>\n",
              "      <td>0</td>\n",
              "      <td>0</td>\n",
              "      <td>0</td>\n",
              "      <td>0</td>\n",
              "      <td>0</td>\n",
              "      <td>0</td>\n",
              "    </tr>\n",
              "    <tr>\n",
              "      <th>2</th>\n",
              "      <td>1</td>\n",
              "      <td>0</td>\n",
              "      <td>0</td>\n",
              "      <td>0</td>\n",
              "      <td>0</td>\n",
              "      <td>0</td>\n",
              "      <td>0</td>\n",
              "      <td>0</td>\n",
              "      <td>0</td>\n",
              "      <td>0</td>\n",
              "      <td>0</td>\n",
              "      <td>1</td>\n",
              "      <td>0</td>\n",
              "      <td>1</td>\n",
              "      <td>0</td>\n",
              "      <td>0</td>\n",
              "      <td>0</td>\n",
              "      <td>0</td>\n",
              "      <td>0</td>\n",
              "      <td>0</td>\n",
              "      <td>0</td>\n",
              "      <td>0</td>\n",
              "    </tr>\n",
              "    <tr>\n",
              "      <th>3</th>\n",
              "      <td>0</td>\n",
              "      <td>0</td>\n",
              "      <td>1</td>\n",
              "      <td>0</td>\n",
              "      <td>0</td>\n",
              "      <td>0</td>\n",
              "      <td>1</td>\n",
              "      <td>0</td>\n",
              "      <td>0</td>\n",
              "      <td>0</td>\n",
              "      <td>0</td>\n",
              "      <td>0</td>\n",
              "      <td>0</td>\n",
              "      <td>1</td>\n",
              "      <td>0</td>\n",
              "      <td>0</td>\n",
              "      <td>0</td>\n",
              "      <td>0</td>\n",
              "      <td>0</td>\n",
              "      <td>0</td>\n",
              "      <td>0</td>\n",
              "      <td>0</td>\n",
              "    </tr>\n",
              "    <tr>\n",
              "      <th>4</th>\n",
              "      <td>1</td>\n",
              "      <td>0</td>\n",
              "      <td>0</td>\n",
              "      <td>1</td>\n",
              "      <td>1</td>\n",
              "      <td>0</td>\n",
              "      <td>0</td>\n",
              "      <td>0</td>\n",
              "      <td>0</td>\n",
              "      <td>0</td>\n",
              "      <td>0</td>\n",
              "      <td>0</td>\n",
              "      <td>1</td>\n",
              "      <td>0</td>\n",
              "      <td>0</td>\n",
              "      <td>0</td>\n",
              "      <td>0</td>\n",
              "      <td>0</td>\n",
              "      <td>0</td>\n",
              "      <td>0</td>\n",
              "      <td>0</td>\n",
              "      <td>0</td>\n",
              "    </tr>\n",
              "    <tr>\n",
              "      <th>5</th>\n",
              "      <td>1</td>\n",
              "      <td>0</td>\n",
              "      <td>0</td>\n",
              "      <td>1</td>\n",
              "      <td>0</td>\n",
              "      <td>0</td>\n",
              "      <td>1</td>\n",
              "      <td>0</td>\n",
              "      <td>0</td>\n",
              "      <td>0</td>\n",
              "      <td>0</td>\n",
              "      <td>0</td>\n",
              "      <td>0</td>\n",
              "      <td>1</td>\n",
              "      <td>0</td>\n",
              "      <td>0</td>\n",
              "      <td>0</td>\n",
              "      <td>0</td>\n",
              "      <td>0</td>\n",
              "      <td>0</td>\n",
              "      <td>0</td>\n",
              "      <td>0</td>\n",
              "    </tr>\n",
              "  </tbody>\n",
              "</table>\n",
              "</div>"
            ],
            "text/plain": [
              "   City_1  City_2  ...  YearOfRegistration_9  YearOfRegistration_10\n",
              "1       1       0  ...                     0                      0\n",
              "2       1       0  ...                     0                      0\n",
              "3       0       0  ...                     0                      0\n",
              "4       1       0  ...                     0                      0\n",
              "5       1       0  ...                     0                      0\n",
              "\n",
              "[5 rows x 22 columns]"
            ]
          },
          "metadata": {},
          "execution_count": 313
        }
      ]
    },
    {
      "cell_type": "code",
      "metadata": {
        "id": "XSoSa6VNiZXJ"
      },
      "source": [
        "df = ohe.copy(deep=True)"
      ],
      "execution_count": 314,
      "outputs": []
    },
    {
      "cell_type": "code",
      "metadata": {
        "id": "_SRildyujUQo"
      },
      "source": [
        "%matplotlib inline\n",
        "from matplotlib import rcParams\n",
        "rcParams['figure.figsize'] = 16,12"
      ],
      "execution_count": 315,
      "outputs": []
    },
    {
      "cell_type": "code",
      "metadata": {
        "colab": {
          "base_uri": "https://localhost:8080/",
          "height": 833
        },
        "id": "a9PnuTlliuA8",
        "outputId": "278c6b7e-d19b-4fc0-b7c1-1cdd1838564f"
      },
      "source": [
        "# Plot to see correlation between columns\n",
        "correl = df.corr()\n",
        "sns.heatmap(correl,xticklabels=correl.columns,yticklabels=correl.columns,annot=True,cmap = 'coolwarm')"
      ],
      "execution_count": 316,
      "outputs": [
        {
          "output_type": "execute_result",
          "data": {
            "text/plain": [
              "<matplotlib.axes._subplots.AxesSubplot at 0x7f1648cf5f10>"
            ]
          },
          "metadata": {},
          "execution_count": 316
        },
        {
          "output_type": "display_data",
          "data": {
            "image/png": "[encoded data removed]",
            "text/plain": [
              "<Figure size 1152x864 with 2 Axes>"
            ]
          },
          "metadata": {
            "needs_background": "light"
          }
        }
      ]
    },
    {
      "cell_type": "code",
      "metadata": {
        "colab": {
          "base_uri": "https://localhost:8080/"
        },
        "id": "Z43zMwFVk9VH",
        "outputId": "5a6535a1-6b93-4c6e-ace3-c1077eabdaf5"
      },
      "source": [
        "# Split the data into train and validation sets\n",
        "X_train, X_val, y_train, y_val = train_test_split(df, y, test_size=0.20, random_state=0)\n",
        "# fitting the base model\n",
        "logit = LogisticRegression(fit_intercept=True)\n",
        "logit.fit(X_train, y_train)"
      ],
      "execution_count": 317,
      "outputs": [
        {
          "output_type": "execute_result",
          "data": {
            "text/plain": [
              "LogisticRegression(C=1.0, class_weight=None, dual=False, fit_intercept=True,\n",
              "                   intercept_scaling=1, l1_ratio=None, max_iter=100,\n",
              "                   multi_class='auto', n_jobs=None, penalty='l2',\n",
              "                   random_state=None, solver='lbfgs', tol=0.0001, verbose=0,\n",
              "                   warm_start=False)"
            ]
          },
          "metadata": {},
          "execution_count": 317
        }
      ]
    },
    {
      "cell_type": "code",
      "metadata": {
        "colab": {
          "base_uri": "https://localhost:8080/"
        },
        "id": "sa6p_f3Up-Xq",
        "outputId": "8376e8b5-ae69-4ff6-8a10-ee7c675dc546"
      },
      "source": [
        "train_pred = logit.predict(X_train)\n",
        "test_pred = logit.predict(X_val)\n",
        "\n",
        "print(logit.score(X_train, y_train))\n",
        "print(logit.score(X_val, y_val))\n",
        "print(\"\\n\")\n",
        "print(confusion_matrix(y_true=y_train, y_pred = train_pred))\n",
        "\n",
        "confusion_matrix_test = confusion_matrix(y_true=y_val, y_pred =  test_pred)\n",
        "confusion_matrix_test"
      ],
      "execution_count": 320,
      "outputs": [
        {
          "output_type": "stream",
          "name": "stdout",
          "text": [
            "0.9551429817456857\n",
            "0.9603787690007476\n",
            "\n",
            "\n",
            "[[15331     0]\n",
            " [  720     0]]\n"
          ]
        },
        {
          "output_type": "execute_result",
          "data": {
            "text/plain": [
              "array([[3854,    0],\n",
              "       [ 159,    0]])"
            ]
          },
          "metadata": {},
          "execution_count": 320
        }
      ]
    },
    {
      "cell_type": "code",
      "metadata": {
        "id": "jaVqSTQJqQUf"
      },
      "source": [
        "# A function to display the evaluation metrics (recall)\n",
        "meterData = []\n",
        "def metrics(modeName,model,X_train,X_test,y_train,y_test):\n",
        "    \n",
        "    print(\"------------->\",modeName,\"\\n\")\n",
        "    train_pred = model.predict(X_train)\n",
        "    test_pred = model.predict(X_test)\n",
        "    scoreTr = model.score(X_train, y_train)\n",
        "    scoreTe = model.score(X_test, y_test)\n",
        "    \n",
        "    acc = accuracy_score(y_test,test_pred)\n",
        "    rec = recall_score(y_test,test_pred)\n",
        "    prec = precision_score(y_test,test_pred)\n",
        "    \n",
        "    print(\"Test \\n\",confusion_matrix(y_true=y_test, y_pred =  test_pred),\"\\n\")\n",
        "    print(\"Train \\n\",confusion_matrix(y_true=y_train, y_pred =  train_pred))   \n",
        "    print(\"\\n\")\n",
        "    temp = {'Model': modeName, 'Accuracy': acc, 'Recall': rec,'Precision':prec,\n",
        "                  'TrainScore': scoreTr,'TestScore': scoreTe}\n",
        "    \n",
        "    meterData.append(temp)"
      ],
      "execution_count": 350,
      "outputs": []
    },
    {
      "cell_type": "code",
      "metadata": {
        "colab": {
          "base_uri": "https://localhost:8080/"
        },
        "id": "UYIMEMAVrQU6",
        "outputId": "319a34ff-3161-4b6f-d2c6-59e8f0e8f76a"
      },
      "source": [
        "meterData"
      ],
      "execution_count": 327,
      "outputs": [
        {
          "output_type": "execute_result",
          "data": {
            "text/plain": [
              "[]"
            ]
          },
          "metadata": {},
          "execution_count": 327
        }
      ]
    },
    {
      "cell_type": "code",
      "metadata": {
        "id": "WS3aHljFw_eW"
      },
      "source": [
        "from imblearn.ensemble import BalancedBaggingClassifier, BalancedRandomForestClassifier\n",
        "#Using BalancedBaggingClassifier to overcome Class Imabalance"
      ],
      "execution_count": null,
      "outputs": []
    },
    {
      "cell_type": "code",
      "metadata": {
        "id": "f5XSNIGxq2L1"
      },
      "source": [
        "#defining a dict of classifiers\n",
        "models= {'DT': DecisionTreeClassifier(),\n",
        "'RF': RandomForestClassifier(),\n",
        "'GBM':GradientBoostingClassifier(),\n",
        "'SVM' : SVC(),\n",
        "'AdaB': AdaBoostClassifier(),\n",
        "'Bbc' : BalancedBaggingClassifier(random_state=42)}\n",
        "#'Brf' : BalancedRandomForestClassifier()}"
      ],
      "execution_count": 347,
      "outputs": []
    },
    {
      "cell_type": "code",
      "metadata": {
        "colab": {
          "base_uri": "https://localhost:8080/"
        },
        "id": "BfLMMCtxrp_r",
        "outputId": "de3cbe45-0f50-44ff-b670-d14c5c1b4e63"
      },
      "source": [
        "# Run in a loop to see which one gives good result\n",
        "for key,classifier in models.items():\n",
        "    \n",
        "    classifier.fit(X_train,y_train)\n",
        "    metrics(key,classifier,X_train,X_val,y_train,y_val)"
      ],
      "execution_count": 348,
      "outputs": [
        {
          "output_type": "stream",
          "name": "stdout",
          "text": [
            "-------------> DT \n",
            "\n",
            "Test \n",
            " [[3850    4]\n",
            " [ 159    0]] \n",
            "\n",
            "Train \n",
            " [[15331     0]\n",
            " [  703    17]]\n",
            "\n",
            "\n",
            "-------------> RF \n",
            "\n",
            "Test \n",
            " [[3851    3]\n",
            " [ 158    1]] \n",
            "\n",
            "Train \n",
            " [[15329     2]\n",
            " [  701    19]]\n",
            "\n",
            "\n",
            "-------------> GBM \n",
            "\n",
            "Test \n",
            " [[3852    2]\n",
            " [ 159    0]] \n",
            "\n",
            "Train \n",
            " [[15331     0]\n",
            " [  715     5]]\n",
            "\n",
            "\n",
            "-------------> SVM \n",
            "\n"
          ]
        },
        {
          "output_type": "stream",
          "name": "stderr",
          "text": [
            "/usr/local/lib/python3.7/dist-packages/sklearn/metrics/_classification.py:1272: UndefinedMetricWarning: Precision is ill-defined and being set to 0.0 due to no predicted samples. Use `zero_division` parameter to control this behavior.\n",
            "  _warn_prf(average, modifier, msg_start, len(result))\n"
          ]
        },
        {
          "output_type": "stream",
          "name": "stdout",
          "text": [
            "Test \n",
            " [[3854    0]\n",
            " [ 159    0]] \n",
            "\n",
            "Train \n",
            " [[15331     0]\n",
            " [  720     0]]\n",
            "\n",
            "\n",
            "-------------> AdaB \n",
            "\n"
          ]
        },
        {
          "output_type": "stream",
          "name": "stderr",
          "text": [
            "/usr/local/lib/python3.7/dist-packages/sklearn/metrics/_classification.py:1272: UndefinedMetricWarning: Precision is ill-defined and being set to 0.0 due to no predicted samples. Use `zero_division` parameter to control this behavior.\n",
            "  _warn_prf(average, modifier, msg_start, len(result))\n",
            "/usr/local/lib/python3.7/dist-packages/sklearn/utils/deprecation.py:87: FutureWarning: Function safe_indexing is deprecated; safe_indexing is deprecated in version 0.22 and will be removed in version 0.24.\n",
            "  warnings.warn(msg, category=FutureWarning)\n",
            "/usr/local/lib/python3.7/dist-packages/sklearn/utils/deprecation.py:87: FutureWarning: Function safe_indexing is deprecated; safe_indexing is deprecated in version 0.22 and will be removed in version 0.24.\n",
            "  warnings.warn(msg, category=FutureWarning)\n",
            "/usr/local/lib/python3.7/dist-packages/sklearn/utils/deprecation.py:87: FutureWarning: Function safe_indexing is deprecated; safe_indexing is deprecated in version 0.22 and will be removed in version 0.24.\n",
            "  warnings.warn(msg, category=FutureWarning)\n",
            "/usr/local/lib/python3.7/dist-packages/sklearn/utils/deprecation.py:87: FutureWarning: Function safe_indexing is deprecated; safe_indexing is deprecated in version 0.22 and will be removed in version 0.24.\n",
            "  warnings.warn(msg, category=FutureWarning)\n",
            "/usr/local/lib/python3.7/dist-packages/sklearn/utils/deprecation.py:87: FutureWarning: Function safe_indexing is deprecated; safe_indexing is deprecated in version 0.22 and will be removed in version 0.24.\n",
            "  warnings.warn(msg, category=FutureWarning)\n",
            "/usr/local/lib/python3.7/dist-packages/sklearn/utils/deprecation.py:87: FutureWarning: Function safe_indexing is deprecated; safe_indexing is deprecated in version 0.22 and will be removed in version 0.24.\n",
            "  warnings.warn(msg, category=FutureWarning)\n",
            "/usr/local/lib/python3.7/dist-packages/sklearn/utils/deprecation.py:87: FutureWarning: Function safe_indexing is deprecated; safe_indexing is deprecated in version 0.22 and will be removed in version 0.24.\n",
            "  warnings.warn(msg, category=FutureWarning)\n",
            "/usr/local/lib/python3.7/dist-packages/sklearn/utils/deprecation.py:87: FutureWarning: Function safe_indexing is deprecated; safe_indexing is deprecated in version 0.22 and will be removed in version 0.24.\n",
            "  warnings.warn(msg, category=FutureWarning)\n",
            "/usr/local/lib/python3.7/dist-packages/sklearn/utils/deprecation.py:87: FutureWarning: Function safe_indexing is deprecated; safe_indexing is deprecated in version 0.22 and will be removed in version 0.24.\n",
            "  warnings.warn(msg, category=FutureWarning)\n",
            "/usr/local/lib/python3.7/dist-packages/sklearn/utils/deprecation.py:87: FutureWarning: Function safe_indexing is deprecated; safe_indexing is deprecated in version 0.22 and will be removed in version 0.24.\n",
            "  warnings.warn(msg, category=FutureWarning)\n"
          ]
        },
        {
          "output_type": "stream",
          "name": "stdout",
          "text": [
            "Test \n",
            " [[3854    0]\n",
            " [ 159    0]] \n",
            "\n",
            "Train \n",
            " [[15331     0]\n",
            " [  720     0]]\n",
            "\n",
            "\n",
            "-------------> Bbc \n",
            "\n",
            "Test \n",
            " [[2741 1113]\n",
            " [  51  108]] \n",
            "\n",
            "Train \n",
            " [[10999  4332]\n",
            " [  178   542]]\n",
            "\n",
            "\n"
          ]
        }
      ]
    },
    {
      "cell_type": "code",
      "metadata": {
        "colab": {
          "base_uri": "https://localhost:8080/",
          "height": 576
        },
        "id": "ezF7lc3SrtAW",
        "outputId": "f18de8c3-b38d-4add-cb64-cc6926299c8e"
      },
      "source": [
        "#Defining a dataframe to display the score\n",
        "meter = pd.DataFrame(columns=[\"Model\",\"Accuracy\",\"Recall\",\"Precision\",\"TrainScore\",\"TestScore\"])\n",
        "#Display the score\n",
        "meter = meter.append(meterData,ignore_index=True)\n",
        "meter"
      ],
      "execution_count": 352,
      "outputs": [
        {
          "output_type": "execute_result",
          "data": {
            "text/html": [
              "<div>\n",
              "<style scoped>\n",
              "    .dataframe tbody tr th:only-of-type {\n",
              "        vertical-align: middle;\n",
              "    }\n",
              "\n",
              "    .dataframe tbody tr th {\n",
              "        vertical-align: top;\n",
              "    }\n",
              "\n",
              "    .dataframe thead th {\n",
              "        text-align: right;\n",
              "    }\n",
              "</style>\n",
              "<table border=\"1\" class=\"dataframe\">\n",
              "  <thead>\n",
              "    <tr style=\"text-align: right;\">\n",
              "      <th></th>\n",
              "      <th>Model</th>\n",
              "      <th>Accuracy</th>\n",
              "      <th>Recall</th>\n",
              "      <th>Precision</th>\n",
              "      <th>TrainScore</th>\n",
              "      <th>TestScore</th>\n",
              "    </tr>\n",
              "  </thead>\n",
              "  <tbody>\n",
              "    <tr>\n",
              "      <th>0</th>\n",
              "      <td>DT</td>\n",
              "      <td>0.959382</td>\n",
              "      <td>0.000000</td>\n",
              "      <td>0.000000</td>\n",
              "      <td>0.956202</td>\n",
              "      <td>0.959382</td>\n",
              "    </tr>\n",
              "    <tr>\n",
              "      <th>1</th>\n",
              "      <td>RF</td>\n",
              "      <td>0.959631</td>\n",
              "      <td>0.006289</td>\n",
              "      <td>0.200000</td>\n",
              "      <td>0.956202</td>\n",
              "      <td>0.959631</td>\n",
              "    </tr>\n",
              "    <tr>\n",
              "      <th>2</th>\n",
              "      <td>GBM</td>\n",
              "      <td>0.959880</td>\n",
              "      <td>0.000000</td>\n",
              "      <td>0.000000</td>\n",
              "      <td>0.955454</td>\n",
              "      <td>0.959880</td>\n",
              "    </tr>\n",
              "    <tr>\n",
              "      <th>3</th>\n",
              "      <td>SVM</td>\n",
              "      <td>0.960379</td>\n",
              "      <td>0.000000</td>\n",
              "      <td>0.000000</td>\n",
              "      <td>0.955143</td>\n",
              "      <td>0.960379</td>\n",
              "    </tr>\n",
              "    <tr>\n",
              "      <th>4</th>\n",
              "      <td>AdaB</td>\n",
              "      <td>0.960379</td>\n",
              "      <td>0.000000</td>\n",
              "      <td>0.000000</td>\n",
              "      <td>0.955143</td>\n",
              "      <td>0.960379</td>\n",
              "    </tr>\n",
              "    <tr>\n",
              "      <th>5</th>\n",
              "      <td>DT</td>\n",
              "      <td>0.959631</td>\n",
              "      <td>0.000000</td>\n",
              "      <td>0.000000</td>\n",
              "      <td>0.956202</td>\n",
              "      <td>0.959631</td>\n",
              "    </tr>\n",
              "    <tr>\n",
              "      <th>6</th>\n",
              "      <td>RF</td>\n",
              "      <td>0.959631</td>\n",
              "      <td>0.006289</td>\n",
              "      <td>0.200000</td>\n",
              "      <td>0.956202</td>\n",
              "      <td>0.959631</td>\n",
              "    </tr>\n",
              "    <tr>\n",
              "      <th>7</th>\n",
              "      <td>GBM</td>\n",
              "      <td>0.959880</td>\n",
              "      <td>0.000000</td>\n",
              "      <td>0.000000</td>\n",
              "      <td>0.955454</td>\n",
              "      <td>0.959880</td>\n",
              "    </tr>\n",
              "    <tr>\n",
              "      <th>8</th>\n",
              "      <td>SVM</td>\n",
              "      <td>0.960379</td>\n",
              "      <td>0.000000</td>\n",
              "      <td>0.000000</td>\n",
              "      <td>0.955143</td>\n",
              "      <td>0.960379</td>\n",
              "    </tr>\n",
              "    <tr>\n",
              "      <th>9</th>\n",
              "      <td>AdaB</td>\n",
              "      <td>0.960379</td>\n",
              "      <td>0.000000</td>\n",
              "      <td>0.000000</td>\n",
              "      <td>0.955143</td>\n",
              "      <td>0.960379</td>\n",
              "    </tr>\n",
              "    <tr>\n",
              "      <th>10</th>\n",
              "      <td>Bbc</td>\n",
              "      <td>0.709943</td>\n",
              "      <td>0.679245</td>\n",
              "      <td>0.088452</td>\n",
              "      <td>0.719021</td>\n",
              "      <td>0.709943</td>\n",
              "    </tr>\n",
              "    <tr>\n",
              "      <th>11</th>\n",
              "      <td>DT</td>\n",
              "      <td>0.959382</td>\n",
              "      <td>0.000000</td>\n",
              "      <td>0.000000</td>\n",
              "      <td>0.956202</td>\n",
              "      <td>0.959382</td>\n",
              "    </tr>\n",
              "    <tr>\n",
              "      <th>12</th>\n",
              "      <td>RF</td>\n",
              "      <td>0.959880</td>\n",
              "      <td>0.006289</td>\n",
              "      <td>0.250000</td>\n",
              "      <td>0.956202</td>\n",
              "      <td>0.959880</td>\n",
              "    </tr>\n",
              "    <tr>\n",
              "      <th>13</th>\n",
              "      <td>GBM</td>\n",
              "      <td>0.959880</td>\n",
              "      <td>0.000000</td>\n",
              "      <td>0.000000</td>\n",
              "      <td>0.955454</td>\n",
              "      <td>0.959880</td>\n",
              "    </tr>\n",
              "    <tr>\n",
              "      <th>14</th>\n",
              "      <td>SVM</td>\n",
              "      <td>0.960379</td>\n",
              "      <td>0.000000</td>\n",
              "      <td>0.000000</td>\n",
              "      <td>0.955143</td>\n",
              "      <td>0.960379</td>\n",
              "    </tr>\n",
              "    <tr>\n",
              "      <th>15</th>\n",
              "      <td>AdaB</td>\n",
              "      <td>0.960379</td>\n",
              "      <td>0.000000</td>\n",
              "      <td>0.000000</td>\n",
              "      <td>0.955143</td>\n",
              "      <td>0.960379</td>\n",
              "    </tr>\n",
              "    <tr>\n",
              "      <th>16</th>\n",
              "      <td>Bbc</td>\n",
              "      <td>0.709943</td>\n",
              "      <td>0.679245</td>\n",
              "      <td>0.088452</td>\n",
              "      <td>0.719021</td>\n",
              "      <td>0.709943</td>\n",
              "    </tr>\n",
              "  </tbody>\n",
              "</table>\n",
              "</div>"
            ],
            "text/plain": [
              "   Model  Accuracy    Recall  Precision  TrainScore  TestScore\n",
              "0     DT  0.959382  0.000000   0.000000    0.956202   0.959382\n",
              "1     RF  0.959631  0.006289   0.200000    0.956202   0.959631\n",
              "2    GBM  0.959880  0.000000   0.000000    0.955454   0.959880\n",
              "3    SVM  0.960379  0.000000   0.000000    0.955143   0.960379\n",
              "4   AdaB  0.960379  0.000000   0.000000    0.955143   0.960379\n",
              "5     DT  0.959631  0.000000   0.000000    0.956202   0.959631\n",
              "6     RF  0.959631  0.006289   0.200000    0.956202   0.959631\n",
              "7    GBM  0.959880  0.000000   0.000000    0.955454   0.959880\n",
              "8    SVM  0.960379  0.000000   0.000000    0.955143   0.960379\n",
              "9   AdaB  0.960379  0.000000   0.000000    0.955143   0.960379\n",
              "10   Bbc  0.709943  0.679245   0.088452    0.719021   0.709943\n",
              "11    DT  0.959382  0.000000   0.000000    0.956202   0.959382\n",
              "12    RF  0.959880  0.006289   0.250000    0.956202   0.959880\n",
              "13   GBM  0.959880  0.000000   0.000000    0.955454   0.959880\n",
              "14   SVM  0.960379  0.000000   0.000000    0.955143   0.960379\n",
              "15  AdaB  0.960379  0.000000   0.000000    0.955143   0.960379\n",
              "16   Bbc  0.709943  0.679245   0.088452    0.719021   0.709943"
            ]
          },
          "metadata": {},
          "execution_count": 352
        }
      ]
    },
    {
      "cell_type": "code",
      "metadata": {
        "id": "VbP8GQPTyoga"
      },
      "source": [
        "import warnings\n",
        "warnings.filterwarnings(\"ignore\")"
      ],
      "execution_count": 354,
      "outputs": []
    },
    {
      "cell_type": "code",
      "metadata": {
        "colab": {
          "base_uri": "https://localhost:8080/"
        },
        "id": "6G4pj_SksWEC",
        "outputId": "4183c87c-fb85-4010-9f95-99935c040a60"
      },
      "source": [
        "# Sticking with BalancedBagging classifier \n",
        "bbc = BalancedBaggingClassifier(random_state=42)\n",
        "bbc.fit(X_train, y_train) \n",
        "BalancedBaggingClassifier()\n",
        "y_pred = bbc.predict(X_val)\n",
        "print(confusion_matrix(y_val, y_pred))\n",
        "print(recall_score(y_val,y_pred))"
      ],
      "execution_count": 355,
      "outputs": [
        {
          "output_type": "stream",
          "name": "stdout",
          "text": [
            "[[2741 1113]\n",
            " [  51  108]]\n",
            "0.6792452830188679\n"
          ]
        }
      ]
    },
    {
      "cell_type": "code",
      "metadata": {
        "id": "UicwW8X6vwuq"
      },
      "source": [
        ""
      ],
      "execution_count": 335,
      "outputs": []
    }
  ]
}